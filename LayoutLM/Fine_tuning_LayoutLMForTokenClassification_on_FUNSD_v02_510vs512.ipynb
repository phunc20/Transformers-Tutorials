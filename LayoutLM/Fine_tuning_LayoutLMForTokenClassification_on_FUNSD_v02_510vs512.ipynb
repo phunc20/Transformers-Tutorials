{
 "cells": [
  {
   "cell_type": "markdown",
   "metadata": {
    "colab_type": "text",
    "id": "view-in-github"
   },
   "source": [
    "<a href=\"https://colab.research.google.com/github/NielsRogge/Transformers-Tutorials/blob/master/Fine_tuning_LayoutLMForTokenClassification_on_FUNSD.ipynb\" target=\"_parent\"><img src=\"https://colab.research.google.com/assets/colab-badge.svg\" alt=\"Open In Colab\"/></a>"
   ]
  },
  {
   "cell_type": "markdown",
   "metadata": {
    "id": "ngqdEv0rP01q"
   },
   "source": [
    "## Introduction\n",
    "\n",
    "In this notebook, we are going to fine-tune the LayoutLM model by Microsoft Research on the [FUNSD](https://guillaumejaume.github.io/FUNSD/) dataset, which is a collection of annotated form documents. The goal of our model is to learn the annotations of a number of labels (\"question\", \"answer\", \"header\" and \"other\") on those forms, such that it can be used to annotate unseen forms in the future.\n",
    "\n",
    "* Original LayoutLM paper: https://arxiv.org/abs/1912.13318\n",
    "\n",
    "* Original FUNSD paper: https://arxiv.org/abs/1905.13538\n"
   ]
  },
  {
   "cell_type": "markdown",
   "metadata": {
    "id": "6K4S2s33ebY0"
   },
   "source": [
    "## Install libraries\n",
    "\n",
    "Currently you have to first install the `unilm` package, and then the `transformers` package (which updates the outdated `transformers` package that is included in the `unilm` package). The reason we also install the `unilm` package is because we need its preprocessing files. I've forked it, and removed some statements which introduced some issues."
   ]
  },
  {
   "cell_type": "code",
   "execution_count": 1,
   "metadata": {
    "colab": {
     "base_uri": "https://localhost:8080/",
     "height": 1000
    },
    "id": "5cngOTr6SqEf",
    "outputId": "6c7a2f76-682b-4f93-a3db-59ab010e5ffe"
   },
   "outputs": [
    {
     "name": "stdout",
     "output_type": "stream",
     "text": [
      "Repo /home/phunc20/git-repos/NielsRogge/unilm already exists.\n"
     ]
    }
   ],
   "source": [
    "%%bash\n",
    "unilm=\"$HOME/git-repos/NielsRogge/unilm\"\n",
    "if [ ! -d \"$unilm\" ]; then\n",
    "    echo \"Repo $unilm not exist yet. Downloading into $unilm\" && \\\n",
    "    mkdir -p $(dirname $unilm) && \\\n",
    "    git clone -b remove_torch_save \\\n",
    "    https://github.com/NielsRogge/unilm.git $unilm\n",
    "else\n",
    "    echo \"Repo $unilm already exists.\"\n",
    "fi"
   ]
  },
  {
   "cell_type": "code",
   "execution_count": 2,
   "metadata": {
    "scrolled": true
   },
   "outputs": [
    {
     "name": "stdout",
     "output_type": "stream",
     "text": [
      "\r\n"
     ]
    }
   ],
   "source": [
    "!echo \"$unilm\""
   ]
  },
  {
   "cell_type": "markdown",
   "metadata": {},
   "source": [
    "> Shell variables defined in one cell are **forgotten** in subsequent cells.\n",
    "\n",
    "Let's define the `unilm` path in Python instead. Recall that in bash cells, Python variables are referred to by surrounding them with _curly braces_ `{}`."
   ]
  },
  {
   "cell_type": "code",
   "execution_count": 3,
   "metadata": {},
   "outputs": [
    {
     "data": {
      "text/plain": [
       "PosixPath('/home/phunc20/git-repos/NielsRogge/unilm')"
      ]
     },
     "execution_count": 3,
     "metadata": {},
     "output_type": "execute_result"
    }
   ],
   "source": [
    "from pathlib import Path\n",
    "unilm = Path.home() / \"git-repos/NielsRogge/unilm\"\n",
    "unilm"
   ]
  },
  {
   "cell_type": "code",
   "execution_count": 4,
   "metadata": {
    "colab": {
     "base_uri": "https://localhost:8080/",
     "height": 1000
    },
    "id": "5cngOTr6SqEf",
    "outputId": "6c7a2f76-682b-4f93-a3db-59ab010e5ffe"
   },
   "outputs": [
    {
     "name": "stdout",
     "output_type": "stream",
     "text": [
      "\r\n",
      "/home/phunc20/git-repos/NielsRogge/unilm already pip install'ed\r\n"
     ]
    }
   ],
   "source": [
    "# Install layoutlm if not already installed\n",
    "!pip list | grep layoutlm > /dev/null && printf \"\\n{unilm} already pip install'ed\\n\""
   ]
  },
  {
   "cell_type": "code",
   "execution_count": 5,
   "metadata": {
    "colab": {
     "base_uri": "https://localhost:8080/",
     "height": 1000
    },
    "id": "5cngOTr6SqEf",
    "outputId": "6c7a2f76-682b-4f93-a3db-59ab010e5ffe"
   },
   "outputs": [],
   "source": [
    "!pip list | grep layoutlm > /dev/null || pip install -e \"{unilm}/layoutlm\""
   ]
  },
  {
   "cell_type": "markdown",
   "metadata": {},
   "source": [
    "Next we do the same for `huggingface`'s `transformers` package."
   ]
  },
  {
   "cell_type": "code",
   "execution_count": 6,
   "metadata": {},
   "outputs": [
    {
     "data": {
      "text/plain": [
       "PosixPath('/home/phunc20/git-repos/huggingface/transformers')"
      ]
     },
     "execution_count": 6,
     "metadata": {},
     "output_type": "execute_result"
    }
   ],
   "source": [
    "transformers = Path.home() / \"git-repos/huggingface/transformers\"\n",
    "transformers"
   ]
  },
  {
   "cell_type": "markdown",
   "metadata": {},
   "source": [
    "We don't use `%%bash` magic in the next cell because\n",
    "> Even Python variable cannot be read in a `%%bash` cell. On the contrary, a one-liner bash command is aware of the existence of all Python variables (in `globals()`)"
   ]
  },
  {
   "cell_type": "code",
   "execution_count": 7,
   "metadata": {},
   "outputs": [],
   "source": [
    "![ ! -d \"{transformers}\" ] && \\\n",
    "    echo \"Repo {transformers} NOT exist YET. Downloading...\" && \\\n",
    "    mkdir -p $(dirname \"{transformers}\") && \\\n",
    "    git clone https://github.com/huggingface/transformers.git \\\n",
    "              \"{transformers}\" && \\\n",
    "    pip install \"{transformers}\""
   ]
  },
  {
   "cell_type": "markdown",
   "metadata": {},
   "source": [
    "The next cell is not necessary because future import will _simply overwrite the variable names_."
   ]
  },
  {
   "cell_type": "raw",
   "metadata": {},
   "source": [
    "# clean namespace.\n",
    "if \"unilm\" in globals():\n",
    "    del unilm\n",
    "if \"transformers\" in globals():\n",
    "    del transformers"
   ]
  },
  {
   "cell_type": "markdown",
   "metadata": {
    "id": "RGMkEG5aRB0D"
   },
   "source": [
    "## Getting the data\n",
    "\n",
    "Here we download the data of the [FUNSD dataset](https://guillaumejaume.github.io/FUNSD/) from the web. This results in a directory called being created (under the path `~/datasets/ocr/funsd`), which contains 2 subdirectories, one for training and the other for testing. Each of these has 2 subfolders again\n",
    "\n",
    "- `images/` contains the PNG image files\n",
    "- `annotations` contains the annotations in JSON format\n",
    "\n",
    "```bash\n",
    "tree -L 3 ~/datasets/ocr/funsd\n",
    "/home/phunc20/datasets/ocr/funsd\n",
    "└── dataset\n",
    "    ├── testing_data\n",
    "    │   ├── annotations\n",
    "    │   └── images\n",
    "    └── training_data\n",
    "        ├── annotations\n",
    "        └── images\n",
    "   \n",
    "7 directories, 0 files\n",
    "```"
   ]
  },
  {
   "cell_type": "code",
   "execution_count": 8,
   "metadata": {
    "colab": {
     "base_uri": "https://localhost:8080/"
    },
    "id": "DTFnEZagQm4v",
    "outputId": "97ce03ba-a6bb-4444-8eba-77eceece44e0",
    "scrolled": false
   },
   "outputs": [],
   "source": [
    "from pathlib import Path\n",
    "path_dataset_download = Path.home() / \"datasets/ocr/funsd/\"\n",
    "if not path_dataset_download.exists():\n",
    "    path_dataset_download.mkdir(parents=True)\n",
    "\n",
    "path_zip = path_dataset_download / \"dataset.zip\"\n",
    "path_dataset = path_zip.parent / path_zip.stem\n",
    "\n",
    "! [ ! -d {path_dataset} ] && \\\n",
    "    wget https://guillaumejaume.github.io/FUNSD/dataset.zip \\\n",
    "    -P {path_dataset_download}"
   ]
  },
  {
   "cell_type": "code",
   "execution_count": 9,
   "metadata": {
    "colab": {
     "base_uri": "https://localhost:8080/"
    },
    "id": "DTFnEZagQm4v",
    "outputId": "97ce03ba-a6bb-4444-8eba-77eceece44e0"
   },
   "outputs": [],
   "source": [
    "if path_zip.exists():\n",
    "    if not path_dataset.is_dir():\n",
    "        !unzip -d \"{path_dataset_download}\" \"{path_zip}\"\n",
    "    path_zip.unlink()\n",
    "    !rm -r {path_dataset_download}/__MACOSX"
   ]
  },
  {
   "cell_type": "markdown",
   "metadata": {
    "id": "UrNMR64LsJXm"
   },
   "source": [
    "Let's take a look at a training example. For this, we are going to use `PIL`."
   ]
  },
  {
   "cell_type": "code",
   "execution_count": 60,
   "metadata": {
    "colab": {
     "base_uri": "https://localhost:8080/",
     "height": 1000
    },
    "id": "eG-eGcj3sNPs",
    "outputId": "69ead0ea-15d6-4d5e-af61-a99a7533d31b"
   },
   "outputs": [
    {
     "data": {
      "text/plain": [
       "'L'"
      ]
     },
     "execution_count": 60,
     "metadata": {},
     "output_type": "execute_result"
    }
   ],
   "source": [
    "from PIL import Image, ImageDraw, ImageFont\n",
    "\n",
    "demo_id = \"0000971160\"\n",
    "image = Image.open(path_dataset/f\"training_data/images/{demo_id}.png\")\n",
    "image.mode"
   ]
  },
  {
   "cell_type": "code",
   "execution_count": 61,
   "metadata": {
    "colab": {
     "base_uri": "https://localhost:8080/",
     "height": 1000
    },
    "id": "eG-eGcj3sNPs",
    "outputId": "69ead0ea-15d6-4d5e-af61-a99a7533d31b"
   },
   "outputs": [
    {
     "data": {
      "image/png": "[encoded data removed]",
      "text/plain": [
       "<PIL.Image.Image image mode=RGB size=762x1000 at 0x7F3E3C68D790>"
      ]
     },
     "execution_count": 61,
     "metadata": {},
     "output_type": "execute_result"
    }
   ],
   "source": [
    "image = image.convert(\"RGB\")\n",
    "image"
   ]
  },
  {
   "cell_type": "markdown",
   "metadata": {
    "id": "uAVffmnZyUvw"
   },
   "source": [
    "Now let's draw its annotations. Basically, if you type `data['form']` (cf. below), you get a list of all general annotations. Each general annotation has a label, a bounding box, and one or more words, which in turn also have their own bounding boxes. The bounding boxes are in\n",
    "```\n",
    "[topleft_x, topleft_y, bottomright_x, bottomright_y]\n",
    "```\n",
    " format."
   ]
  },
  {
   "cell_type": "code",
   "execution_count": 12,
   "metadata": {
    "colab": {
     "base_uri": "https://localhost:8080/"
    },
    "id": "JPKkuJQ4sdZc",
    "outputId": "c95bf306-98bb-4480-cc6b-ebb3aea548b3"
   },
   "outputs": [
    {
     "name": "stdout",
     "output_type": "stream",
     "text": [
      "{'box': [292, 91, 376, 175],\n",
      " 'id': 0,\n",
      " 'label': 'other',\n",
      " 'linking': [],\n",
      " 'text': 'R&D',\n",
      " 'words': [{'box': [292, 91, 376, 175], 'text': 'R&D'}]}\n",
      "\n",
      "{'box': [219, 316, 225, 327],\n",
      " 'id': 1,\n",
      " 'label': 'question',\n",
      " 'linking': [],\n",
      " 'text': ':',\n",
      " 'words': [{'box': [219, 316, 225, 327], 'text': ':'}]}\n",
      "\n",
      "{'box': [95, 355, 169, 370],\n",
      " 'id': 2,\n",
      " 'label': 'question',\n",
      " 'linking': [[2, 16]],\n",
      " 'text': 'Suggestion:',\n",
      " 'words': [{'box': [95, 355, 169, 370], 'text': 'Suggestion:'}]}\n",
      "\n"
     ]
    }
   ],
   "source": [
    "import json\n",
    "import pprint\n",
    "\n",
    "with open(path_dataset/'training_data/annotations/{demo_id}.json') as f:\n",
    "    data = json.load(f)\n",
    "\n",
    "for i, annotation in enumerate(data['form']):\n",
    "    if i > 2:\n",
    "        break\n",
    "    pprint.pprint(annotation)\n",
    "    print()"
   ]
  },
  {
   "cell_type": "code",
   "execution_count": 13,
   "metadata": {},
   "outputs": [
    {
     "data": {
      "text/plain": [
       "dict_keys(['form'])"
      ]
     },
     "execution_count": 13,
     "metadata": {},
     "output_type": "execute_result"
    }
   ],
   "source": [
    "data.keys()"
   ]
  },
  {
   "cell_type": "code",
   "execution_count": 14,
   "metadata": {},
   "outputs": [
    {
     "data": {
      "text/plain": [
       "list"
      ]
     },
     "execution_count": 14,
     "metadata": {},
     "output_type": "execute_result"
    }
   ],
   "source": [
    "type(data[\"form\"])"
   ]
  },
  {
   "cell_type": "code",
   "execution_count": 15,
   "metadata": {},
   "outputs": [
    {
     "data": {
      "text/plain": [
       "24"
      ]
     },
     "execution_count": 15,
     "metadata": {},
     "output_type": "execute_result"
    }
   ],
   "source": [
    "len(data[\"form\"])"
   ]
  },
  {
   "cell_type": "code",
   "execution_count": 16,
   "metadata": {},
   "outputs": [
    {
     "data": {
      "text/plain": [
       "{'box': [292, 91, 376, 175],\n",
       " 'text': 'R&D',\n",
       " 'label': 'other',\n",
       " 'words': [{'box': [292, 91, 376, 175], 'text': 'R&D'}],\n",
       " 'linking': [],\n",
       " 'id': 0}"
      ]
     },
     "execution_count": 16,
     "metadata": {},
     "output_type": "execute_result"
    }
   ],
   "source": [
    "data[\"form\"][0]"
   ]
  },
  {
   "cell_type": "markdown",
   "metadata": {
    "id": "Hs4L3S5a2Gfb"
   },
   "source": [
    "The PIL library has a handy ImageDraw module, which, you guessed it, allows to draw things (such as rectangles) on an image:"
   ]
  },
  {
   "cell_type": "code",
   "execution_count": 17,
   "metadata": {
    "colab": {
     "base_uri": "https://localhost:8080/",
     "height": 1000
    },
    "id": "gWaHFM_LtKPP",
    "outputId": "c498e560-035f-4170-b0b9-85ba3956711c",
    "scrolled": true
   },
   "outputs": [
    {
     "data": {
      "text/plain": [
       "(<PIL.ImageDraw.ImageDraw at 0x7f3e5450e390>,\n",
       " <PIL.ImageFont.ImageFont at 0x7f3e5450e450>)"
      ]
     },
     "execution_count": 17,
     "metadata": {},
     "output_type": "execute_result"
    }
   ],
   "source": [
    "draw = ImageDraw.Draw(image, \"RGBA\")\n",
    "font = ImageFont.load_default()\n",
    "draw, font"
   ]
  },
  {
   "cell_type": "raw",
   "metadata": {},
   "source": [
    "help(draw.rectangle)"
   ]
  },
  {
   "cell_type": "code",
   "execution_count": 23,
   "metadata": {
    "colab": {
     "base_uri": "https://localhost:8080/",
     "height": 1000
    },
    "id": "gWaHFM_LtKPP",
    "outputId": "c498e560-035f-4170-b0b9-85ba3956711c",
    "scrolled": false
   },
   "outputs": [
    {
     "data": {
      "image/png": "[encoded data removed]",
      "text/plain": [
       "<PIL.Image.Image image mode=RGB size=762x1000 at 0x7F3E544C0F90>"
      ]
     },
     "execution_count": 23,
     "metadata": {},
     "output_type": "execute_result"
    }
   ],
   "source": [
    "label2color = {'question':'blue',\n",
    "               'answer':'green',\n",
    "               'header':'orange',\n",
    "               'other':'violet',\n",
    "              }\n",
    "\n",
    "for annotation in data['form']:\n",
    "    label = annotation['label']\n",
    "    general_box = annotation['box']\n",
    "    draw.rectangle(general_box, outline=label2color[label], width=2)\n",
    "    draw.text(\n",
    "        (general_box[0] + 10, general_box[1] - 10),\n",
    "        label,\n",
    "        fill=label2color[label], \n",
    "        font=font,\n",
    "    )\n",
    "    words = annotation['words']\n",
    "    for word in words:\n",
    "        box = word['box']\n",
    "        # finer: width=1\n",
    "        draw.rectangle(box, outline=label2color[label], width=1)\n",
    "\n",
    "image"
   ]
  },
  {
   "cell_type": "markdown",
   "metadata": {},
   "source": [
    "Let's recall what our annotations look like:"
   ]
  },
  {
   "cell_type": "code",
   "execution_count": 28,
   "metadata": {
    "scrolled": false
   },
   "outputs": [
    {
     "name": "stdout",
     "output_type": "stream",
     "text": [
      "{'box': [89, 272, 204, 289],\n",
      " 'id': 10,\n",
      " 'label': 'question',\n",
      " 'linking': [[10, 11]],\n",
      " 'text': 'Name / Phone Ext. :',\n",
      " 'words': [{'box': [89, 274, 118, 289], 'text': 'Name'},\n",
      "           {'box': [117, 274, 127, 288], 'text': '/'},\n",
      "           {'box': [128, 274, 163, 289], 'text': 'Phone'},\n",
      "           {'box': [169, 272, 196, 287], 'text': 'Ext.'},\n",
      "           {'box': [196, 274, 204, 288], 'text': ':'}]}\n",
      "\n",
      "{'box': [215, 271, 451, 287],\n",
      " 'id': 11,\n",
      " 'label': 'answer',\n",
      " 'linking': [[10, 11]],\n",
      " 'text': 'M. Hamann P. Harper, P. Martinez',\n",
      " 'words': [{'box': [215, 272, 230, 287], 'text': 'M.'},\n",
      "           {'box': [237, 272, 287, 286], 'text': 'Hamann'},\n",
      "           {'box': [293, 272, 307, 286], 'text': 'P.'},\n",
      "           {'box': [314, 274, 363, 285], 'text': 'Harper,'},\n",
      "           {'box': [370, 272, 384, 285], 'text': 'P.'},\n",
      "           {'box': [390, 271, 451, 282], 'text': 'Martinez'}]}\n",
      "\n",
      "{'box': [543, 264, 590, 279],\n",
      " 'id': 12,\n",
      " 'label': 'answer',\n",
      " 'linking': [[3, 12]],\n",
      " 'text': '9/ 3/ 92',\n",
      " 'words': [{'box': [543, 265, 560, 279], 'text': '9/'},\n",
      "           {'box': [560, 264, 575, 279], 'text': '3/'},\n",
      "           {'box': [575, 264, 590, 279], 'text': '92'}]}\n",
      "\n",
      "{'box': [420, 310, 491, 323],\n",
      " 'id': 13,\n",
      " 'label': 'question',\n",
      " 'linking': [[13, 4]],\n",
      " 'text': 'R&D Group:',\n",
      " 'words': [{'box': [420, 310, 442, 323], 'text': 'R&D'},\n",
      "           {'box': [448, 310, 491, 323], 'text': 'Group:'}]}\n",
      "\n",
      "{'box': [236, 313, 327, 327],\n",
      " 'id': 14,\n",
      " 'label': 'answer',\n",
      " 'linking': [[15, 14]],\n",
      " 'text': 'J. S. Wigand',\n",
      " 'words': [{'box': [236, 313, 251, 327], 'text': 'J.'},\n",
      "           {'box': [256, 313, 273, 326], 'text': 'S.'},\n",
      "           {'box': [278, 313, 327, 327], 'text': 'Wigand'}]}\n",
      "\n",
      "{'box': [91, 316, 218, 331],\n",
      " 'id': 15,\n",
      " 'label': 'question',\n",
      " 'linking': [[15, 14]],\n",
      " 'text': 'Supervisor / Manager',\n",
      " 'words': [{'box': [91, 316, 161, 330], 'text': 'Supervisor'},\n",
      "           {'box': [163, 318, 169, 331], 'text': '/'},\n",
      "           {'box': [169, 317, 218, 327], 'text': 'Manager'}]}\n",
      "\n"
     ]
    }
   ],
   "source": [
    "for i, annotation in enumerate(data['form'][10:16]):\n",
    "    pprint.pprint(annotation)\n",
    "    print()"
   ]
  },
  {
   "cell_type": "markdown",
   "metadata": {},
   "source": [
    "Note that the `\"linking\"`'s value is sometimes an empyt list, sometime an non-empty list. When it is non-empty, it gives information on _\"to which annotation (id) it is related\"_."
   ]
  },
  {
   "cell_type": "markdown",
   "metadata": {},
   "source": [
    "- Stopped here (2021/07/21 (水))\n",
    "- Stopped here (2021/08/06 (金))"
   ]
  },
  {
   "cell_type": "markdown",
   "metadata": {
    "id": "uyWQNLSCRJN7"
   },
   "source": [
    "## Preprocessing the data\n",
    "\n",
    "Next, we need to turn the document images into individual tokens and corresponding labels (BIOES format, see further). We do this both for the training and test datasets. Make sure to run this from the `/content` directory:"
   ]
  },
  {
   "cell_type": "code",
   "execution_count": 31,
   "metadata": {},
   "outputs": [
    {
     "data": {
      "text/plain": [
       "PosixPath('/home/phunc20/git-repos/NielsRogge/unilm')"
      ]
     },
     "execution_count": 31,
     "metadata": {},
     "output_type": "execute_result"
    }
   ],
   "source": [
    "unilm"
   ]
  },
  {
   "cell_type": "code",
   "execution_count": 33,
   "metadata": {},
   "outputs": [
    {
     "name": "stdout",
     "output_type": "stream",
     "text": [
      "preprocess.py  preprocess.sh  run_seq_labeling.py\r\n"
     ]
    }
   ],
   "source": [
    "!ls {unilm}/layoutlm/examples/seq_labeling"
   ]
  },
  {
   "cell_type": "raw",
   "metadata": {
    "colab": {
     "base_uri": "https://localhost:8080/"
    },
    "id": "4DWRyOR9RuY6",
    "outputId": "4215a24b-8049-4b1a-a23f-5aaa48e14083"
   },
   "source": [
    "!python {unilm}/layoutlm/examples/seq_labeling/preprocess.py \\\n",
    "    --data_dir {path_dataset}/training_data/annotations \\\n",
    "    --data_split train \\\n",
    "    --output_dir {path_dataset} \\\n",
    "    --model_name_or_path microsoft/layoutlm-base-uncased \\\n",
    "    --max_len 512"
   ]
  },
  {
   "cell_type": "raw",
   "metadata": {
    "colab": {
     "base_uri": "https://localhost:8080/"
    },
    "id": "4DWRyOR9RuY6",
    "outputId": "4215a24b-8049-4b1a-a23f-5aaa48e14083",
    "scrolled": true
   },
   "source": [
    "! python {unilm}/layoutlm/examples/seq_labeling/preprocess.py \\\n",
    "    --data_dir {path_dataset}/testing_data/annotations \\\n",
    "    --data_split test \\\n",
    "    --output_dir {path_dataset} \\\n",
    "    --model_name_or_path microsoft/layoutlm-base-uncased \\\n",
    "    --max_len 512"
   ]
  },
  {
   "cell_type": "markdown",
   "metadata": {},
   "source": [
    "**(?)** Why not `--max_len 512` but `510`?"
   ]
  },
  {
   "cell_type": "markdown",
   "metadata": {},
   "source": [
    "The two commands above runs the Python scripts `{unilm}/layoutlm/examples/seq_labeling/preprocess.py` generate the following text files in `path_dataset`\n",
    "\n",
    "- `{train,test}_box.txt{,.tmp}`\n",
    "- `{train,test}_image.txt{,.tmp}`\n",
    "- `{train,test}.txt{,.tmp}`"
   ]
  },
  {
   "cell_type": "code",
   "execution_count": 34,
   "metadata": {},
   "outputs": [
    {
     "name": "stdout",
     "output_type": "stream",
     "text": [
      "labels.txt\t  test_image.txt.tmp  train_box.txt\t   training_data\r\n",
      "test_box.txt\t  testing_data\t      train_box.txt.tmp    train.txt\r\n",
      "test_box.txt.tmp  test.txt\t      train_image.txt\t   train.txt.tmp\r\n",
      "test_image.txt\t  test.txt.tmp\t      train_image.txt.tmp\r\n"
     ]
    }
   ],
   "source": [
    "!ls {path_dataset}"
   ]
  },
  {
   "cell_type": "markdown",
   "metadata": {
    "id": "gc4Cu0ZyO5M_"
   },
   "source": [
    "Next, we create a `labels.txt` file that contains the unique labels of the FUNSD dataset:"
   ]
  },
  {
   "cell_type": "code",
   "execution_count": 36,
   "metadata": {},
   "outputs": [
    {
     "name": "stdout",
     "output_type": "stream",
     "text": [
      "Date:\tS-QUESTION\r\n",
      "3/27/84\tS-ANSWER\r\n",
      "84-C-7\tO\r\n",
      "Cicarettes\tS-HEADER\r\n",
      "Filters\tO\r\n",
      "BLEND\tS-QUESTION\r\n",
      "CASING\tS-QUESTION\r\n",
      "RECASING\tS-QUESTION\r\n",
      "1077-84\tS-ANSWER\r\n",
      "7773\tS-ANSWER\r\n",
      "7774\tS-ANSWER\r\n",
      "attached\tS-ANSWER\r\n",
      "Maker\tS-QUESTION\r\n",
      "Length\tS-QUESTION\r\n",
      "Filter\tS-QUESTION\r\n",
      "Length\tS-QUESTION\r\n",
      "Circumference\tS-QUESTION\r\n",
      "Weight\tS-QUESTION\r\n",
      "Paper\tS-QUESTION\r\n",
      "MENTHOL\tS-QUESTION\r\n"
     ]
    }
   ],
   "source": [
    "!head -20 {path_dataset}/train.txt"
   ]
  },
  {
   "cell_type": "markdown",
   "metadata": {},
   "source": [
    "Note that in the following linux commands, there is a particularity\n",
    "\n",
    "```bash\n",
    "cut -d$'\\t' -f 2\n",
    "```\n",
    "\n",
    "This is simply saying that it wants the delimiter to be `<Tab>` (and it takes the 2nd field). Since by default the `cut` command presumes the delimiter to be `<Tab>`, we actually have a simpler way to do exactly the same thing\n",
    "\n",
    "```bash\n",
    "cut -f 2\n",
    "```\n",
    "\n",
    "This way of writing is called _ANSI-C quoting_. Readers unaware of and wanting to know more about it can refer to\n",
    "\n",
    "- <https://unix.stackexchange.com/questions/35369/how-to-define-tab-delimiter-with-cut-in-bash>\n",
    "- <https://www.gnu.org/software/bash/manual/html_node/ANSI_002dC-Quoting.html>"
   ]
  },
  {
   "cell_type": "markdown",
   "metadata": {},
   "source": [
    "```bash\n",
    "[phunc20@homography-x220t LayoutLM]$ echo '\\t' | wc --chars\n",
    "3\n",
    "[phunc20@homography-x220t LayoutLM]$ echo $'\\t' | wc --chars\n",
    "2\n",
    "```"
   ]
  },
  {
   "cell_type": "raw",
   "metadata": {
    "id": "8iGOU0s3UR2u"
   },
   "source": [
    "!cat {path_dataset}/train.txt | cut -d$'\\t' -f 2 "
   ]
  },
  {
   "cell_type": "raw",
   "metadata": {
    "id": "8iGOU0s3UR2u"
   },
   "source": [
    "!cat {path_dataset}/train.txt | cut -f 2 "
   ]
  },
  {
   "cell_type": "markdown",
   "metadata": {},
   "source": [
    "ANSI-C quoting sounds technical. In simpler terms, it just means that\n",
    "\n",
    "- In Linux shell, the string `\"\\t\"` is considered as a string composed of two characters `'\\'` and `'t'`\n",
    "- To have Linux admit that `'\\t'`, one adds the prefix `$`, as in `$'\\t'`."
   ]
  },
  {
   "cell_type": "code",
   "execution_count": 44,
   "metadata": {},
   "outputs": [
    {
     "name": "stdout",
     "output_type": "stream",
     "text": [
      "3\r\n"
     ]
    }
   ],
   "source": [
    "!echo '\\t' | wc --chars"
   ]
  },
  {
   "cell_type": "code",
   "execution_count": 45,
   "metadata": {},
   "outputs": [
    {
     "name": "stdout",
     "output_type": "stream",
     "text": [
      "2\r\n"
     ]
    }
   ],
   "source": [
    "!echo $'\\t' | wc --chars"
   ]
  },
  {
   "cell_type": "markdown",
   "metadata": {},
   "source": [
    "Note that\n",
    "\n",
    "- the above stdout looks a little weird at first glance; after one second of reflection, one gets the picture\n",
    "  > The `echo` command automatically append a newline character `'\\n'` at the end, which is why the stdout's number seems to be `1` greater than what one expects\n",
    "- there is _diff btw using **single quotes** and **double quotes**_! Cf. below"
   ]
  },
  {
   "cell_type": "code",
   "execution_count": 50,
   "metadata": {},
   "outputs": [
    {
     "name": "stdout",
     "output_type": "stream",
     "text": [
      "3\r\n"
     ]
    }
   ],
   "source": [
    "!echo \"\\t\" | wc --chars"
   ]
  },
  {
   "cell_type": "code",
   "execution_count": 51,
   "metadata": {},
   "outputs": [
    {
     "name": "stdout",
     "output_type": "stream",
     "text": [
      "3\r\n"
     ]
    }
   ],
   "source": [
    "!echo $\"\\t\" | wc --chars"
   ]
  },
  {
   "cell_type": "raw",
   "metadata": {
    "id": "8iGOU0s3UR2u"
   },
   "source": [
    "!cat {path_dataset}/train.txt | cut -d$'\\t' -f 2 | \\\n",
    "    grep -v \"^$\"| sort"
   ]
  },
  {
   "cell_type": "code",
   "execution_count": 40,
   "metadata": {
    "id": "8iGOU0s3UR2u"
   },
   "outputs": [
    {
     "name": "stdout",
     "output_type": "stream",
     "text": [
      "B-ANSWER\r\n",
      "B-HEADER\r\n",
      "B-QUESTION\r\n",
      "E-ANSWER\r\n",
      "E-HEADER\r\n",
      "E-QUESTION\r\n",
      "I-ANSWER\r\n",
      "I-HEADER\r\n",
      "I-QUESTION\r\n",
      "O\r\n",
      "S-ANSWER\r\n",
      "S-HEADER\r\n",
      "S-QUESTION\r\n"
     ]
    }
   ],
   "source": [
    "!cat {path_dataset}/train.txt | cut -d$'\\t' -f 2 | \\\n",
    "    grep -v \"^$\"| sort | uniq"
   ]
  },
  {
   "cell_type": "code",
   "execution_count": 53,
   "metadata": {},
   "outputs": [
    {
     "name": "stdout",
     "output_type": "stream",
     "text": [
      "labels.txt exists ALREADY"
     ]
    }
   ],
   "source": [
    "! [ -f {path_dataset}/labels.txt ] && printf \"labels.txt exists ALREADY\""
   ]
  },
  {
   "cell_type": "code",
   "execution_count": 54,
   "metadata": {
    "id": "8iGOU0s3UR2u"
   },
   "outputs": [],
   "source": [
    "! [ -f {path_dataset}/labels.txt ] || \\\n",
    "    cat {path_dataset}/train.txt | cut -d$'\\t' -f 2 | \\\n",
    "    grep -v \"^$\"| sort | uniq > {path_dataset}/labels.txt"
   ]
  },
  {
   "cell_type": "markdown",
   "metadata": {},
   "source": [
    "- Stopped here (2021/07/22 (木) 18h17)"
   ]
  },
  {
   "cell_type": "markdown",
   "metadata": {
    "id": "mC9FhkG9U8yg"
   },
   "source": [
    "## Define a PyTorch dataset\n",
    "\n",
    "First, we create a list containing the unique labels based on `{path_dataset}/labels.txt`."
   ]
  },
  {
   "cell_type": "code",
   "execution_count": 55,
   "metadata": {
    "id": "675rRa0QXnMp"
   },
   "outputs": [
    {
     "data": {
      "text/plain": [
       "{0: 'B-ANSWER',\n",
       " 1: 'B-HEADER',\n",
       " 2: 'B-QUESTION',\n",
       " 3: 'E-ANSWER',\n",
       " 4: 'E-HEADER',\n",
       " 5: 'E-QUESTION',\n",
       " 6: 'I-ANSWER',\n",
       " 7: 'I-HEADER',\n",
       " 8: 'I-QUESTION',\n",
       " 9: 'O',\n",
       " 10: 'S-ANSWER',\n",
       " 11: 'S-HEADER',\n",
       " 12: 'S-QUESTION'}"
      ]
     },
     "execution_count": 55,
     "metadata": {},
     "output_type": "execute_result"
    }
   ],
   "source": [
    "from torch.nn import CrossEntropyLoss\n",
    "\n",
    "def get_labels(path):\n",
    "    with open(path, \"r\") as f:\n",
    "        labels = f.read().splitlines()\n",
    "    if \"O\" not in labels:\n",
    "        labels = [\"O\"] + labels\n",
    "    return labels\n",
    "\n",
    "labels = get_labels(f\"{path_dataset}/labels.txt\")\n",
    "num_labels = len(labels)\n",
    "label_map = {i: label for i, label in enumerate(labels)}\n",
    "label_map"
   ]
  },
  {
   "cell_type": "code",
   "execution_count": 56,
   "metadata": {},
   "outputs": [
    {
     "name": "stdout",
     "output_type": "stream",
     "text": [
      "13 /home/phunc20/datasets/ocr/funsd/dataset/labels.txt\r\n"
     ]
    }
   ],
   "source": [
    "!wc -l {path_dataset}/labels.txt"
   ]
  },
  {
   "cell_type": "code",
   "execution_count": 57,
   "metadata": {
    "id": "675rRa0QXnMp"
   },
   "outputs": [
    {
     "data": {
      "text/plain": [
       "-100"
      ]
     },
     "execution_count": 57,
     "metadata": {},
     "output_type": "execute_result"
    }
   ],
   "source": [
    "# Use cross entropy ignore index as padding label id so that\n",
    "# only real label ids contribute to the loss later\n",
    "pad_token_label_id = CrossEntropyLoss().ignore_index\n",
    "pad_token_label_id"
   ]
  },
  {
   "cell_type": "markdown",
   "metadata": {
    "id": "kZ2LGEsez2u2"
   },
   "source": [
    "We can see that the dataset uses the so-called BIOES annotation scheme to annotate the tokens. This means that a given token can be either at the beginning (B), inside (I), outside (O), at the end (E) or start (S) of a given entity. Entities include ANSWER, QUESTION, HEADER and OTHER: "
   ]
  },
  {
   "cell_type": "markdown",
   "metadata": {},
   "source": [
    "**(?)** Please draw the BIOES on a certain image (visualization) to make it clearer as to what each of `B, I, O, E, S` means.<br>\n",
    "**(R)** Let's do this step by step. Assume that we are going to do this for the same image with `demo_id` (defined earlier).\n",
    "\n",
    "Firstly, there is no single file which aggregate the necessary information to do this. We can combine the information in the following two files to achieve this:\n",
    "\n",
    "- `train_image.txt`\n",
    "- `train.txt`\n",
    "\n",
    "\n",
    "Since these files contain the same number of lines and put the information in the same order, let's extract the line number concerning the image that we are interested in, i.e. `demo_id`."
   ]
  },
  {
   "cell_type": "code",
   "execution_count": 79,
   "metadata": {},
   "outputs": [
    {
     "data": {
      "text/plain": [
       "'0000971160'"
      ]
     },
     "execution_count": 79,
     "metadata": {},
     "output_type": "execute_result"
    }
   ],
   "source": [
    "demo_id"
   ]
  },
  {
   "cell_type": "code",
   "execution_count": 78,
   "metadata": {},
   "outputs": [
    {
     "name": "stdout",
     "output_type": "stream",
     "text": [
      "22038 /home/phunc20/datasets/ocr/funsd/dataset/train.txt\n",
      "22038 /home/phunc20/datasets/ocr/funsd/dataset/train_image.txt\n",
      "22038 /home/phunc20/datasets/ocr/funsd/dataset/train_box.txt\n"
     ]
    }
   ],
   "source": [
    "!wc -l {path_dataset}/train.txt\n",
    "!wc -l {path_dataset}/train_image.txt\n",
    "!wc -l {path_dataset}/train_box.txt"
   ]
  },
  {
   "cell_type": "code",
   "execution_count": 62,
   "metadata": {
    "scrolled": true
   },
   "outputs": [
    {
     "name": "stdout",
     "output_type": "stream",
     "text": [
      "9406:R&D\t292 91 376 175\t762 1000\t0000971160.png\r\n",
      "9550:wp\t130 823 145 837\t762 1000\t0000971160.png\r\n"
     ]
    }
   ],
   "source": [
    "!grep -n \"0000971160.png\" \"{path_dataset}/train_image.txt\" | (head -n1 && tail -n1)"
   ]
  },
  {
   "cell_type": "markdown",
   "metadata": {},
   "source": [
    "So the related lines are _from 9406 to 9550_."
   ]
  },
  {
   "cell_type": "code",
   "execution_count": 87,
   "metadata": {},
   "outputs": [],
   "source": [
    "import pandas as pd"
   ]
  },
  {
   "cell_type": "code",
   "execution_count": 103,
   "metadata": {},
   "outputs": [
    {
     "data": {
      "text/html": [
       "<div>\n",
       "<style scoped>\n",
       "    .dataframe tbody tr th:only-of-type {\n",
       "        vertical-align: middle;\n",
       "    }\n",
       "\n",
       "    .dataframe tbody tr th {\n",
       "        vertical-align: top;\n",
       "    }\n",
       "\n",
       "    .dataframe thead th {\n",
       "        text-align: right;\n",
       "    }\n",
       "</style>\n",
       "<table border=\"1\" class=\"dataframe\">\n",
       "  <thead>\n",
       "    <tr style=\"text-align: right;\">\n",
       "      <th></th>\n",
       "      <th>text</th>\n",
       "      <th>bbox</th>\n",
       "      <th>dimension</th>\n",
       "      <th>filename</th>\n",
       "    </tr>\n",
       "  </thead>\n",
       "  <tbody>\n",
       "    <tr>\n",
       "      <th>0</th>\n",
       "      <td>performed</td>\n",
       "      <td>190 383 256 394</td>\n",
       "      <td>762 1000</td>\n",
       "      <td>0000971160.png</td>\n",
       "    </tr>\n",
       "    <tr>\n",
       "      <th>1</th>\n",
       "      <td>by</td>\n",
       "      <td>261 381 275 394</td>\n",
       "      <td>762 1000</td>\n",
       "      <td>0000971160.png</td>\n",
       "    </tr>\n",
       "    <tr>\n",
       "      <th>2</th>\n",
       "      <td>most</td>\n",
       "      <td>282 383 311 393</td>\n",
       "      <td>762 1000</td>\n",
       "      <td>0000971160.png</td>\n",
       "    </tr>\n",
       "    <tr>\n",
       "      <th>3</th>\n",
       "      <td>licensees.</td>\n",
       "      <td>318 380 386 391</td>\n",
       "      <td>762 1000</td>\n",
       "      <td>0000971160.png</td>\n",
       "    </tr>\n",
       "    <tr>\n",
       "      <th>4</th>\n",
       "      <td>Other</td>\n",
       "      <td>401 378 437 389</td>\n",
       "      <td>762 1000</td>\n",
       "      <td>0000971160.png</td>\n",
       "    </tr>\n",
       "    <tr>\n",
       "      <th>...</th>\n",
       "      <td>...</td>\n",
       "      <td>...</td>\n",
       "      <td>...</td>\n",
       "      <td>...</td>\n",
       "    </tr>\n",
       "    <tr>\n",
       "      <th>139</th>\n",
       "      <td>representing</td>\n",
       "      <td>601 214 713 232</td>\n",
       "      <td>780 1000</td>\n",
       "      <td>92433599_92433601.png</td>\n",
       "    </tr>\n",
       "    <tr>\n",
       "      <th>140</th>\n",
       "      <td>claimant:</td>\n",
       "      <td>162 232 244 249</td>\n",
       "      <td>780 1000</td>\n",
       "      <td>92433599_92433601.png</td>\n",
       "    </tr>\n",
       "    <tr>\n",
       "      <th>141</th>\n",
       "      <td>BRAYTON,</td>\n",
       "      <td>236 263 310 278</td>\n",
       "      <td>780 1000</td>\n",
       "      <td>92433599_92433601.png</td>\n",
       "    </tr>\n",
       "    <tr>\n",
       "      <th>142</th>\n",
       "      <td>GISVOLD.</td>\n",
       "      <td>320 261 388 276</td>\n",
       "      <td>780 1000</td>\n",
       "      <td>92433599_92433601.png</td>\n",
       "    </tr>\n",
       "    <tr>\n",
       "      <th>143</th>\n",
       "      <td>&amp;</td>\n",
       "      <td>392 263 406 276</td>\n",
       "      <td>780 1000</td>\n",
       "      <td>92433599_92433601.png</td>\n",
       "    </tr>\n",
       "  </tbody>\n",
       "</table>\n",
       "<p>144 rows × 4 columns</p>\n",
       "</div>"
      ],
      "text/plain": [
       "             text             bbox dimension               filename\n",
       "0       performed  190 383 256 394  762 1000         0000971160.png\n",
       "1              by  261 381 275 394  762 1000         0000971160.png\n",
       "2            most  282 383 311 393  762 1000         0000971160.png\n",
       "3      licensees.  318 380 386 391  762 1000         0000971160.png\n",
       "4           Other  401 378 437 389  762 1000         0000971160.png\n",
       "..            ...              ...       ...                    ...\n",
       "139  representing  601 214 713 232  780 1000  92433599_92433601.png\n",
       "140     claimant:  162 232 244 249  780 1000  92433599_92433601.png\n",
       "141      BRAYTON,  236 263 310 278  780 1000  92433599_92433601.png\n",
       "142      GISVOLD.  320 261 388 276  780 1000  92433599_92433601.png\n",
       "143             &  392 263 406 276  780 1000  92433599_92433601.png\n",
       "\n",
       "[144 rows x 4 columns]"
      ]
     },
     "execution_count": 103,
     "metadata": {},
     "output_type": "execute_result"
    }
   ],
   "source": [
    "start_row = 9406 - 1\n",
    "stop_row = 9550\n",
    "skip_rows = list(range(start_row)) + list(range(stop_row, 22038))\n",
    "demo_df = pd.read_csv(\n",
    "    path_dataset / \"train_image.txt\",\n",
    "    delimiter=\"\\t\",\n",
    "    names=[\"text\", \"bbox\", \"dimension\", \"filename\"],\n",
    "    skiprows=skip_rows,\n",
    ")\n",
    "\n",
    "demo_df"
   ]
  },
  {
   "cell_type": "markdown",
   "metadata": {},
   "source": [
    "Nah, I am being stupid. Let's forget about which row is which. Let's load the whole CSV file and then _filter_."
   ]
  },
  {
   "cell_type": "code",
   "execution_count": 134,
   "metadata": {
    "scrolled": true
   },
   "outputs": [
    {
     "data": {
      "text/html": [
       "<div>\n",
       "<style scoped>\n",
       "    .dataframe tbody tr th:only-of-type {\n",
       "        vertical-align: middle;\n",
       "    }\n",
       "\n",
       "    .dataframe tbody tr th {\n",
       "        vertical-align: top;\n",
       "    }\n",
       "\n",
       "    .dataframe thead th {\n",
       "        text-align: right;\n",
       "    }\n",
       "</style>\n",
       "<table border=\"1\" class=\"dataframe\">\n",
       "  <thead>\n",
       "    <tr style=\"text-align: right;\">\n",
       "      <th></th>\n",
       "      <th>text</th>\n",
       "      <th>bbox</th>\n",
       "      <th>filename</th>\n",
       "    </tr>\n",
       "  </thead>\n",
       "  <tbody>\n",
       "    <tr>\n",
       "      <th>0</th>\n",
       "      <td>Date:</td>\n",
       "      <td>485 32 526 49</td>\n",
       "      <td>81574683.png</td>\n",
       "    </tr>\n",
       "    <tr>\n",
       "      <th>1</th>\n",
       "      <td>3/27/84</td>\n",
       "      <td>531 32 585 49</td>\n",
       "      <td>81574683.png</td>\n",
       "    </tr>\n",
       "    <tr>\n",
       "      <th>2</th>\n",
       "      <td>84-C-7</td>\n",
       "      <td>634 34 683 48</td>\n",
       "      <td>81574683.png</td>\n",
       "    </tr>\n",
       "    <tr>\n",
       "      <th>3</th>\n",
       "      <td>Cicarettes</td>\n",
       "      <td>31 218 111 236</td>\n",
       "      <td>81574683.png</td>\n",
       "    </tr>\n",
       "    <tr>\n",
       "      <th>4</th>\n",
       "      <td>Filters</td>\n",
       "      <td>320 221 377 238</td>\n",
       "      <td>81574683.png</td>\n",
       "    </tr>\n",
       "    <tr>\n",
       "      <th>...</th>\n",
       "      <td>...</td>\n",
       "      <td>...</td>\n",
       "      <td>...</td>\n",
       "    </tr>\n",
       "    <tr>\n",
       "      <th>21742</th>\n",
       "      <td>until</td>\n",
       "      <td>462 835 507 846</td>\n",
       "      <td>0060036622.png</td>\n",
       "    </tr>\n",
       "    <tr>\n",
       "      <th>21743</th>\n",
       "      <td>Committee</td>\n",
       "      <td>372 863 447 877</td>\n",
       "      <td>0060036622.png</td>\n",
       "    </tr>\n",
       "    <tr>\n",
       "      <th>21744</th>\n",
       "      <td>meeting</td>\n",
       "      <td>454 863 515 877</td>\n",
       "      <td>0060036622.png</td>\n",
       "    </tr>\n",
       "    <tr>\n",
       "      <th>21745</th>\n",
       "      <td>8/</td>\n",
       "      <td>561 834 582 876</td>\n",
       "      <td>0060036622.png</td>\n",
       "    </tr>\n",
       "    <tr>\n",
       "      <th>21746</th>\n",
       "      <td>26</td>\n",
       "      <td>582 845 609 872</td>\n",
       "      <td>0060036622.png</td>\n",
       "    </tr>\n",
       "  </tbody>\n",
       "</table>\n",
       "<p>21747 rows × 3 columns</p>\n",
       "</div>"
      ],
      "text/plain": [
       "             text             bbox        filename\n",
       "0           Date:    485 32 526 49    81574683.png\n",
       "1         3/27/84    531 32 585 49    81574683.png\n",
       "2          84-C-7    634 34 683 48    81574683.png\n",
       "3      Cicarettes   31 218 111 236    81574683.png\n",
       "4         Filters  320 221 377 238    81574683.png\n",
       "...           ...              ...             ...\n",
       "21742       until  462 835 507 846  0060036622.png\n",
       "21743   Committee  372 863 447 877  0060036622.png\n",
       "21744     meeting  454 863 515 877  0060036622.png\n",
       "21745          8/  561 834 582 876  0060036622.png\n",
       "21746          26  582 845 609 872  0060036622.png\n",
       "\n",
       "[21747 rows x 3 columns]"
      ]
     },
     "execution_count": 134,
     "metadata": {},
     "output_type": "execute_result"
    }
   ],
   "source": [
    "train_image_df = pd.read_csv(\n",
    "    path_dataset / \"train_image.txt\",\n",
    "    delimiter=\"\\t\",\n",
    "    names=[\"text\", \"bbox\", \"dimension\", \"filename\"],\n",
    "    usecols=[\"text\", \"bbox\", \"filename\"],\n",
    ")\n",
    "\n",
    "train_image_df"
   ]
  },
  {
   "cell_type": "code",
   "execution_count": 135,
   "metadata": {
    "scrolled": true
   },
   "outputs": [
    {
     "data": {
      "text/html": [
       "<div>\n",
       "<style scoped>\n",
       "    .dataframe tbody tr th:only-of-type {\n",
       "        vertical-align: middle;\n",
       "    }\n",
       "\n",
       "    .dataframe tbody tr th {\n",
       "        vertical-align: top;\n",
       "    }\n",
       "\n",
       "    .dataframe thead th {\n",
       "        text-align: right;\n",
       "    }\n",
       "</style>\n",
       "<table border=\"1\" class=\"dataframe\">\n",
       "  <thead>\n",
       "    <tr style=\"text-align: right;\">\n",
       "      <th></th>\n",
       "      <th>text</th>\n",
       "      <th>label</th>\n",
       "    </tr>\n",
       "  </thead>\n",
       "  <tbody>\n",
       "    <tr>\n",
       "      <th>0</th>\n",
       "      <td>Date:</td>\n",
       "      <td>S-QUESTION</td>\n",
       "    </tr>\n",
       "    <tr>\n",
       "      <th>1</th>\n",
       "      <td>3/27/84</td>\n",
       "      <td>S-ANSWER</td>\n",
       "    </tr>\n",
       "    <tr>\n",
       "      <th>2</th>\n",
       "      <td>84-C-7</td>\n",
       "      <td>O</td>\n",
       "    </tr>\n",
       "    <tr>\n",
       "      <th>3</th>\n",
       "      <td>Cicarettes</td>\n",
       "      <td>S-HEADER</td>\n",
       "    </tr>\n",
       "    <tr>\n",
       "      <th>4</th>\n",
       "      <td>Filters</td>\n",
       "      <td>O</td>\n",
       "    </tr>\n",
       "    <tr>\n",
       "      <th>...</th>\n",
       "      <td>...</td>\n",
       "      <td>...</td>\n",
       "    </tr>\n",
       "    <tr>\n",
       "      <th>21742</th>\n",
       "      <td>until</td>\n",
       "      <td>E-QUESTION</td>\n",
       "    </tr>\n",
       "    <tr>\n",
       "      <th>21743</th>\n",
       "      <td>Committee</td>\n",
       "      <td>B-QUESTION</td>\n",
       "    </tr>\n",
       "    <tr>\n",
       "      <th>21744</th>\n",
       "      <td>meeting</td>\n",
       "      <td>E-QUESTION</td>\n",
       "    </tr>\n",
       "    <tr>\n",
       "      <th>21745</th>\n",
       "      <td>8/</td>\n",
       "      <td>B-ANSWER</td>\n",
       "    </tr>\n",
       "    <tr>\n",
       "      <th>21746</th>\n",
       "      <td>26</td>\n",
       "      <td>E-ANSWER</td>\n",
       "    </tr>\n",
       "  </tbody>\n",
       "</table>\n",
       "<p>21747 rows × 2 columns</p>\n",
       "</div>"
      ],
      "text/plain": [
       "             text       label\n",
       "0           Date:  S-QUESTION\n",
       "1         3/27/84    S-ANSWER\n",
       "2          84-C-7           O\n",
       "3      Cicarettes    S-HEADER\n",
       "4         Filters           O\n",
       "...           ...         ...\n",
       "21742       until  E-QUESTION\n",
       "21743   Committee  B-QUESTION\n",
       "21744     meeting  E-QUESTION\n",
       "21745          8/    B-ANSWER\n",
       "21746          26    E-ANSWER\n",
       "\n",
       "[21747 rows x 2 columns]"
      ]
     },
     "execution_count": 135,
     "metadata": {},
     "output_type": "execute_result"
    }
   ],
   "source": [
    "train_df = pd.read_csv(\n",
    "    path_dataset / \"train.txt\",\n",
    "    delimiter=\"\\t\",\n",
    "    names=[\"text\", \"label\"],\n",
    ")\n",
    "train_df"
   ]
  },
  {
   "cell_type": "code",
   "execution_count": 111,
   "metadata": {},
   "outputs": [
    {
     "data": {
      "text/plain": [
       "text     object\n",
       "label    object\n",
       "dtype: object"
      ]
     },
     "execution_count": 111,
     "metadata": {},
     "output_type": "execute_result"
    }
   ],
   "source": [
    "train_df.dtypes"
   ]
  },
  {
   "cell_type": "code",
   "execution_count": 112,
   "metadata": {},
   "outputs": [
    {
     "data": {
      "text/plain": [
       "text        object\n",
       "bbox        object\n",
       "filename    object\n",
       "dtype: object"
      ]
     },
     "execution_count": 112,
     "metadata": {},
     "output_type": "execute_result"
    }
   ],
   "source": [
    "train_image_df.dtypes"
   ]
  },
  {
   "cell_type": "raw",
   "metadata": {
    "scrolled": true
   },
   "source": [
    "train_df.join(train_image_df, on=\"text\")"
   ]
  },
  {
   "cell_type": "raw",
   "metadata": {},
   "source": [
    "train_df.join(train_image_df, on=\"text\", how=\"outer\")"
   ]
  },
  {
   "cell_type": "raw",
   "metadata": {},
   "source": [
    "ValueError: You are trying to merge on object and int64 columns. If you wish to proceed you should use pd.concat"
   ]
  },
  {
   "cell_type": "code",
   "execution_count": 119,
   "metadata": {},
   "outputs": [
    {
     "data": {
      "text/html": [
       "<div>\n",
       "<style scoped>\n",
       "    .dataframe tbody tr th:only-of-type {\n",
       "        vertical-align: middle;\n",
       "    }\n",
       "\n",
       "    .dataframe tbody tr th {\n",
       "        vertical-align: top;\n",
       "    }\n",
       "\n",
       "    .dataframe thead th {\n",
       "        text-align: right;\n",
       "    }\n",
       "</style>\n",
       "<table border=\"1\" class=\"dataframe\">\n",
       "  <thead>\n",
       "    <tr style=\"text-align: right;\">\n",
       "      <th></th>\n",
       "      <th>text</th>\n",
       "      <th>label</th>\n",
       "      <th>text_image</th>\n",
       "      <th>bbox</th>\n",
       "      <th>filename</th>\n",
       "    </tr>\n",
       "  </thead>\n",
       "  <tbody>\n",
       "    <tr>\n",
       "      <th>0</th>\n",
       "      <td>Date:</td>\n",
       "      <td>S-QUESTION</td>\n",
       "      <td>Date:</td>\n",
       "      <td>485 32 526 49</td>\n",
       "      <td>81574683.png</td>\n",
       "    </tr>\n",
       "    <tr>\n",
       "      <th>1</th>\n",
       "      <td>3/27/84</td>\n",
       "      <td>S-ANSWER</td>\n",
       "      <td>3/27/84</td>\n",
       "      <td>531 32 585 49</td>\n",
       "      <td>81574683.png</td>\n",
       "    </tr>\n",
       "    <tr>\n",
       "      <th>2</th>\n",
       "      <td>84-C-7</td>\n",
       "      <td>O</td>\n",
       "      <td>84-C-7</td>\n",
       "      <td>634 34 683 48</td>\n",
       "      <td>81574683.png</td>\n",
       "    </tr>\n",
       "    <tr>\n",
       "      <th>3</th>\n",
       "      <td>Cicarettes</td>\n",
       "      <td>S-HEADER</td>\n",
       "      <td>Cicarettes</td>\n",
       "      <td>31 218 111 236</td>\n",
       "      <td>81574683.png</td>\n",
       "    </tr>\n",
       "    <tr>\n",
       "      <th>4</th>\n",
       "      <td>Filters</td>\n",
       "      <td>O</td>\n",
       "      <td>Filters</td>\n",
       "      <td>320 221 377 238</td>\n",
       "      <td>81574683.png</td>\n",
       "    </tr>\n",
       "  </tbody>\n",
       "</table>\n",
       "</div>"
      ],
      "text/plain": [
       "         text       label  text_image             bbox      filename\n",
       "0       Date:  S-QUESTION       Date:    485 32 526 49  81574683.png\n",
       "1     3/27/84    S-ANSWER     3/27/84    531 32 585 49  81574683.png\n",
       "2      84-C-7           O      84-C-7    634 34 683 48  81574683.png\n",
       "3  Cicarettes    S-HEADER  Cicarettes   31 218 111 236  81574683.png\n",
       "4     Filters           O     Filters  320 221 377 238  81574683.png"
      ]
     },
     "execution_count": 119,
     "metadata": {},
     "output_type": "execute_result"
    }
   ],
   "source": [
    "train_df.join(train_image_df, rsuffix='_image').head()"
   ]
  },
  {
   "cell_type": "code",
   "execution_count": 120,
   "metadata": {},
   "outputs": [
    {
     "data": {
      "text/html": [
       "<div>\n",
       "<style scoped>\n",
       "    .dataframe tbody tr th:only-of-type {\n",
       "        vertical-align: middle;\n",
       "    }\n",
       "\n",
       "    .dataframe tbody tr th {\n",
       "        vertical-align: top;\n",
       "    }\n",
       "\n",
       "    .dataframe thead th {\n",
       "        text-align: right;\n",
       "    }\n",
       "</style>\n",
       "<table border=\"1\" class=\"dataframe\">\n",
       "  <thead>\n",
       "    <tr style=\"text-align: right;\">\n",
       "      <th></th>\n",
       "      <th>text</th>\n",
       "      <th>label</th>\n",
       "    </tr>\n",
       "  </thead>\n",
       "  <tbody>\n",
       "    <tr>\n",
       "      <th>0</th>\n",
       "      <td>Date:</td>\n",
       "      <td>S-QUESTION</td>\n",
       "    </tr>\n",
       "    <tr>\n",
       "      <th>1</th>\n",
       "      <td>3/27/84</td>\n",
       "      <td>S-ANSWER</td>\n",
       "    </tr>\n",
       "    <tr>\n",
       "      <th>2</th>\n",
       "      <td>84-C-7</td>\n",
       "      <td>O</td>\n",
       "    </tr>\n",
       "    <tr>\n",
       "      <th>3</th>\n",
       "      <td>Cicarettes</td>\n",
       "      <td>S-HEADER</td>\n",
       "    </tr>\n",
       "    <tr>\n",
       "      <th>4</th>\n",
       "      <td>Filters</td>\n",
       "      <td>O</td>\n",
       "    </tr>\n",
       "  </tbody>\n",
       "</table>\n",
       "</div>"
      ],
      "text/plain": [
       "         text       label\n",
       "0       Date:  S-QUESTION\n",
       "1     3/27/84    S-ANSWER\n",
       "2      84-C-7           O\n",
       "3  Cicarettes    S-HEADER\n",
       "4     Filters           O"
      ]
     },
     "execution_count": 120,
     "metadata": {},
     "output_type": "execute_result"
    }
   ],
   "source": [
    "train_df.head()"
   ]
  },
  {
   "cell_type": "raw",
   "metadata": {},
   "source": [
    "train_image_df[\"text\"] = train_image_df[\"text\"].astype(\"string\")\n",
    "train_image_df.dtypes"
   ]
  },
  {
   "cell_type": "raw",
   "metadata": {},
   "source": [
    "train_df[\"text\"] = train_df[\"text\"].astype(\"string\")\n",
    "train_df.dtypes"
   ]
  },
  {
   "cell_type": "code",
   "execution_count": 132,
   "metadata": {},
   "outputs": [
    {
     "data": {
      "text/plain": [
       "((21747, 2), (21747, 3))"
      ]
     },
     "execution_count": 132,
     "metadata": {},
     "output_type": "execute_result"
    }
   ],
   "source": [
    "train_df.shape, train_image_df.shape"
   ]
  },
  {
   "cell_type": "code",
   "execution_count": 131,
   "metadata": {
    "scrolled": true
   },
   "outputs": [
    {
     "data": {
      "text/html": [
       "<div>\n",
       "<style scoped>\n",
       "    .dataframe tbody tr th:only-of-type {\n",
       "        vertical-align: middle;\n",
       "    }\n",
       "\n",
       "    .dataframe tbody tr th {\n",
       "        vertical-align: top;\n",
       "    }\n",
       "\n",
       "    .dataframe thead th {\n",
       "        text-align: right;\n",
       "    }\n",
       "</style>\n",
       "<table border=\"1\" class=\"dataframe\">\n",
       "  <thead>\n",
       "    <tr style=\"text-align: right;\">\n",
       "      <th></th>\n",
       "      <th>text2</th>\n",
       "      <th>label</th>\n",
       "      <th>text</th>\n",
       "      <th>bbox</th>\n",
       "      <th>filename</th>\n",
       "    </tr>\n",
       "  </thead>\n",
       "  <tbody>\n",
       "    <tr>\n",
       "      <th>0</th>\n",
       "      <td>Date:</td>\n",
       "      <td>S-QUESTION</td>\n",
       "      <td>Date:</td>\n",
       "      <td>485 32 526 49</td>\n",
       "      <td>81574683.png</td>\n",
       "    </tr>\n",
       "    <tr>\n",
       "      <th>1</th>\n",
       "      <td>3/27/84</td>\n",
       "      <td>S-ANSWER</td>\n",
       "      <td>3/27/84</td>\n",
       "      <td>531 32 585 49</td>\n",
       "      <td>81574683.png</td>\n",
       "    </tr>\n",
       "    <tr>\n",
       "      <th>2</th>\n",
       "      <td>84-C-7</td>\n",
       "      <td>O</td>\n",
       "      <td>84-C-7</td>\n",
       "      <td>634 34 683 48</td>\n",
       "      <td>81574683.png</td>\n",
       "    </tr>\n",
       "    <tr>\n",
       "      <th>3</th>\n",
       "      <td>Cicarettes</td>\n",
       "      <td>S-HEADER</td>\n",
       "      <td>Cicarettes</td>\n",
       "      <td>31 218 111 236</td>\n",
       "      <td>81574683.png</td>\n",
       "    </tr>\n",
       "    <tr>\n",
       "      <th>4</th>\n",
       "      <td>Filters</td>\n",
       "      <td>O</td>\n",
       "      <td>Filters</td>\n",
       "      <td>320 221 377 238</td>\n",
       "      <td>81574683.png</td>\n",
       "    </tr>\n",
       "    <tr>\n",
       "      <th>...</th>\n",
       "      <td>...</td>\n",
       "      <td>...</td>\n",
       "      <td>...</td>\n",
       "      <td>...</td>\n",
       "      <td>...</td>\n",
       "    </tr>\n",
       "    <tr>\n",
       "      <th>21742</th>\n",
       "      <td>until</td>\n",
       "      <td>E-QUESTION</td>\n",
       "      <td>until</td>\n",
       "      <td>462 835 507 846</td>\n",
       "      <td>0060036622.png</td>\n",
       "    </tr>\n",
       "    <tr>\n",
       "      <th>21743</th>\n",
       "      <td>Committee</td>\n",
       "      <td>B-QUESTION</td>\n",
       "      <td>Committee</td>\n",
       "      <td>372 863 447 877</td>\n",
       "      <td>0060036622.png</td>\n",
       "    </tr>\n",
       "    <tr>\n",
       "      <th>21744</th>\n",
       "      <td>meeting</td>\n",
       "      <td>E-QUESTION</td>\n",
       "      <td>meeting</td>\n",
       "      <td>454 863 515 877</td>\n",
       "      <td>0060036622.png</td>\n",
       "    </tr>\n",
       "    <tr>\n",
       "      <th>21745</th>\n",
       "      <td>8/</td>\n",
       "      <td>B-ANSWER</td>\n",
       "      <td>8/</td>\n",
       "      <td>561 834 582 876</td>\n",
       "      <td>0060036622.png</td>\n",
       "    </tr>\n",
       "    <tr>\n",
       "      <th>21746</th>\n",
       "      <td>26</td>\n",
       "      <td>E-ANSWER</td>\n",
       "      <td>26</td>\n",
       "      <td>582 845 609 872</td>\n",
       "      <td>0060036622.png</td>\n",
       "    </tr>\n",
       "  </tbody>\n",
       "</table>\n",
       "<p>21747 rows × 5 columns</p>\n",
       "</div>"
      ],
      "text/plain": [
       "            text2       label        text             bbox        filename\n",
       "0           Date:  S-QUESTION       Date:    485 32 526 49    81574683.png\n",
       "1         3/27/84    S-ANSWER     3/27/84    531 32 585 49    81574683.png\n",
       "2          84-C-7           O      84-C-7    634 34 683 48    81574683.png\n",
       "3      Cicarettes    S-HEADER  Cicarettes   31 218 111 236    81574683.png\n",
       "4         Filters           O     Filters  320 221 377 238    81574683.png\n",
       "...           ...         ...         ...              ...             ...\n",
       "21742       until  E-QUESTION       until  462 835 507 846  0060036622.png\n",
       "21743   Committee  B-QUESTION   Committee  372 863 447 877  0060036622.png\n",
       "21744     meeting  E-QUESTION     meeting  454 863 515 877  0060036622.png\n",
       "21745          8/    B-ANSWER          8/  561 834 582 876  0060036622.png\n",
       "21746          26    E-ANSWER          26  582 845 609 872  0060036622.png\n",
       "\n",
       "[21747 rows x 5 columns]"
      ]
     },
     "execution_count": 131,
     "metadata": {},
     "output_type": "execute_result"
    }
   ],
   "source": [
    "train_df.join(train_image_df, lsuffix=\"2\")#, on=\"text\")"
   ]
  },
  {
   "cell_type": "code",
   "execution_count": 126,
   "metadata": {},
   "outputs": [
    {
     "data": {
      "text/plain": [
       "(21747, 2)"
      ]
     },
     "execution_count": 126,
     "metadata": {},
     "output_type": "execute_result"
    }
   ],
   "source": [
    "train_df.shape"
   ]
  },
  {
   "cell_type": "markdown",
   "metadata": {},
   "source": [
    "Note that _because there are empty lines in these files_, the shape here is different from `22038`.\n",
    "\n",
    "> Actually the files `{train,test}_image.txt` are organized in such a\n",
    "> way that the lines are contiguous unless there is a change/jump to\n",
    "> a new image filename. That is to say, the empty lines are there to\n",
    "> separate the different filenames."
   ]
  },
  {
   "cell_type": "code",
   "execution_count": 137,
   "metadata": {},
   "outputs": [
    {
     "name": "stdout",
     "output_type": "stream",
     "text": [
      "22038 /home/phunc20/datasets/ocr/funsd/dataset/train.txt\n",
      "21888\n"
     ]
    }
   ],
   "source": [
    "!wc -l {path_dataset}/train.txt\n",
    "!grep -v \"^[ \\t]*$\" {path_dataset}/train.txt | wc -l"
   ]
  },
  {
   "cell_type": "markdown",
   "metadata": {},
   "source": [
    "**(?)** Why in the world was the number `21888` above diff from `21747`, the number of rows of our DataFrames."
   ]
  },
  {
   "cell_type": "code",
   "execution_count": 139,
   "metadata": {},
   "outputs": [
    {
     "data": {
      "text/html": [
       "<div>\n",
       "<style scoped>\n",
       "    .dataframe tbody tr th:only-of-type {\n",
       "        vertical-align: middle;\n",
       "    }\n",
       "\n",
       "    .dataframe tbody tr th {\n",
       "        vertical-align: top;\n",
       "    }\n",
       "\n",
       "    .dataframe thead th {\n",
       "        text-align: right;\n",
       "    }\n",
       "</style>\n",
       "<table border=\"1\" class=\"dataframe\">\n",
       "  <thead>\n",
       "    <tr style=\"text-align: right;\">\n",
       "      <th></th>\n",
       "      <th>text</th>\n",
       "      <th>label</th>\n",
       "      <th>bbox</th>\n",
       "    </tr>\n",
       "  </thead>\n",
       "  <tbody>\n",
       "    <tr>\n",
       "      <th>9286</th>\n",
       "      <td>R&amp;D</td>\n",
       "      <td>O</td>\n",
       "      <td>292 91 376 175</td>\n",
       "    </tr>\n",
       "    <tr>\n",
       "      <th>9287</th>\n",
       "      <td>:</td>\n",
       "      <td>S-QUESTION</td>\n",
       "      <td>219 316 225 327</td>\n",
       "    </tr>\n",
       "    <tr>\n",
       "      <th>9288</th>\n",
       "      <td>Suggestion:</td>\n",
       "      <td>S-QUESTION</td>\n",
       "      <td>95 355 169 370</td>\n",
       "    </tr>\n",
       "    <tr>\n",
       "      <th>9289</th>\n",
       "      <td>Date:</td>\n",
       "      <td>S-QUESTION</td>\n",
       "      <td>482 268 518 282</td>\n",
       "    </tr>\n",
       "    <tr>\n",
       "      <th>9290</th>\n",
       "      <td>Licensee</td>\n",
       "      <td>S-ANSWER</td>\n",
       "      <td>511 309 570 323</td>\n",
       "    </tr>\n",
       "    <tr>\n",
       "      <th>...</th>\n",
       "      <td>...</td>\n",
       "      <td>...</td>\n",
       "      <td>...</td>\n",
       "    </tr>\n",
       "    <tr>\n",
       "      <th>9426</th>\n",
       "      <td>Quality</td>\n",
       "      <td>I-ANSWER</td>\n",
       "      <td>211 663 261 676</td>\n",
       "    </tr>\n",
       "    <tr>\n",
       "      <th>9427</th>\n",
       "      <td>Council.</td>\n",
       "      <td>E-ANSWER</td>\n",
       "      <td>267 662 323 676</td>\n",
       "    </tr>\n",
       "    <tr>\n",
       "      <th>9428</th>\n",
       "      <td>qip</td>\n",
       "      <td>O</td>\n",
       "      <td>102 824 123 837</td>\n",
       "    </tr>\n",
       "    <tr>\n",
       "      <th>9429</th>\n",
       "      <td>.</td>\n",
       "      <td>O</td>\n",
       "      <td>124 824 130 838</td>\n",
       "    </tr>\n",
       "    <tr>\n",
       "      <th>9430</th>\n",
       "      <td>wp</td>\n",
       "      <td>O</td>\n",
       "      <td>130 823 145 837</td>\n",
       "    </tr>\n",
       "  </tbody>\n",
       "</table>\n",
       "<p>145 rows × 3 columns</p>\n",
       "</div>"
      ],
      "text/plain": [
       "             text       label             bbox\n",
       "9286          R&D           O   292 91 376 175\n",
       "9287            :  S-QUESTION  219 316 225 327\n",
       "9288  Suggestion:  S-QUESTION   95 355 169 370\n",
       "9289        Date:  S-QUESTION  482 268 518 282\n",
       "9290     Licensee    S-ANSWER  511 309 570 323\n",
       "...           ...         ...              ...\n",
       "9426      Quality    I-ANSWER  211 663 261 676\n",
       "9427     Council.    E-ANSWER  267 662 323 676\n",
       "9428          qip           O  102 824 123 837\n",
       "9429            .           O  124 824 130 838\n",
       "9430           wp           O  130 823 145 837\n",
       "\n",
       "[145 rows x 3 columns]"
      ]
     },
     "execution_count": 139,
     "metadata": {},
     "output_type": "execute_result"
    }
   ],
   "source": [
    "demo_df = train_df[train_image_df[\"filename\"] == f\"{demo_id}.png\"].join(\n",
    "    train_image_df[train_image_df[\"filename\"] == f\"{demo_id}.png\"],\n",
    "    lsuffix=\"2\",\n",
    ")[[\"text\", \"label\", \"bbox\"]]\n",
    "demo_df"
   ]
  },
  {
   "cell_type": "code",
   "execution_count": 162,
   "metadata": {},
   "outputs": [
    {
     "data": {
      "text/plain": [
       "[292, 91, 376, 175]"
      ]
     },
     "execution_count": 162,
     "metadata": {},
     "output_type": "execute_result"
    }
   ],
   "source": [
    "[int(n) for n in \"292 91 376 175\".split()]"
   ]
  },
  {
   "cell_type": "code",
   "execution_count": 160,
   "metadata": {},
   "outputs": [
    {
     "name": "stdout",
     "output_type": "stream",
     "text": [
      "<class 'str'>\n"
     ]
    }
   ],
   "source": [
    "for row in demo_df.itertuples():\n",
    "    text = row.text\n",
    "    label = row.label\n",
    "    bbox = row.bbox\n",
    "    print(type(bbox))\n",
    "    break"
   ]
  },
  {
   "cell_type": "code",
   "execution_count": 149,
   "metadata": {},
   "outputs": [
    {
     "name": "stdout",
     "output_type": "stream",
     "text": [
      "(9286, text                R&D\n",
      "label                 O\n",
      "bbox     292 91 376 175\n",
      "Name: 9286, dtype: object) <class 'tuple'>\n",
      "<class 'pandas.core.series.Series'>\n"
     ]
    }
   ],
   "source": [
    "for i in demo_df.iterrows():\n",
    "    print(i, type(i))\n",
    "    print(type(i[1]))\n",
    "    break"
   ]
  },
  {
   "cell_type": "code",
   "execution_count": 159,
   "metadata": {},
   "outputs": [
    {
     "name": "stdout",
     "output_type": "stream",
     "text": [
      "Pandas(Index=9286, text='R&D', label='O', bbox='292 91 376 175') <class 'pandas.core.frame.Pandas'>\n",
      "O\n"
     ]
    }
   ],
   "source": [
    "for i in demo_df.itertuples():\n",
    "    print(i, type(i))\n",
    "    print(i.label)\n",
    "    break"
   ]
  },
  {
   "cell_type": "code",
   "execution_count": 155,
   "metadata": {},
   "outputs": [
    {
     "name": "stdout",
     "output_type": "stream",
     "text": [
      "('text', 9286            R&D\n",
      "9287              :\n",
      "9288    Suggestion:\n",
      "9289          Date:\n",
      "9290       Licensee\n",
      "           ...     \n",
      "9426        Quality\n",
      "9427       Council.\n",
      "9428            qip\n",
      "9429              .\n",
      "9430             wp\n",
      "Name: text, Length: 145, dtype: object)\n",
      "<class 'tuple'>\n",
      "text\n",
      "2\n",
      "<class 'pandas.core.series.Series'>\n"
     ]
    }
   ],
   "source": [
    "for i in demo_df.iteritems():\n",
    "    print(i)\n",
    "    print(type(i))\n",
    "    print(i[0])\n",
    "    print(len(i))\n",
    "    print(type(i[1]))\n",
    "    break"
   ]
  },
  {
   "cell_type": "code",
   "execution_count": 166,
   "metadata": {},
   "outputs": [
    {
     "data": {
      "text/plain": [
       "'abc'"
      ]
     },
     "execution_count": 166,
     "metadata": {},
     "output_type": "execute_result"
    }
   ],
   "source": [
    "\"ABC\".lower()"
   ]
  },
  {
   "cell_type": "code",
   "execution_count": 206,
   "metadata": {},
   "outputs": [
    {
     "data": {
      "text/plain": [
       "['font', 'getmask', 'getsize', 'info']"
      ]
     },
     "execution_count": 206,
     "metadata": {},
     "output_type": "execute_result"
    }
   ],
   "source": [
    "font = ImageFont.load_default()\n",
    "[s for s in dir(font) if not s.startswith(\"_\")]"
   ]
  },
  {
   "cell_type": "raw",
   "metadata": {},
   "source": [
    "font.getsize()"
   ]
  },
  {
   "cell_type": "raw",
   "metadata": {},
   "source": [
    "TypeError: getsize() missing 1 required positional argument: 'text'"
   ]
  },
  {
   "cell_type": "code",
   "execution_count": 207,
   "metadata": {},
   "outputs": [
    {
     "data": {
      "text/plain": [
       "((18, 11), (18, 11))"
      ]
     },
     "execution_count": 207,
     "metadata": {},
     "output_type": "execute_result"
    }
   ],
   "source": [
    "font.getsize(\"abc\"), font.getsize(\"xyz\")"
   ]
  },
  {
   "cell_type": "code",
   "execution_count": 208,
   "metadata": {},
   "outputs": [
    {
     "data": {
      "text/plain": [
       "['__class__',\n",
       " '__delattr__',\n",
       " '__dict__',\n",
       " '__dir__',\n",
       " '__doc__',\n",
       " '__eq__',\n",
       " '__format__',\n",
       " '__ge__',\n",
       " '__getattribute__',\n",
       " '__gt__',\n",
       " '__hash__',\n",
       " '__init__',\n",
       " '__init_subclass__',\n",
       " '__le__',\n",
       " '__lt__',\n",
       " '__module__',\n",
       " '__ne__',\n",
       " '__new__',\n",
       " '__reduce__',\n",
       " '__reduce_ex__',\n",
       " '__repr__',\n",
       " '__setattr__',\n",
       " '__sizeof__',\n",
       " '__str__',\n",
       " '__subclasshook__',\n",
       " '__weakref__',\n",
       " '_load_pilfont',\n",
       " '_load_pilfont_data',\n",
       " 'font',\n",
       " 'getmask',\n",
       " 'getsize',\n",
       " 'info']"
      ]
     },
     "execution_count": 208,
     "metadata": {},
     "output_type": "execute_result"
    }
   ],
   "source": [
    "dir(font)"
   ]
  },
  {
   "cell_type": "code",
   "execution_count": 212,
   "metadata": {},
   "outputs": [
    {
     "data": {
      "image/png": "[encoded data removed]",
      "text/plain": [
       "<PIL.Image.Image image mode=RGB size=762x1000 at 0x7F3DE69726D0>"
      ]
     },
     "execution_count": 212,
     "metadata": {},
     "output_type": "execute_result"
    }
   ],
   "source": [
    "image = Image.open(path_dataset/f\"training_data/images/{demo_id}.png\").convert(\"RGB\")\n",
    "draw_BIOES = ImageDraw.Draw(image)\n",
    "#font = ImageFont.load_default()\n",
    "try:\n",
    "    font = ImageFont.truetype(\n",
    "        #\"/usr/share/fonts/noto/NotoSansMono-Light.ttf\",\n",
    "        #\"/usr/share/fonts/noto/NotoSans-BoldItalic.ttf\",\n",
    "        \"/usr/share/fonts/noto/NotoSans-Bold.ttf\",\n",
    "        14,\n",
    "    )\n",
    "except:\n",
    "    font = ImageFont.load_default()\n",
    "\n",
    "\n",
    "for row in demo_df.itertuples():\n",
    "    text = row.text\n",
    "    label = row.label\n",
    "    bbox = [int(n) for n in row.bbox.split()]\n",
    "    draw_BIOES.rectangle(\n",
    "        bbox,\n",
    "        outline=label2color[label[2:].lower() if label != \"O\" else \"other\"],\n",
    "        width=1,\n",
    "    )\n",
    "    draw_BIOES.text(\n",
    "        (bbox[0] + 3, bbox[1] - 17),\n",
    "        label[0],\n",
    "        fill=label2color[label[2:].lower() if label != \"O\" else \"other\"],\n",
    "        font=font,\n",
    "        #stroke_width=1,\n",
    "    )\n",
    "    \n",
    "image"
   ]
  },
  {
   "cell_type": "markdown",
   "metadata": {},
   "source": [
    "Ok, I think we kind of get the meaning\n",
    "\n",
    "> - `S` for stand-alone entities\n",
    "> - `B, I, E` for words collectively composing an entity\n",
    "> - `O` for `other`, i.e. none of `question, answer, header`"
   ]
  },
  {
   "cell_type": "code",
   "execution_count": null,
   "metadata": {},
   "outputs": [],
   "source": []
  },
  {
   "cell_type": "markdown",
   "metadata": {},
   "source": [
    "- Stopped here (2021/08/06 (金) 23h50)"
   ]
  },
  {
   "cell_type": "markdown",
   "metadata": {
    "id": "9_ck0ZFfZInR"
   },
   "source": [
    "Next, we can create a PyTorch dataset and a corresponding dataloader (both for training and evaluation):"
   ]
  },
  {
   "cell_type": "code",
   "execution_count": 59,
   "metadata": {
    "id": "HUJftzeBWh2S",
    "scrolled": true
   },
   "outputs": [
    {
     "name": "stdout",
     "output_type": "stream",
     "text": [
      "(Before)\n",
      "['clear', 'copy', 'fromkeys', 'get', 'items', 'keys', 'pop', 'popitem', 'setdefault', 'update', 'values']\n",
      "(After)\n",
      "['clear', 'copy', 'data_dir', 'fromkeys', 'get', 'items', 'keys', 'local_rank', 'max_seq_length', 'model_name_or_path', 'model_type', 'overwrite_cache', 'pop', 'popitem', 'setdefault', 'update', 'values']\n"
     ]
    }
   ],
   "source": [
    "args = {'local_rank': -1,\n",
    "        'overwrite_cache': True,\n",
    "        'data_dir': path_dataset,\n",
    "        'model_name_or_path': 'microsoft/layoutlm-base-uncased',\n",
    "        'max_seq_length': 512,\n",
    "        'model_type': 'layoutlm',\n",
    "       }\n",
    "\n",
    "print(\"(Before)\")\n",
    "print([s for s in dir(args) if not s.startswith(\"_\")])\n",
    "\n",
    "# class to turn the keys of a dict into attributes (thanks to stackoverflow)\n",
    "class AttrDict(dict):\n",
    "    def __init__(self, *args, **kwargs):\n",
    "        super(AttrDict, self).__init__(*args, **kwargs)\n",
    "        self.__dict__ = self\n",
    "\n",
    "args = AttrDict(args)\n",
    "print(\"(After)\")\n",
    "print([s for s in dir(args) if not s.startswith(\"_\")])"
   ]
  },
  {
   "cell_type": "markdown",
   "metadata": {},
   "source": [
    "**(?)** Try to understand how `AttrDict()` does it, if you have time."
   ]
  },
  {
   "cell_type": "code",
   "execution_count": 213,
   "metadata": {
    "id": "HUJftzeBWh2S",
    "scrolled": true
   },
   "outputs": [
    {
     "name": "stderr",
     "output_type": "stream",
     "text": [
      "2021-08-07 17:01:28.754734: W tensorflow/stream_executor/platform/default/dso_loader.cc:64] Could not load dynamic library 'libcudart.so.11.0'; dlerror: libcudart.so.11.0: cannot open shared object file: No such file or directory\n",
      "2021-08-07 17:01:28.754767: I tensorflow/stream_executor/cuda/cudart_stub.cc:29] Ignore above cudart dlerror if you do not have a GPU set up on your machine.\n"
     ]
    }
   ],
   "source": [
    "from transformers import LayoutLMTokenizer\n",
    "from layoutlm.data.funsd import FunsdDataset, InputFeatures\n",
    "from torch.utils.data import DataLoader, RandomSampler, SequentialSampler"
   ]
  },
  {
   "cell_type": "code",
   "execution_count": 214,
   "metadata": {
    "id": "HUJftzeBWh2S"
   },
   "outputs": [],
   "source": [
    "tokenizer = LayoutLMTokenizer.from_pretrained(\n",
    "    \"microsoft/layoutlm-base-uncased\"\n",
    ")"
   ]
  },
  {
   "cell_type": "markdown",
   "metadata": {},
   "source": [
    "**(?)** Où est stocké ce fameux tokenizer au nom de `microsoft/layoutlm-base-uncased`?"
   ]
  },
  {
   "cell_type": "code",
   "execution_count": 215,
   "metadata": {
    "id": "HUJftzeBWh2S"
   },
   "outputs": [],
   "source": [
    "# the LayoutLM authors already defined a specific FunsdDataset,\n",
    "# so we are going to use this here\n",
    "train_dataset = FunsdDataset(args, tokenizer, labels, pad_token_label_id, mode=\"train\")\n",
    "train_sampler = RandomSampler(train_dataset)\n",
    "train_dataloader = DataLoader(train_dataset,\n",
    "                              sampler=train_sampler,\n",
    "                              batch_size=2)\n",
    "\n",
    "eval_dataset = FunsdDataset(args, tokenizer, labels, pad_token_label_id, mode=\"test\")\n",
    "eval_sampler = SequentialSampler(eval_dataset)\n",
    "eval_dataloader = DataLoader(eval_dataset,\n",
    "                             sampler=eval_sampler,\n",
    "                             batch_size=2)"
   ]
  },
  {
   "cell_type": "markdown",
   "metadata": {},
   "source": [
    "Note that we chooses\n",
    "\n",
    "- `RandomSampler` for training\n",
    "- `SequentialSampler` for evaluation/testing\n",
    "\n",
    "which is normal, since we don't want the training result to depend on the order of the training instances."
   ]
  },
  {
   "cell_type": "code",
   "execution_count": 216,
   "metadata": {
    "colab": {
     "base_uri": "https://localhost:8080/"
    },
    "id": "18NMUBzgOdqu",
    "outputId": "eef47b70-3a9a-4b19-be6b-95900c58337b"
   },
   "outputs": [
    {
     "data": {
      "text/plain": [
       "75"
      ]
     },
     "execution_count": 216,
     "metadata": {},
     "output_type": "execute_result"
    }
   ],
   "source": [
    "len(train_dataloader)"
   ]
  },
  {
   "cell_type": "code",
   "execution_count": 217,
   "metadata": {
    "colab": {
     "base_uri": "https://localhost:8080/"
    },
    "id": "toFjxtn71B1U",
    "outputId": "f4651896-cafc-449a-98b4-c81f41177e6d",
    "scrolled": true
   },
   "outputs": [
    {
     "data": {
      "text/plain": [
       "26"
      ]
     },
     "execution_count": 217,
     "metadata": {},
     "output_type": "execute_result"
    }
   ],
   "source": [
    "len(eval_dataloader)"
   ]
  },
  {
   "cell_type": "code",
   "execution_count": null,
   "metadata": {
    "colab": {
     "base_uri": "https://localhost:8080/",
     "height": 137
    },
    "id": "RhINSBw9I24G",
    "outputId": "28738ce2-617c-47d3-b8c9-f949d3066d60"
   },
   "outputs": [],
   "source": [
    "batch = next(iter(train_dataloader))\n",
    "type(batch)"
   ]
  },
  {
   "cell_type": "code",
   "execution_count": null,
   "metadata": {},
   "outputs": [],
   "source": [
    "len(batch)"
   ]
  },
  {
   "cell_type": "code",
   "execution_count": null,
   "metadata": {},
   "outputs": [],
   "source": [
    "[type(batch[i]) for i in range(len(batch))]"
   ]
  },
  {
   "cell_type": "code",
   "execution_count": null,
   "metadata": {},
   "outputs": [],
   "source": [
    "[batch[i].shape for i in range(len(batch))]"
   ]
  },
  {
   "cell_type": "markdown",
   "metadata": {},
   "source": [
    "**(?)** Why the last batch get to get a diff shape `[2, 512, 4]` from the others?"
   ]
  },
  {
   "cell_type": "code",
   "execution_count": null,
   "metadata": {
    "colab": {
     "base_uri": "https://localhost:8080/",
     "height": 137
    },
    "id": "RhINSBw9I24G",
    "outputId": "28738ce2-617c-47d3-b8c9-f949d3066d60",
    "scrolled": true
   },
   "outputs": [],
   "source": [
    "input_ids = batch[0][0]\n",
    "tokenizer.decode(input_ids)"
   ]
  },
  {
   "cell_type": "markdown",
   "metadata": {},
   "source": [
    "**(?)** What is this text all about? And what does `[CLS]` mean?<br>\n",
    "**(R)** It seems that `[CLS]` stands for **Classification**. For the moment, I know no more than that."
   ]
  },
  {
   "cell_type": "code",
   "execution_count": null,
   "metadata": {
    "scrolled": true
   },
   "outputs": [],
   "source": [
    "tokenizer.decode(batch[0][1])"
   ]
  },
  {
   "cell_type": "markdown",
   "metadata": {},
   "source": [
    "I think that\n",
    "\n",
    "- These batches has `2` as the first number for their shapes because we have asked to `batch_size=2` in the `Dataloader`'s above\n",
    "- Each instance is padded to `512`-dimensional also because we have asked for -- In the dictionary `args` defined early, we required the key-value pair `'max_seq_length': 512`"
   ]
  },
  {
   "cell_type": "markdown",
   "metadata": {
    "id": "66cEmLDoUFcm"
   },
   "source": [
    "## Define and fine-tune the model\n",
    "As this is a sequence labeling task, we are going to load `LayoutLMForTokenClassification` (the base sized model) from the hub. We are going to fine-tune it on a downstream task, namely FUNSD.\n",
    "\n",
    "**(?)** Apparently, `LayoutLM` was <del>not trained on FUNSD</del>. Then what was its training set?<br>\n",
    "**(R)** It is pre-trained on the **IIT-CDIP Test Collection 1.0** dataset, and now we are training `LayoutLM` on FUNSD."
   ]
  },
  {
   "cell_type": "code",
   "execution_count": null,
   "metadata": {
    "colab": {
     "base_uri": "https://localhost:8080/",
     "height": 1000,
     "referenced_widgets": [
      "da1094982d044ab28eb0effebbfcbb78",
      "513e00b619924f5693259cd919a927ab",
      "63e819a04f6e4829838c0e30e65516ed",
      "d1c3e1a66db04227a74ef8d6481d6daf",
      "c75f0da13a1e4dbe94800711d55390a6",
      "31642aacae2a44879960da09f938ecc4",
      "138a6b922e454ebbaeb315ecd5f476b8",
      "a8126ba98376402888e9ba344cf1c538"
     ]
    },
    "id": "xIdOsFBiTsuw",
    "outputId": "95e8811c-025a-41a0-9d03-4285a17f2a9b"
   },
   "outputs": [],
   "source": [
    "from transformers import LayoutLMForTokenClassification\n",
    "import torch\n",
    "\n",
    "device = torch.device(\"cuda\" if torch.cuda.is_available() else \"cpu\")\n",
    "\n",
    "model = LayoutLMForTokenClassification.from_pretrained(\"microsoft/layoutlm-base-uncased\", num_labels=num_labels)\n",
    "model.to(device)"
   ]
  },
  {
   "cell_type": "markdown",
   "metadata": {
    "id": "3weFr_pz1mla"
   },
   "source": [
    "Now we can start training:"
   ]
  },
  {
   "cell_type": "code",
   "execution_count": null,
   "metadata": {
    "colab": {
     "base_uri": "https://localhost:8080/"
    },
    "id": "Yu0qePs2cRKo",
    "outputId": "cdbb9a03-eb9b-4740-bbe3-da06b9192bae"
   },
   "outputs": [],
   "source": [
    "from transformers import AdamW\n",
    "from tqdm.notebook import tqdm\n",
    "\n",
    "optimizer = AdamW(model.parameters(), lr=5e-5)\n",
    "\n",
    "global_step = 0\n",
    "num_train_epochs = 5\n",
    "\n",
    "# total number of training steps \n",
    "t_total = len(train_dataloader) * num_train_epochs\n",
    "\n",
    "#put the model in training mode\n",
    "model.train()\n",
    "\n",
    "for epoch in range(num_train_epochs):\n",
    "    for batch in tqdm(train_dataloader, desc=\"Training\"):\n",
    "        input_ids = batch[0].to(device)\n",
    "        bbox = batch[4].to(device)\n",
    "        attention_mask = batch[1].to(device)\n",
    "        token_type_ids = batch[2].to(device)\n",
    "        labels = batch[3].to(device)\n",
    "\n",
    "        # forward pass\n",
    "        outputs = model(input_ids=input_ids, bbox=bbox, attention_mask=attention_mask, token_type_ids=token_type_ids,\n",
    "                        labels=labels)\n",
    "        loss = outputs.loss\n",
    "\n",
    "        # print loss every, 100, no, 50 steps\n",
    "        if global_step % 50 == 0:\n",
    "          print(f\"Loss after {global_step} steps: {loss.item()}\")\n",
    "\n",
    "        # backward pass to get the gradients \n",
    "        loss.backward()\n",
    "\n",
    "        #print(\"Gradients on classification head:\")\n",
    "        #print(model.classifier.weight.grad[6,:].sum())\n",
    "\n",
    "        # update\n",
    "        optimizer.step()\n",
    "        optimizer.zero_grad()\n",
    "        global_step += 1"
   ]
  },
  {
   "cell_type": "markdown",
   "metadata": {},
   "source": [
    "#### Stopped here (2021/07/22 (木) 18h17)"
   ]
  },
  {
   "cell_type": "markdown",
   "metadata": {
    "id": "sNsh67yn5XFb"
   },
   "source": [
    "## Evaluation\n",
    "\n",
    "Now let's evaluate on the test set:"
   ]
  },
  {
   "cell_type": "code",
   "execution_count": null,
   "metadata": {
    "colab": {
     "base_uri": "https://localhost:8080/"
    },
    "id": "u1rNslap5Y3N",
    "outputId": "877183d4-1d29-4d09-bd3a-0e5f88611dc8"
   },
   "outputs": [],
   "source": [
    "import numpy as np\n",
    "from seqeval.metrics import (\n",
    "    classification_report,\n",
    "    f1_score,\n",
    "    precision_score,\n",
    "    recall_score,\n",
    ")\n",
    "\n",
    "eval_loss = 0.0\n",
    "nb_eval_steps = 0\n",
    "preds = None\n",
    "out_label_ids = None\n",
    "\n",
    "# put model in evaluation mode\n",
    "model.eval()\n",
    "for batch in tqdm(eval_dataloader, desc=\"Evaluating\"):\n",
    "    with torch.no_grad():\n",
    "        input_ids = batch[0].to(device)\n",
    "        bbox = batch[4].to(device)\n",
    "        attention_mask = batch[1].to(device)\n",
    "        token_type_ids = batch[2].to(device)\n",
    "        labels = batch[3].to(device)\n",
    "\n",
    "        # forward pass\n",
    "        outputs = model(input_ids=input_ids, bbox=bbox, attention_mask=attention_mask, token_type_ids=token_type_ids,\n",
    "                        labels=labels)\n",
    "        # get the loss and logits\n",
    "        tmp_eval_loss = outputs.loss\n",
    "        logits = outputs.logits\n",
    "\n",
    "        eval_loss += tmp_eval_loss.item()\n",
    "        nb_eval_steps += 1\n",
    "\n",
    "        # compute the predictions\n",
    "        if preds is None:\n",
    "            preds = logits.detach().cpu().numpy()\n",
    "            out_label_ids = labels.detach().cpu().numpy()\n",
    "        else:\n",
    "            preds = np.append(preds, logits.detach().cpu().numpy(), axis=0)\n",
    "            out_label_ids = np.append(\n",
    "                out_label_ids, labels.detach().cpu().numpy(), axis=0\n",
    "            )\n",
    "\n",
    "# compute average evaluation loss\n",
    "eval_loss = eval_loss / nb_eval_steps\n",
    "preds = np.argmax(preds, axis=2)\n",
    "\n",
    "out_label_list = [[] for _ in range(out_label_ids.shape[0])]\n",
    "preds_list = [[] for _ in range(out_label_ids.shape[0])]\n",
    "\n",
    "for i in range(out_label_ids.shape[0]):\n",
    "    for j in range(out_label_ids.shape[1]):\n",
    "        if out_label_ids[i, j] != pad_token_label_id:\n",
    "            out_label_list[i].append(label_map[out_label_ids[i][j]])\n",
    "            preds_list[i].append(label_map[preds[i][j]])\n",
    "\n",
    "results = {\n",
    "    \"loss\": eval_loss,\n",
    "    \"precision\": precision_score(out_label_list, preds_list),\n",
    "    \"recall\": recall_score(out_label_list, preds_list),\n",
    "    \"f1\": f1_score(out_label_list, preds_list),\n",
    "}\n",
    "print(results)"
   ]
  },
  {
   "cell_type": "markdown",
   "metadata": {
    "id": "kzOwxxIHM30r"
   },
   "source": [
    "## Inference\n",
    "\n",
    "Now comes the fun part! We can now use the fine-tuned model and test it on unseen data.\n",
    "\n",
    "Note that LayoutLM relies on an external OCR engine (it's not end-to-end -> that's probably something for the future). The test data itself also contains the annotated bounding boxes, but let's run an OCR engine ourselves.\n",
    "\n",
    "So let's load an image from the test set, run our own OCR on it to get the bounding boxes, and then run LayoutLM on the individual tokens and visualize the result!\n",
    "\n",
    "Sources:\n",
    "* https://www.kaggle.com/jpmiller/layoutlm-starter\n",
    "* https://bhadreshpsavani.medium.com/how-to-use-tesseract-library-for-ocr-in-google-colab-notebook-5da5470e4fe0"
   ]
  },
  {
   "cell_type": "code",
   "execution_count": null,
   "metadata": {
    "colab": {
     "base_uri": "https://localhost:8080/"
    },
    "id": "xgrZ8pENAZHD",
    "outputId": "1ea8100f-f4f0-490f-dd91-456ca8cdf6d9"
   },
   "outputs": [],
   "source": [
    "!sudo apt install tesseract-ocr\n",
    "!pip install pytesseract"
   ]
  },
  {
   "cell_type": "code",
   "execution_count": null,
   "metadata": {
    "colab": {
     "base_uri": "https://localhost:8080/",
     "height": 1000
    },
    "id": "l_7dmPC64Dfd",
    "outputId": "078afc7c-27a2-4614-f75a-a1c7f9870b9a"
   },
   "outputs": [],
   "source": [
    "import pytesseract\n",
    "\n",
    "#image = Image.open('/content/form_example.jpg')\n",
    "image = Image.open(\"/content/data/testing_data/images/83443897.png\")\n",
    "image = image.convert(\"RGB\")\n",
    "image"
   ]
  },
  {
   "cell_type": "markdown",
   "metadata": {
    "id": "ExOidmxszn6t"
   },
   "source": [
    "Here we run Tesseract (an OCR engine built by Google) on the image:"
   ]
  },
  {
   "cell_type": "code",
   "execution_count": null,
   "metadata": {
    "colab": {
     "base_uri": "https://localhost:8080/",
     "height": 659
    },
    "id": "QPJlJJX0AYE7",
    "outputId": "346479e4-d693-48c4-be42-bba876324dff"
   },
   "outputs": [],
   "source": [
    "import numpy as np\n",
    "\n",
    "width, height = image.size\n",
    "w_scale = 1000/width\n",
    "h_scale = 1000/height\n",
    "\n",
    "ocr_df = pytesseract.image_to_data(image, output_type='data.frame') \\\n",
    "            \n",
    "ocr_df = ocr_df.dropna() \\\n",
    "               .assign(left_scaled = ocr_df.left*w_scale,\n",
    "                       width_scaled = ocr_df.width*w_scale,\n",
    "                       top_scaled = ocr_df.top*h_scale,\n",
    "                       height_scaled = ocr_df.height*h_scale,\n",
    "                       right_scaled = lambda x: x.left_scaled + x.width_scaled,\n",
    "                       bottom_scaled = lambda x: x.top_scaled + x.height_scaled)\n",
    "\n",
    "float_cols = ocr_df.select_dtypes('float').columns\n",
    "ocr_df[float_cols] = ocr_df[float_cols].round(0).astype(int)\n",
    "ocr_df = ocr_df.replace(r'^\\s*$', np.nan, regex=True)\n",
    "ocr_df = ocr_df.dropna().reset_index(drop=True)\n",
    "ocr_df[:20]"
   ]
  },
  {
   "cell_type": "code",
   "execution_count": null,
   "metadata": {
    "colab": {
     "base_uri": "https://localhost:8080/"
    },
    "id": "ozxEGUSdGkkH",
    "outputId": "ad20e46e-1be2-4d44-daf9-2935e4b37018"
   },
   "outputs": [],
   "source": [
    "len(ocr_df)"
   ]
  },
  {
   "cell_type": "markdown",
   "metadata": {
    "id": "tgtCwrvK3k2W"
   },
   "source": [
    "Here we create a list of words, actual bounding boxes, and normalized boxes."
   ]
  },
  {
   "cell_type": "code",
   "execution_count": null,
   "metadata": {
    "colab": {
     "base_uri": "https://localhost:8080/"
    },
    "id": "qoB1uEtOP_2H",
    "outputId": "9f4e04a0-4e7d-496c-f731-4a60af5cadc5"
   },
   "outputs": [],
   "source": [
    "words = list(ocr_df.text)\n",
    "coordinates = ocr_df[['left', 'top', 'width', 'height']]\n",
    "actual_boxes = []\n",
    "for idx, row in coordinates.iterrows():\n",
    "  x, y, w, h = tuple(row) # the row comes in (left, top, width, height) format\n",
    "  actual_box = [x, y, x+w, y+h] # we turn it into (left, top, left+widght, top+height) to get the actual box \n",
    "  actual_boxes.append(actual_box)\n",
    "\n",
    "def normalize_box(box, width, height):\n",
    "    return [\n",
    "        int(1000 * (box[0] / width)),\n",
    "        int(1000 * (box[1] / height)),\n",
    "        int(1000 * (box[2] / width)),\n",
    "        int(1000 * (box[3] / height)),\n",
    "    ]\n",
    "\n",
    "boxes = []\n",
    "for box in actual_boxes:\n",
    "  boxes.append(normalize_box(box, width, height))\n",
    "boxes"
   ]
  },
  {
   "cell_type": "markdown",
   "metadata": {
    "id": "KfneTqU875U1"
   },
   "source": [
    "This should become the future API of LayoutLMTokenizer (`prepare_for_model()`): "
   ]
  },
  {
   "cell_type": "code",
   "execution_count": null,
   "metadata": {
    "id": "eDEh152kB-LE"
   },
   "outputs": [],
   "source": [
    "def convert_example_to_features(image, words, boxes, actual_boxes, tokenizer, args, cls_token_box=[0, 0, 0, 0],\n",
    "                                 sep_token_box=[1000, 1000, 1000, 1000],\n",
    "                                 pad_token_box=[0, 0, 0, 0]):\n",
    "      width, height = image.size\n",
    "\n",
    "      tokens = []\n",
    "      token_boxes = []\n",
    "      actual_bboxes = [] # we use an extra b because actual_boxes is already used\n",
    "      token_actual_boxes = []\n",
    "      for word, box, actual_bbox in zip(words, boxes, actual_boxes):\n",
    "          word_tokens = tokenizer.tokenize(word)\n",
    "          tokens.extend(word_tokens)\n",
    "          token_boxes.extend([box] * len(word_tokens))\n",
    "          actual_bboxes.extend([actual_bbox] * len(word_tokens))\n",
    "          token_actual_boxes.extend([actual_bbox] * len(word_tokens))\n",
    "\n",
    "      # Truncation: account for [CLS] and [SEP] with \"- 2\". \n",
    "      special_tokens_count = 2 \n",
    "      if len(tokens) > args.max_seq_length - special_tokens_count:\n",
    "          tokens = tokens[: (args.max_seq_length - special_tokens_count)]\n",
    "          token_boxes = token_boxes[: (args.max_seq_length - special_tokens_count)]\n",
    "          actual_bboxes = actual_bboxes[: (args.max_seq_length - special_tokens_count)]\n",
    "          token_actual_boxes = token_actual_boxes[: (args.max_seq_length - special_tokens_count)]\n",
    "\n",
    "      # add [SEP] token, with corresponding token boxes and actual boxes\n",
    "      tokens += [tokenizer.sep_token]\n",
    "      token_boxes += [sep_token_box]\n",
    "      actual_bboxes += [[0, 0, width, height]]\n",
    "      token_actual_boxes += [[0, 0, width, height]]\n",
    "      \n",
    "      segment_ids = [0] * len(tokens)\n",
    "\n",
    "      # next: [CLS] token\n",
    "      tokens = [tokenizer.cls_token] + tokens\n",
    "      token_boxes = [cls_token_box] + token_boxes\n",
    "      actual_bboxes = [[0, 0, width, height]] + actual_bboxes\n",
    "      token_actual_boxes = [[0, 0, width, height]] + token_actual_boxes\n",
    "      segment_ids = [1] + segment_ids\n",
    "\n",
    "      input_ids = tokenizer.convert_tokens_to_ids(tokens)\n",
    "\n",
    "      # The mask has 1 for real tokens and 0 for padding tokens. Only real\n",
    "      # tokens are attended to.\n",
    "      input_mask = [1] * len(input_ids)\n",
    "\n",
    "      # Zero-pad up to the sequence length.\n",
    "      padding_length = args.max_seq_length - len(input_ids)\n",
    "      input_ids += [tokenizer.pad_token_id] * padding_length\n",
    "      input_mask += [0] * padding_length\n",
    "      segment_ids += [tokenizer.pad_token_id] * padding_length\n",
    "      token_boxes += [pad_token_box] * padding_length\n",
    "      token_actual_boxes += [pad_token_box] * padding_length\n",
    "\n",
    "      assert len(input_ids) == args.max_seq_length\n",
    "      assert len(input_mask) == args.max_seq_length\n",
    "      assert len(segment_ids) == args.max_seq_length\n",
    "      #assert len(label_ids) == args.max_seq_length\n",
    "      assert len(token_boxes) == args.max_seq_length\n",
    "      assert len(token_actual_boxes) == args.max_seq_length\n",
    "      \n",
    "      return input_ids, input_mask, segment_ids, token_boxes, token_actual_boxes"
   ]
  },
  {
   "cell_type": "code",
   "execution_count": null,
   "metadata": {
    "id": "Omze6dqfUTH-"
   },
   "outputs": [],
   "source": [
    "input_ids, input_mask, segment_ids, token_boxes, token_actual_boxes = convert_example_to_features(image=image, words=words, boxes=boxes, actual_boxes=actual_boxes, tokenizer=tokenizer, args=args)"
   ]
  },
  {
   "cell_type": "code",
   "execution_count": null,
   "metadata": {
    "colab": {
     "base_uri": "https://localhost:8080/",
     "height": 137
    },
    "id": "6oE3rFL2WJDB",
    "outputId": "61836dd3-a708-4d6d-8982-5cdeeab0a428"
   },
   "outputs": [],
   "source": [
    "tokenizer.decode(input_ids)"
   ]
  },
  {
   "cell_type": "markdown",
   "metadata": {
    "id": "vEM6O-kF55d1"
   },
   "source": [
    "Now let's perform a forward pass!"
   ]
  },
  {
   "cell_type": "code",
   "execution_count": null,
   "metadata": {
    "colab": {
     "base_uri": "https://localhost:8080/"
    },
    "id": "9QrrjzMA6Xps",
    "outputId": "5b15e45d-19b3-4c26-e7d9-1acd11687ad9"
   },
   "outputs": [],
   "source": [
    "input_ids = torch.tensor(input_ids, device=device).unsqueeze(0)\n",
    "input_ids.shape"
   ]
  },
  {
   "cell_type": "code",
   "execution_count": null,
   "metadata": {
    "colab": {
     "base_uri": "https://localhost:8080/"
    },
    "id": "0ZSUel096fFd",
    "outputId": "0eded566-4bec-4638-ca8c-a3bc980a29b8"
   },
   "outputs": [],
   "source": [
    "attention_mask = torch.tensor(input_mask, device=device).unsqueeze(0)\n",
    "attention_mask.shape"
   ]
  },
  {
   "cell_type": "code",
   "execution_count": null,
   "metadata": {
    "colab": {
     "base_uri": "https://localhost:8080/"
    },
    "id": "pyux4BmV6jEw",
    "outputId": "3140e76a-958f-45c4-b68d-2652d3dea794"
   },
   "outputs": [],
   "source": [
    "token_type_ids = torch.tensor(segment_ids, device=device).unsqueeze(0)\n",
    "token_type_ids.shape"
   ]
  },
  {
   "cell_type": "code",
   "execution_count": null,
   "metadata": {
    "colab": {
     "base_uri": "https://localhost:8080/"
    },
    "id": "UoicSudS6p2m",
    "outputId": "d2992745-0330-4bf3-9694-57d446c47e86"
   },
   "outputs": [],
   "source": [
    "bbox = torch.tensor(token_boxes, device=device).unsqueeze(0)\n",
    "bbox.shape"
   ]
  },
  {
   "cell_type": "code",
   "execution_count": null,
   "metadata": {
    "colab": {
     "base_uri": "https://localhost:8080/"
    },
    "id": "5Y-_7Wqb51U9",
    "outputId": "0a9eb671-2fda-425f-8574-e90a7a214b53"
   },
   "outputs": [],
   "source": [
    "outputs = model(input_ids=input_ids, bbox=bbox, attention_mask=attention_mask, token_type_ids=token_type_ids)\n",
    "outputs"
   ]
  },
  {
   "cell_type": "code",
   "execution_count": null,
   "metadata": {
    "colab": {
     "base_uri": "https://localhost:8080/"
    },
    "id": "KLcMfJH26ozs",
    "outputId": "65d180cb-61f0-4877-e42d-40602fc19965"
   },
   "outputs": [],
   "source": [
    "outputs.logits.shape"
   ]
  },
  {
   "cell_type": "code",
   "execution_count": null,
   "metadata": {
    "colab": {
     "base_uri": "https://localhost:8080/"
    },
    "id": "s0dBXbhdJnz4",
    "outputId": "b55b2e82-a596-44f8-a2cd-3d57e8620224"
   },
   "outputs": [],
   "source": [
    "outputs.logits.argmax(-1)"
   ]
  },
  {
   "cell_type": "markdown",
   "metadata": {
    "id": "ePeWryCEzvYW"
   },
   "source": [
    "Of course, LayoutLM outputs labels at the token level, but we are interested in the predicted labels at the word level. So we should actually only incorporate the predicted labels of tokens that are the first token of a given word: "
   ]
  },
  {
   "cell_type": "code",
   "execution_count": null,
   "metadata": {
    "colab": {
     "base_uri": "https://localhost:8080/"
    },
    "id": "5I5CiV1WM2sW",
    "outputId": "a778a337-771e-4687-c26e-8819c1110a0e"
   },
   "outputs": [],
   "source": [
    "token_predictions = outputs.logits.argmax(-1).squeeze().tolist() # the predictions are at the token level\n",
    "\n",
    "word_level_predictions = [] # let's turn them into word level predictions\n",
    "final_boxes = []\n",
    "for id, token_pred, box in zip(input_ids.squeeze().tolist(), token_predictions, token_actual_boxes):\n",
    "  if (tokenizer.decode([id]).startswith(\"##\")) or (id in [tokenizer.cls_token_id, \n",
    "                                                           tokenizer.sep_token_id, \n",
    "                                                          tokenizer.pad_token_id]):\n",
    "    # skip prediction + bounding box\n",
    "\n",
    "    continue\n",
    "  else:\n",
    "    word_level_predictions.append(token_pred)\n",
    "    final_boxes.append(box)\n",
    "\n",
    "# for id, prediction in zip(input_ids.squeeze().tolist(), predictions):\n",
    "#   if id != 0:\n",
    "#     print(tokenizer.decode([id]), label_map[prediction])\n",
    "print(word_level_predictions)"
   ]
  },
  {
   "cell_type": "code",
   "execution_count": null,
   "metadata": {
    "colab": {
     "base_uri": "https://localhost:8080/"
    },
    "id": "I5W_2CxhOzzM",
    "outputId": "26a8792c-65af-49a7-dcc0-4b6646400927"
   },
   "outputs": [],
   "source": [
    "print(len(word_level_predictions))"
   ]
  },
  {
   "cell_type": "code",
   "execution_count": null,
   "metadata": {
    "colab": {
     "base_uri": "https://localhost:8080/"
    },
    "id": "9WQaKPBnVl-L",
    "outputId": "fc687708-5a4b-414b-844d-66028ed4fe06"
   },
   "outputs": [],
   "source": [
    "print(len(final_boxes))"
   ]
  },
  {
   "cell_type": "markdown",
   "metadata": {
    "id": "PIOIgtq_Mzie"
   },
   "source": [
    "Let's visualize the result!"
   ]
  },
  {
   "cell_type": "code",
   "execution_count": null,
   "metadata": {
    "colab": {
     "base_uri": "https://localhost:8080/",
     "height": 1000
    },
    "id": "vm3sGnBsL64o",
    "outputId": "5276db95-8670-4549-e9fc-b281aee38ff3"
   },
   "outputs": [],
   "source": [
    "draw = ImageDraw.Draw(image)\n",
    "\n",
    "font = ImageFont.load_default()\n",
    "\n",
    "def iob_to_label(label):\n",
    "  if label != 'O':\n",
    "    return label[2:]\n",
    "  else:\n",
    "    return \"other\"\n",
    "\n",
    "label2color = {'question':'blue', 'answer':'green', 'header':'orange', 'other':'violet'}\n",
    "\n",
    "for prediction, box in zip(word_level_predictions, final_boxes):\n",
    "    predicted_label = iob_to_label(label_map[prediction]).lower()\n",
    "    draw.rectangle(box, outline=label2color[predicted_label])\n",
    "    draw.text((box[0] + 10, box[1] - 10), text=predicted_label, fill=label2color[predicted_label], font=font)\n",
    "\n",
    "image"
   ]
  },
  {
   "cell_type": "markdown",
   "metadata": {
    "id": "fg7C1_PReCXU"
   },
   "source": [
    "Compare this to the ground truth:"
   ]
  },
  {
   "cell_type": "code",
   "execution_count": null,
   "metadata": {
    "colab": {
     "base_uri": "https://localhost:8080/"
    },
    "id": "xyh19IBHwy_x",
    "outputId": "877dc746-a2a4-4088-b92d-d022b216c0bf"
   },
   "outputs": [],
   "source": [
    "import json\n",
    "\n",
    "with open('/content/data/testing_data/annotations/83443897.json') as f:\n",
    "  data = json.load(f)\n",
    "\n",
    "for annotation in data['form']:\n",
    "  print(annotation)"
   ]
  },
  {
   "cell_type": "markdown",
   "metadata": {
    "id": "0TtA3buU0kDZ"
   },
   "source": [
    "Note that we only print the labels for the general bounding boxes, for readability. Each general bounding box consists of one or more bounding boxes, which comprise the individual words:"
   ]
  },
  {
   "cell_type": "code",
   "execution_count": null,
   "metadata": {
    "colab": {
     "base_uri": "https://localhost:8080/",
     "height": 1000
    },
    "id": "rcInpWH4K-V5",
    "outputId": "f9773154-fb33-484a-ef25-90e18fbab962"
   },
   "outputs": [],
   "source": [
    "image = Image.open(\"/content/data/testing_data/images/83443897.png\")\n",
    "image = image.convert('RGB')\n",
    "\n",
    "draw = ImageDraw.Draw(image)\n",
    "\n",
    "label2color = {'question':'blue', 'answer':'green', 'header':'orange', 'other':'violet'}\n",
    "\n",
    "for annotation in data['form']:\n",
    "  label = annotation['label']\n",
    "  general_box = annotation['box']\n",
    "  draw.rectangle(general_box, outline=label2color[label], width=2)\n",
    "  draw.text((general_box[0] + 10, general_box[1] - 10), label, fill=label2color[label], font=font)\n",
    "  words = annotation['words']\n",
    "  for word in words:\n",
    "    box = word['box']\n",
    "    draw.rectangle(box, outline=label2color[label], width=1)\n",
    "\n",
    "image"
   ]
  },
  {
   "cell_type": "markdown",
   "metadata": {
    "id": "zKb0UAkSlizR"
   },
   "source": [
    "## Legacy\n",
    "\n",
    "The code below was used during the development of this notebook, but is not used anymore."
   ]
  },
  {
   "cell_type": "code",
   "execution_count": null,
   "metadata": {
    "id": "A7bNPb0IvaYu"
   },
   "outputs": [],
   "source": [
    "# from transformers import AdamW, get_linear_schedule_with_warmup\n",
    "\n",
    "# # Prepare optimizer and schedule (linear warmup and decay)\n",
    "# no_decay = [\"bias\", \"LayerNorm.weight\"]\n",
    "# optimizer_grouped_parameters = [\n",
    "#     {\n",
    "#         \"params\": [\n",
    "#             p\n",
    "#             for n, p in model.named_parameters()\n",
    "#             if not any(nd in n for nd in no_decay)\n",
    "#         ],\n",
    "#         \"weight_decay\": 0.0,\n",
    "#     },\n",
    "#     {\n",
    "#         \"params\": [\n",
    "#             p\n",
    "#             for n, p in model.named_parameters()\n",
    "#             if any(nd in n for nd in no_decay)\n",
    "#         ],\n",
    "#         \"weight_decay\": 0.0,\n",
    "#     },\n",
    "# ]\n",
    "\n",
    "# optimizer = AdamW(\n",
    "#     optimizer_grouped_parameters, lr=5e-5, eps=1e-8\n",
    "# )\n",
    "\n",
    "# scheduler = get_linear_schedule_with_warmup(\n",
    "#     optimizer, num_warmup_steps=0, num_training_steps=-1\n",
    "# )"
   ]
  }
 ],
 "metadata": {
  "accelerator": "GPU",
  "colab": {
   "collapsed_sections": [],
   "include_colab_link": true,
   "name": "Fine-tuning LayoutLMForTokenClassification on FUNSD.ipynb",
   "provenance": [],
   "toc_visible": true
  },
  "kernelspec": {
   "display_name": "Python 3 (ipykernel)",
   "language": "python",
   "name": "python3"
  },
  "language_info": {
   "codemirror_mode": {
    "name": "ipython",
    "version": 3
   },
   "file_extension": ".py",
   "mimetype": "text/x-python",
   "name": "python",
   "nbconvert_exporter": "python",
   "pygments_lexer": "ipython3",
   "version": "3.7.10"
  },
  "widgets": {
   "application/vnd.jupyter.widget-state+json": {
    "138a6b922e454ebbaeb315ecd5f476b8": {
     "model_module": "@jupyter-widgets/controls",
     "model_name": "DescriptionStyleModel",
     "state": {
      "_model_module": "@jupyter-widgets/controls",
      "_model_module_version": "1.5.0",
      "_model_name": "DescriptionStyleModel",
      "_view_count": null,
      "_view_module": "@jupyter-widgets/base",
      "_view_module_version": "1.2.0",
      "_view_name": "StyleView",
      "description_width": ""
     }
    },
    "31642aacae2a44879960da09f938ecc4": {
     "model_module": "@jupyter-widgets/base",
     "model_name": "LayoutModel",
     "state": {
      "_model_module": "@jupyter-widgets/base",
      "_model_module_version": "1.2.0",
      "_model_name": "LayoutModel",
      "_view_count": null,
      "_view_module": "@jupyter-widgets/base",
      "_view_module_version": "1.2.0",
      "_view_name": "LayoutView",
      "align_content": null,
      "align_items": null,
      "align_self": null,
      "border": null,
      "bottom": null,
      "display": null,
      "flex": null,
      "flex_flow": null,
      "grid_area": null,
      "grid_auto_columns": null,
      "grid_auto_flow": null,
      "grid_auto_rows": null,
      "grid_column": null,
      "grid_gap": null,
      "grid_row": null,
      "grid_template_areas": null,
      "grid_template_columns": null,
      "grid_template_rows": null,
      "height": null,
      "justify_content": null,
      "justify_items": null,
      "left": null,
      "margin": null,
      "max_height": null,
      "max_width": null,
      "min_height": null,
      "min_width": null,
      "object_fit": null,
      "object_position": null,
      "order": null,
      "overflow": null,
      "overflow_x": null,
      "overflow_y": null,
      "padding": null,
      "right": null,
      "top": null,
      "visibility": null,
      "width": null
     }
    },
    "513e00b619924f5693259cd919a927ab": {
     "model_module": "@jupyter-widgets/base",
     "model_name": "LayoutModel",
     "state": {
      "_model_module": "@jupyter-widgets/base",
      "_model_module_version": "1.2.0",
      "_model_name": "LayoutModel",
      "_view_count": null,
      "_view_module": "@jupyter-widgets/base",
      "_view_module_version": "1.2.0",
      "_view_name": "LayoutView",
      "align_content": null,
      "align_items": null,
      "align_self": null,
      "border": null,
      "bottom": null,
      "display": null,
      "flex": null,
      "flex_flow": null,
      "grid_area": null,
      "grid_auto_columns": null,
      "grid_auto_flow": null,
      "grid_auto_rows": null,
      "grid_column": null,
      "grid_gap": null,
      "grid_row": null,
      "grid_template_areas": null,
      "grid_template_columns": null,
      "grid_template_rows": null,
      "height": null,
      "justify_content": null,
      "justify_items": null,
      "left": null,
      "margin": null,
      "max_height": null,
      "max_width": null,
      "min_height": null,
      "min_width": null,
      "object_fit": null,
      "object_position": null,
      "order": null,
      "overflow": null,
      "overflow_x": null,
      "overflow_y": null,
      "padding": null,
      "right": null,
      "top": null,
      "visibility": null,
      "width": null
     }
    },
    "63e819a04f6e4829838c0e30e65516ed": {
     "model_module": "@jupyter-widgets/controls",
     "model_name": "FloatProgressModel",
     "state": {
      "_dom_classes": [],
      "_model_module": "@jupyter-widgets/controls",
      "_model_module_version": "1.5.0",
      "_model_name": "FloatProgressModel",
      "_view_count": null,
      "_view_module": "@jupyter-widgets/controls",
      "_view_module_version": "1.5.0",
      "_view_name": "ProgressView",
      "bar_style": "success",
      "description": "Downloading: 100%",
      "description_tooltip": null,
      "layout": "IPY_MODEL_31642aacae2a44879960da09f938ecc4",
      "max": 453093832,
      "min": 0,
      "orientation": "horizontal",
      "style": "IPY_MODEL_c75f0da13a1e4dbe94800711d55390a6",
      "value": 453093832
     }
    },
    "a8126ba98376402888e9ba344cf1c538": {
     "model_module": "@jupyter-widgets/base",
     "model_name": "LayoutModel",
     "state": {
      "_model_module": "@jupyter-widgets/base",
      "_model_module_version": "1.2.0",
      "_model_name": "LayoutModel",
      "_view_count": null,
      "_view_module": "@jupyter-widgets/base",
      "_view_module_version": "1.2.0",
      "_view_name": "LayoutView",
      "align_content": null,
      "align_items": null,
      "align_self": null,
      "border": null,
      "bottom": null,
      "display": null,
      "flex": null,
      "flex_flow": null,
      "grid_area": null,
      "grid_auto_columns": null,
      "grid_auto_flow": null,
      "grid_auto_rows": null,
      "grid_column": null,
      "grid_gap": null,
      "grid_row": null,
      "grid_template_areas": null,
      "grid_template_columns": null,
      "grid_template_rows": null,
      "height": null,
      "justify_content": null,
      "justify_items": null,
      "left": null,
      "margin": null,
      "max_height": null,
      "max_width": null,
      "min_height": null,
      "min_width": null,
      "object_fit": null,
      "object_position": null,
      "order": null,
      "overflow": null,
      "overflow_x": null,
      "overflow_y": null,
      "padding": null,
      "right": null,
      "top": null,
      "visibility": null,
      "width": null
     }
    },
    "c75f0da13a1e4dbe94800711d55390a6": {
     "model_module": "@jupyter-widgets/controls",
     "model_name": "ProgressStyleModel",
     "state": {
      "_model_module": "@jupyter-widgets/controls",
      "_model_module_version": "1.5.0",
      "_model_name": "ProgressStyleModel",
      "_view_count": null,
      "_view_module": "@jupyter-widgets/base",
      "_view_module_version": "1.2.0",
      "_view_name": "StyleView",
      "bar_color": null,
      "description_width": "initial"
     }
    },
    "d1c3e1a66db04227a74ef8d6481d6daf": {
     "model_module": "@jupyter-widgets/controls",
     "model_name": "HTMLModel",
     "state": {
      "_dom_classes": [],
      "_model_module": "@jupyter-widgets/controls",
      "_model_module_version": "1.5.0",
      "_model_name": "HTMLModel",
      "_view_count": null,
      "_view_module": "@jupyter-widgets/controls",
      "_view_module_version": "1.5.0",
      "_view_name": "HTMLView",
      "description": "",
      "description_tooltip": null,
      "layout": "IPY_MODEL_a8126ba98376402888e9ba344cf1c538",
      "placeholder": "​",
      "style": "IPY_MODEL_138a6b922e454ebbaeb315ecd5f476b8",
      "value": " 453M/453M [00:15&lt;00:00, 30.0MB/s]"
     }
    },
    "da1094982d044ab28eb0effebbfcbb78": {
     "model_module": "@jupyter-widgets/controls",
     "model_name": "HBoxModel",
     "state": {
      "_dom_classes": [],
      "_model_module": "@jupyter-widgets/controls",
      "_model_module_version": "1.5.0",
      "_model_name": "HBoxModel",
      "_view_count": null,
      "_view_module": "@jupyter-widgets/controls",
      "_view_module_version": "1.5.0",
      "_view_name": "HBoxView",
      "box_style": "",
      "children": [
       "IPY_MODEL_63e819a04f6e4829838c0e30e65516ed",
       "IPY_MODEL_d1c3e1a66db04227a74ef8d6481d6daf"
      ],
      "layout": "IPY_MODEL_513e00b619924f5693259cd919a927ab"
     }
    }
   }
  }
 },
 "nbformat": 4,
 "nbformat_minor": 1
}
