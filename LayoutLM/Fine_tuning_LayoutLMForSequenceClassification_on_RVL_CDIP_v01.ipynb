{
 "cells": [
  {
   "cell_type": "markdown",
   "metadata": {
    "colab_type": "text",
    "id": "view-in-github"
   },
   "source": [
    "<a href=\"https://colab.research.google.com/github/NielsRogge/Transformers-Tutorials/blob/master/LayoutLM/Fine_tuning_LayoutLMForSequenceClassification_on_RVL_CDIP.ipynb\" target=\"_parent\"><img src=\"https://colab.research.google.com/assets/colab-badge.svg\" alt=\"Open In Colab\"/></a>"
   ]
  },
  {
   "cell_type": "markdown",
   "metadata": {
    "id": "g1mpReuyRZHS"
   },
   "source": [
    "In this notebook, we are going to fine-tune `LayoutLMForSequenceClassification` on the [RVL-CDIP dataset](https://www.cs.cmu.edu/~aharley/rvl-cdip/), which is a document image classification task. Each scanned document in the dataset belongs to one of 16 classes, such as \"resume\" or \"invoice\" (so it's a multiclass classification problem). The entire dataset consists of no less than 400,000 (!) scanned documents. \n",
    "\n",
    "For demonstration purposes, we are going to fine-tune the model on a really small subset (one example per class), and verify whether the model is able to overfit them. Note that LayoutLM achieves state-of-the-art results on RVL-CDIP, with a classification accuracy of 94.42% on the test set.\n",
    "\n",
    "* Original LayoutLM paper: https://arxiv.org/abs/1912.13318\n",
    "* LayoutLM docs in the Transformers library: https://huggingface.co/transformers/model_doc/layoutlm.html\n"
   ]
  },
  {
   "cell_type": "markdown",
   "metadata": {
    "id": "eb9O-5FdoCF9"
   },
   "source": [
    "## Setting up environment\n",
    "\n",
    "First, we install the 🤗 transformers and datasets libraries, as well as the [Tesseract OCR engine](https://github.com/tesseract-ocr/tesseract) (built by Google). LayoutLM requires an external OCR engine of choice to turn a document into a list of words and bounding boxes."
   ]
  },
  {
   "cell_type": "code",
   "execution_count": 2,
   "metadata": {},
   "outputs": [
    {
     "name": "stdout",
     "output_type": "stream",
     "text": [
      "datasets                1.11.0\r\n",
      "transformers            4.9.0.dev0\r\n"
     ]
    }
   ],
   "source": [
    "!pip list | grep \"datasets\\|transformers\""
   ]
  },
  {
   "cell_type": "code",
   "execution_count": 3,
   "metadata": {
    "colab": {
     "base_uri": "https://localhost:8080/"
    },
    "id": "x9ALDa_1rrQO",
    "outputId": "511a7c27-2621-485a-95e8-b0b81b0bbb6e"
   },
   "outputs": [
    {
     "name": "stdout",
     "output_type": "stream",
     "text": [
      "datasets                1.11.0\n",
      "transformers            4.9.0.dev0\n"
     ]
    }
   ],
   "source": [
    "#! pip install transformers datasets\n",
    "!(pip list | grep \"datasets\") || pip install datasets\n",
    "!(pip list | grep \"transformers\") || pip install transformers"
   ]
  },
  {
   "cell_type": "code",
   "execution_count": 4,
   "metadata": {},
   "outputs": [
    {
     "name": "stdout",
     "output_type": "stream",
     "text": [
      "\u001b[?25llocal/tesseract 4.1.1-7\r\n",
      "    An OCR program\r\n",
      "local/tesseract-data-eng 2:4.1.0-1 (tesseract-data)\r\n",
      "    Tesseract OCR data (eng)\r\n",
      "\u001b[?25h"
     ]
    }
   ],
   "source": [
    "# Depending on one's Linux distro, one need to activate\n",
    "# one of the following lines to install Tesseract\n",
    "!pacman -Qs tesseract || sudo pacman -S tesseract --noconfirm\n",
    "#!sudo apt install tesseract-ocr"
   ]
  },
  {
   "cell_type": "code",
   "execution_count": 5,
   "metadata": {},
   "outputs": [
    {
     "name": "stdout",
     "output_type": "stream",
     "text": [
      "pytesseract             0.3.8\r\n"
     ]
    }
   ],
   "source": [
    "!(pip list | grep pytesser) || pip install pytesseract"
   ]
  },
  {
   "cell_type": "markdown",
   "metadata": {
    "id": "3vbRjhABjF0J"
   },
   "source": [
    "## Getting the data\n",
    "\n",
    "Next, we download a small subset of the RVL-CDIP dataset (which I prepared), containing 15 documents (one example per class)[ _**But you mentioned that there were 16 classes...**_  ]. I omitted the \"handwritten\" class, because the OCR results were mediocre. [ _**Oh, alright.**_ ]"
   ]
  },
  {
   "cell_type": "code",
   "execution_count": 7,
   "metadata": {},
   "outputs": [
    {
     "data": {
      "text/plain": [
       "True"
      ]
     },
     "execution_count": 7,
     "metadata": {},
     "output_type": "execute_result"
    }
   ],
   "source": [
    "from pathlib import Path\n",
    "Path(\"RVL_CDIP_one_example_per_class\").is_dir()"
   ]
  },
  {
   "cell_type": "code",
   "execution_count": 8,
   "metadata": {
    "id": "Wqaqmc3bQ2jr"
   },
   "outputs": [],
   "source": [
    "import requests, zipfile, io\n",
    "from pathlib import Path\n",
    "\n",
    "def download_data():\n",
    "    url = \"https://www.dropbox.com/s/kuw05qmc4uy474d/RVL_CDIP_one_example_per_class.zip?dl=1\"\n",
    "    r = requests.get(url)\n",
    "    z = zipfile.ZipFile(io.BytesIO(r.content))\n",
    "    z.extractall()\n",
    "\n",
    "path_dataset = Path(\"RVL_CDIP_one_example_per_class\")\n",
    "if not path_dataset.is_dir():\n",
    "    download_data()"
   ]
  },
  {
   "cell_type": "code",
   "execution_count": 9,
   "metadata": {},
   "outputs": [
    {
     "name": "stdout",
     "output_type": "stream",
     "text": [
      "Add_image_embeddings_to_LayoutLM.ipynb\r\n",
      "Fine_tuning_LayoutLMForSequenceClassification_on_RVL_CDIP.ipynb\r\n",
      "Fine_tuning_LayoutLMForSequenceClassification_on_RVL_CDIP_v01.ipynb\r\n",
      "Fine_tuning_LayoutLMForTokenClassification_on_FUNSD.ipynb\r\n",
      "\u001b[0m\u001b[01;34mRVL_CDIP_one_example_per_class\u001b[0m/\r\n",
      "trash.py\r\n"
     ]
    }
   ],
   "source": [
    "ls"
   ]
  },
  {
   "cell_type": "code",
   "execution_count": 10,
   "metadata": {},
   "outputs": [
    {
     "name": "stdout",
     "output_type": "stream",
     "text": [
      "\u001b[01;34mRVL_CDIP_one_example_per_class/\u001b[00m\r\n",
      "├── \u001b[01;34madvertisement\u001b[00m\r\n",
      "│   └── \u001b[01;35m0000121291.tif\u001b[00m\r\n",
      "├── \u001b[01;34mbudget\u001b[00m\r\n",
      "│   └── \u001b[01;35m00000337.tif\u001b[00m\r\n",
      "├── \u001b[01;34memail\u001b[00m\r\n",
      "│   └── \u001b[01;35m0011834351.tif\u001b[00m\r\n",
      "├── \u001b[01;34mfile_folder\u001b[00m\r\n",
      "│   └── \u001b[01;35m0000319200.tif\u001b[00m\r\n",
      "├── \u001b[01;34mform\u001b[00m\r\n",
      "│   └── \u001b[01;35m00043194.tif\u001b[00m\r\n",
      "├── \u001b[01;34minvoice\u001b[00m\r\n",
      "│   └── \u001b[01;35m0000145869.tif\u001b[00m\r\n",
      "├── \u001b[01;34mletter\u001b[00m\r\n",
      "│   └── \u001b[01;35m0000000700.tif\u001b[00m\r\n",
      "├── \u001b[01;34mmemo\u001b[00m\r\n",
      "│   └── \u001b[01;35m0000021894.tif\u001b[00m\r\n",
      "├── \u001b[01;34mnews_article\u001b[00m\r\n",
      "│   └── \u001b[01;35m0000009966.tif\u001b[00m\r\n",
      "├── \u001b[01;34mpresentation\u001b[00m\r\n",
      "│   └── \u001b[01;35m0000076169.tif\u001b[00m\r\n",
      "├── \u001b[01;34mquestionnaire\u001b[00m\r\n",
      "│   └── \u001b[01;35m0000002206.tif\u001b[00m\r\n",
      "├── \u001b[01;34mresume\u001b[00m\r\n",
      "│   └── \u001b[01;35m0000157402.tif\u001b[00m\r\n",
      "├── \u001b[01;34mscientific_publication\u001b[00m\r\n",
      "│   └── \u001b[01;35m00265263_00265269.tif\u001b[00m\r\n",
      "├── \u001b[01;34mscientific_report\u001b[00m\r\n",
      "│   └── \u001b[01;35m00060713.tif\u001b[00m\r\n",
      "└── \u001b[01;34mspecification\u001b[00m\r\n",
      "    └── \u001b[01;35m0000011368.tif\u001b[00m\r\n",
      "\r\n",
      "15 directories, 15 files\r\n"
     ]
    }
   ],
   "source": [
    "!tree RVL_CDIP_one_example_per_class/"
   ]
  },
  {
   "cell_type": "markdown",
   "metadata": {
    "id": "gnlSn_06oMcC"
   },
   "source": [
    "Let's look at a random training example (in this case, a resume):"
   ]
  },
  {
   "cell_type": "code",
   "execution_count": 26,
   "metadata": {
    "colab": {
     "base_uri": "https://localhost:8080/",
     "height": 1000
    },
    "id": "7akT268yjFhr",
    "outputId": "6a04ed81-bbb5-47ac-c5f3-db1099099d3a",
    "scrolled": false
   },
   "outputs": [
    {
     "name": "stdout",
     "output_type": "stream",
     "text": [
      "(Before conversion) image.mode = L\n"
     ]
    },
    {
     "data": {
      "image/png": "[encoded data removed]",
      "text/plain": [
       "<PIL.Image.Image image mode=RGB size=762x1000 at 0x7F060F0F4A90>"
      ]
     },
     "execution_count": 26,
     "metadata": {},
     "output_type": "execute_result"
    }
   ],
   "source": [
    "from PIL import Image, ImageDraw, ImageFont\n",
    "\n",
    "image = Image.open(path_dataset / \"resume/0000157402.tif\")\n",
    "print(f\"(Before conversion) image.mode = {image.mode}\")\n",
    "image = image.convert(\"RGB\")\n",
    "image"
   ]
  },
  {
   "cell_type": "markdown",
   "metadata": {
    "id": "yZHoAwT6y2RH"
   },
   "source": [
    "We can use the Tesseract OCR engine to turn the image into a list of recognized words:"
   ]
  },
  {
   "cell_type": "code",
   "execution_count": 16,
   "metadata": {
    "colab": {
     "base_uri": "https://localhost:8080/",
     "height": 137
    },
    "id": "dxXvWaSzwGlD",
    "outputId": "e1ebc845-c63d-41eb-92f4-eff07f485ef4"
   },
   "outputs": [
    {
     "data": {
      "text/html": [
       "<div>\n",
       "<style scoped>\n",
       "    .dataframe tbody tr th:only-of-type {\n",
       "        vertical-align: middle;\n",
       "    }\n",
       "\n",
       "    .dataframe tbody tr th {\n",
       "        vertical-align: top;\n",
       "    }\n",
       "\n",
       "    .dataframe thead th {\n",
       "        text-align: right;\n",
       "    }\n",
       "</style>\n",
       "<table border=\"1\" class=\"dataframe\">\n",
       "  <thead>\n",
       "    <tr style=\"text-align: right;\">\n",
       "      <th></th>\n",
       "      <th>level</th>\n",
       "      <th>page_num</th>\n",
       "      <th>block_num</th>\n",
       "      <th>par_num</th>\n",
       "      <th>line_num</th>\n",
       "      <th>word_num</th>\n",
       "      <th>left</th>\n",
       "      <th>top</th>\n",
       "      <th>width</th>\n",
       "      <th>height</th>\n",
       "      <th>conf</th>\n",
       "      <th>text</th>\n",
       "    </tr>\n",
       "  </thead>\n",
       "  <tbody>\n",
       "    <tr>\n",
       "      <th>0</th>\n",
       "      <td>1</td>\n",
       "      <td>1</td>\n",
       "      <td>0</td>\n",
       "      <td>0</td>\n",
       "      <td>0</td>\n",
       "      <td>0</td>\n",
       "      <td>0</td>\n",
       "      <td>0</td>\n",
       "      <td>762</td>\n",
       "      <td>1000</td>\n",
       "      <td>-1</td>\n",
       "      <td>NaN</td>\n",
       "    </tr>\n",
       "    <tr>\n",
       "      <th>1</th>\n",
       "      <td>2</td>\n",
       "      <td>1</td>\n",
       "      <td>1</td>\n",
       "      <td>0</td>\n",
       "      <td>0</td>\n",
       "      <td>0</td>\n",
       "      <td>29</td>\n",
       "      <td>18</td>\n",
       "      <td>17</td>\n",
       "      <td>7</td>\n",
       "      <td>-1</td>\n",
       "      <td>NaN</td>\n",
       "    </tr>\n",
       "    <tr>\n",
       "      <th>2</th>\n",
       "      <td>3</td>\n",
       "      <td>1</td>\n",
       "      <td>1</td>\n",
       "      <td>1</td>\n",
       "      <td>0</td>\n",
       "      <td>0</td>\n",
       "      <td>29</td>\n",
       "      <td>18</td>\n",
       "      <td>17</td>\n",
       "      <td>7</td>\n",
       "      <td>-1</td>\n",
       "      <td>NaN</td>\n",
       "    </tr>\n",
       "    <tr>\n",
       "      <th>3</th>\n",
       "      <td>4</td>\n",
       "      <td>1</td>\n",
       "      <td>1</td>\n",
       "      <td>1</td>\n",
       "      <td>1</td>\n",
       "      <td>0</td>\n",
       "      <td>29</td>\n",
       "      <td>18</td>\n",
       "      <td>17</td>\n",
       "      <td>7</td>\n",
       "      <td>-1</td>\n",
       "      <td>NaN</td>\n",
       "    </tr>\n",
       "    <tr>\n",
       "      <th>4</th>\n",
       "      <td>5</td>\n",
       "      <td>1</td>\n",
       "      <td>1</td>\n",
       "      <td>1</td>\n",
       "      <td>1</td>\n",
       "      <td>1</td>\n",
       "      <td>29</td>\n",
       "      <td>18</td>\n",
       "      <td>17</td>\n",
       "      <td>7</td>\n",
       "      <td>11</td>\n",
       "      <td>&lt;</td>\n",
       "    </tr>\n",
       "    <tr>\n",
       "      <th>...</th>\n",
       "      <td>...</td>\n",
       "      <td>...</td>\n",
       "      <td>...</td>\n",
       "      <td>...</td>\n",
       "      <td>...</td>\n",
       "      <td>...</td>\n",
       "      <td>...</td>\n",
       "      <td>...</td>\n",
       "      <td>...</td>\n",
       "      <td>...</td>\n",
       "      <td>...</td>\n",
       "      <td>...</td>\n",
       "    </tr>\n",
       "    <tr>\n",
       "      <th>266</th>\n",
       "      <td>5</td>\n",
       "      <td>1</td>\n",
       "      <td>5</td>\n",
       "      <td>1</td>\n",
       "      <td>1</td>\n",
       "      <td>2</td>\n",
       "      <td>98</td>\n",
       "      <td>793</td>\n",
       "      <td>68</td>\n",
       "      <td>8</td>\n",
       "      <td>74</td>\n",
       "      <td>statemeat.</td>\n",
       "    </tr>\n",
       "    <tr>\n",
       "      <th>267</th>\n",
       "      <td>2</td>\n",
       "      <td>1</td>\n",
       "      <td>6</td>\n",
       "      <td>0</td>\n",
       "      <td>0</td>\n",
       "      <td>0</td>\n",
       "      <td>639</td>\n",
       "      <td>715</td>\n",
       "      <td>16</td>\n",
       "      <td>112</td>\n",
       "      <td>-1</td>\n",
       "      <td>NaN</td>\n",
       "    </tr>\n",
       "    <tr>\n",
       "      <th>268</th>\n",
       "      <td>3</td>\n",
       "      <td>1</td>\n",
       "      <td>6</td>\n",
       "      <td>1</td>\n",
       "      <td>0</td>\n",
       "      <td>0</td>\n",
       "      <td>639</td>\n",
       "      <td>715</td>\n",
       "      <td>16</td>\n",
       "      <td>112</td>\n",
       "      <td>-1</td>\n",
       "      <td>NaN</td>\n",
       "    </tr>\n",
       "    <tr>\n",
       "      <th>269</th>\n",
       "      <td>4</td>\n",
       "      <td>1</td>\n",
       "      <td>6</td>\n",
       "      <td>1</td>\n",
       "      <td>1</td>\n",
       "      <td>0</td>\n",
       "      <td>639</td>\n",
       "      <td>715</td>\n",
       "      <td>16</td>\n",
       "      <td>112</td>\n",
       "      <td>-1</td>\n",
       "      <td>NaN</td>\n",
       "    </tr>\n",
       "    <tr>\n",
       "      <th>270</th>\n",
       "      <td>5</td>\n",
       "      <td>1</td>\n",
       "      <td>6</td>\n",
       "      <td>1</td>\n",
       "      <td>1</td>\n",
       "      <td>1</td>\n",
       "      <td>639</td>\n",
       "      <td>715</td>\n",
       "      <td>16</td>\n",
       "      <td>112</td>\n",
       "      <td>0</td>\n",
       "      <td>STSEV0T2S</td>\n",
       "    </tr>\n",
       "  </tbody>\n",
       "</table>\n",
       "<p>271 rows × 12 columns</p>\n",
       "</div>"
      ],
      "text/plain": [
       "     level  page_num  block_num  par_num  line_num  word_num  left  top  \\\n",
       "0        1         1          0        0         0         0     0    0   \n",
       "1        2         1          1        0         0         0    29   18   \n",
       "2        3         1          1        1         0         0    29   18   \n",
       "3        4         1          1        1         1         0    29   18   \n",
       "4        5         1          1        1         1         1    29   18   \n",
       "..     ...       ...        ...      ...       ...       ...   ...  ...   \n",
       "266      5         1          5        1         1         2    98  793   \n",
       "267      2         1          6        0         0         0   639  715   \n",
       "268      3         1          6        1         0         0   639  715   \n",
       "269      4         1          6        1         1         0   639  715   \n",
       "270      5         1          6        1         1         1   639  715   \n",
       "\n",
       "     width  height  conf        text  \n",
       "0      762    1000    -1         NaN  \n",
       "1       17       7    -1         NaN  \n",
       "2       17       7    -1         NaN  \n",
       "3       17       7    -1         NaN  \n",
       "4       17       7    11           <  \n",
       "..     ...     ...   ...         ...  \n",
       "266     68       8    74  statemeat.  \n",
       "267     16     112    -1         NaN  \n",
       "268     16     112    -1         NaN  \n",
       "269     16     112    -1         NaN  \n",
       "270     16     112     0   STSEV0T2S  \n",
       "\n",
       "[271 rows x 12 columns]"
      ]
     },
     "execution_count": 16,
     "metadata": {},
     "output_type": "execute_result"
    }
   ],
   "source": [
    "import pytesseract\n",
    "import numpy as np\n",
    "\n",
    "ocr_df = pytesseract.image_to_data(image, output_type='data.frame')\n",
    "ocr_df"
   ]
  },
  {
   "cell_type": "code",
   "execution_count": 17,
   "metadata": {
    "colab": {
     "base_uri": "https://localhost:8080/",
     "height": 137
    },
    "id": "dxXvWaSzwGlD",
    "outputId": "e1ebc845-c63d-41eb-92f4-eff07f485ef4"
   },
   "outputs": [
    {
     "data": {
      "text/html": [
       "<div>\n",
       "<style scoped>\n",
       "    .dataframe tbody tr th:only-of-type {\n",
       "        vertical-align: middle;\n",
       "    }\n",
       "\n",
       "    .dataframe tbody tr th {\n",
       "        vertical-align: top;\n",
       "    }\n",
       "\n",
       "    .dataframe thead th {\n",
       "        text-align: right;\n",
       "    }\n",
       "</style>\n",
       "<table border=\"1\" class=\"dataframe\">\n",
       "  <thead>\n",
       "    <tr style=\"text-align: right;\">\n",
       "      <th></th>\n",
       "      <th>level</th>\n",
       "      <th>page_num</th>\n",
       "      <th>block_num</th>\n",
       "      <th>par_num</th>\n",
       "      <th>line_num</th>\n",
       "      <th>word_num</th>\n",
       "      <th>left</th>\n",
       "      <th>top</th>\n",
       "      <th>width</th>\n",
       "      <th>height</th>\n",
       "      <th>conf</th>\n",
       "      <th>text</th>\n",
       "    </tr>\n",
       "  </thead>\n",
       "  <tbody>\n",
       "    <tr>\n",
       "      <th>0</th>\n",
       "      <td>5</td>\n",
       "      <td>1</td>\n",
       "      <td>1</td>\n",
       "      <td>1</td>\n",
       "      <td>1</td>\n",
       "      <td>1</td>\n",
       "      <td>29</td>\n",
       "      <td>18</td>\n",
       "      <td>17</td>\n",
       "      <td>7</td>\n",
       "      <td>11</td>\n",
       "      <td>&lt;</td>\n",
       "    </tr>\n",
       "    <tr>\n",
       "      <th>1</th>\n",
       "      <td>5</td>\n",
       "      <td>1</td>\n",
       "      <td>2</td>\n",
       "      <td>1</td>\n",
       "      <td>1</td>\n",
       "      <td>1</td>\n",
       "      <td>38</td>\n",
       "      <td>45</td>\n",
       "      <td>8</td>\n",
       "      <td>7</td>\n",
       "      <td>56</td>\n",
       "      <td>v</td>\n",
       "    </tr>\n",
       "    <tr>\n",
       "      <th>2</th>\n",
       "      <td>5</td>\n",
       "      <td>1</td>\n",
       "      <td>3</td>\n",
       "      <td>1</td>\n",
       "      <td>1</td>\n",
       "      <td>1</td>\n",
       "      <td>239</td>\n",
       "      <td>119</td>\n",
       "      <td>63</td>\n",
       "      <td>9</td>\n",
       "      <td>87</td>\n",
       "      <td>STATEMENT</td>\n",
       "    </tr>\n",
       "    <tr>\n",
       "      <th>3</th>\n",
       "      <td>5</td>\n",
       "      <td>1</td>\n",
       "      <td>3</td>\n",
       "      <td>1</td>\n",
       "      <td>1</td>\n",
       "      <td>2</td>\n",
       "      <td>310</td>\n",
       "      <td>119</td>\n",
       "      <td>13</td>\n",
       "      <td>9</td>\n",
       "      <td>91</td>\n",
       "      <td>OF</td>\n",
       "    </tr>\n",
       "    <tr>\n",
       "      <th>4</th>\n",
       "      <td>5</td>\n",
       "      <td>1</td>\n",
       "      <td>3</td>\n",
       "      <td>1</td>\n",
       "      <td>1</td>\n",
       "      <td>3</td>\n",
       "      <td>331</td>\n",
       "      <td>119</td>\n",
       "      <td>28</td>\n",
       "      <td>9</td>\n",
       "      <td>90</td>\n",
       "      <td>JEAN</td>\n",
       "    </tr>\n",
       "    <tr>\n",
       "      <th>...</th>\n",
       "      <td>...</td>\n",
       "      <td>...</td>\n",
       "      <td>...</td>\n",
       "      <td>...</td>\n",
       "      <td>...</td>\n",
       "      <td>...</td>\n",
       "      <td>...</td>\n",
       "      <td>...</td>\n",
       "      <td>...</td>\n",
       "      <td>...</td>\n",
       "      <td>...</td>\n",
       "      <td>...</td>\n",
       "    </tr>\n",
       "    <tr>\n",
       "      <th>224</th>\n",
       "      <td>5</td>\n",
       "      <td>1</td>\n",
       "      <td>4</td>\n",
       "      <td>4</td>\n",
       "      <td>4</td>\n",
       "      <td>12</td>\n",
       "      <td>532</td>\n",
       "      <td>764</td>\n",
       "      <td>55</td>\n",
       "      <td>9</td>\n",
       "      <td>88</td>\n",
       "      <td>attached</td>\n",
       "    </tr>\n",
       "    <tr>\n",
       "      <th>225</th>\n",
       "      <td>5</td>\n",
       "      <td>1</td>\n",
       "      <td>4</td>\n",
       "      <td>4</td>\n",
       "      <td>4</td>\n",
       "      <td>13</td>\n",
       "      <td>596</td>\n",
       "      <td>766</td>\n",
       "      <td>12</td>\n",
       "      <td>7</td>\n",
       "      <td>89</td>\n",
       "      <td>to</td>\n",
       "    </tr>\n",
       "    <tr>\n",
       "      <th>226</th>\n",
       "      <td>5</td>\n",
       "      <td>1</td>\n",
       "      <td>5</td>\n",
       "      <td>1</td>\n",
       "      <td>1</td>\n",
       "      <td>1</td>\n",
       "      <td>63</td>\n",
       "      <td>790</td>\n",
       "      <td>26</td>\n",
       "      <td>10</td>\n",
       "      <td>89</td>\n",
       "      <td>this</td>\n",
       "    </tr>\n",
       "    <tr>\n",
       "      <th>227</th>\n",
       "      <td>5</td>\n",
       "      <td>1</td>\n",
       "      <td>5</td>\n",
       "      <td>1</td>\n",
       "      <td>1</td>\n",
       "      <td>2</td>\n",
       "      <td>98</td>\n",
       "      <td>793</td>\n",
       "      <td>68</td>\n",
       "      <td>8</td>\n",
       "      <td>74</td>\n",
       "      <td>statemeat.</td>\n",
       "    </tr>\n",
       "    <tr>\n",
       "      <th>228</th>\n",
       "      <td>5</td>\n",
       "      <td>1</td>\n",
       "      <td>6</td>\n",
       "      <td>1</td>\n",
       "      <td>1</td>\n",
       "      <td>1</td>\n",
       "      <td>639</td>\n",
       "      <td>715</td>\n",
       "      <td>16</td>\n",
       "      <td>112</td>\n",
       "      <td>0</td>\n",
       "      <td>STSEV0T2S</td>\n",
       "    </tr>\n",
       "  </tbody>\n",
       "</table>\n",
       "<p>229 rows × 12 columns</p>\n",
       "</div>"
      ],
      "text/plain": [
       "     level  page_num  block_num  par_num  line_num  word_num  left  top  \\\n",
       "0        5         1          1        1         1         1    29   18   \n",
       "1        5         1          2        1         1         1    38   45   \n",
       "2        5         1          3        1         1         1   239  119   \n",
       "3        5         1          3        1         1         2   310  119   \n",
       "4        5         1          3        1         1         3   331  119   \n",
       "..     ...       ...        ...      ...       ...       ...   ...  ...   \n",
       "224      5         1          4        4         4        12   532  764   \n",
       "225      5         1          4        4         4        13   596  766   \n",
       "226      5         1          5        1         1         1    63  790   \n",
       "227      5         1          5        1         1         2    98  793   \n",
       "228      5         1          6        1         1         1   639  715   \n",
       "\n",
       "     width  height  conf        text  \n",
       "0       17       7    11           <  \n",
       "1        8       7    56           v  \n",
       "2       63       9    87   STATEMENT  \n",
       "3       13       9    91          OF  \n",
       "4       28       9    90        JEAN  \n",
       "..     ...     ...   ...         ...  \n",
       "224     55       9    88    attached  \n",
       "225     12       7    89          to  \n",
       "226     26      10    89        this  \n",
       "227     68       8    74  statemeat.  \n",
       "228     16     112     0   STSEV0T2S  \n",
       "\n",
       "[229 rows x 12 columns]"
      ]
     },
     "execution_count": 17,
     "metadata": {},
     "output_type": "execute_result"
    }
   ],
   "source": [
    "ocr_df = ocr_df.dropna().reset_index(drop=True)\n",
    "ocr_df"
   ]
  },
  {
   "cell_type": "code",
   "execution_count": 18,
   "metadata": {
    "colab": {
     "base_uri": "https://localhost:8080/",
     "height": 137
    },
    "id": "dxXvWaSzwGlD",
    "outputId": "e1ebc845-c63d-41eb-92f4-eff07f485ef4"
   },
   "outputs": [
    {
     "data": {
      "text/html": [
       "<div>\n",
       "<style scoped>\n",
       "    .dataframe tbody tr th:only-of-type {\n",
       "        vertical-align: middle;\n",
       "    }\n",
       "\n",
       "    .dataframe tbody tr th {\n",
       "        vertical-align: top;\n",
       "    }\n",
       "\n",
       "    .dataframe thead th {\n",
       "        text-align: right;\n",
       "    }\n",
       "</style>\n",
       "<table border=\"1\" class=\"dataframe\">\n",
       "  <thead>\n",
       "    <tr style=\"text-align: right;\">\n",
       "      <th></th>\n",
       "      <th>level</th>\n",
       "      <th>page_num</th>\n",
       "      <th>block_num</th>\n",
       "      <th>par_num</th>\n",
       "      <th>line_num</th>\n",
       "      <th>word_num</th>\n",
       "      <th>left</th>\n",
       "      <th>top</th>\n",
       "      <th>width</th>\n",
       "      <th>height</th>\n",
       "      <th>conf</th>\n",
       "      <th>text</th>\n",
       "    </tr>\n",
       "  </thead>\n",
       "  <tbody>\n",
       "    <tr>\n",
       "      <th>0</th>\n",
       "      <td>5</td>\n",
       "      <td>1</td>\n",
       "      <td>1</td>\n",
       "      <td>1</td>\n",
       "      <td>1</td>\n",
       "      <td>1</td>\n",
       "      <td>29</td>\n",
       "      <td>18</td>\n",
       "      <td>17</td>\n",
       "      <td>7</td>\n",
       "      <td>11</td>\n",
       "      <td>&lt;</td>\n",
       "    </tr>\n",
       "    <tr>\n",
       "      <th>1</th>\n",
       "      <td>5</td>\n",
       "      <td>1</td>\n",
       "      <td>2</td>\n",
       "      <td>1</td>\n",
       "      <td>1</td>\n",
       "      <td>1</td>\n",
       "      <td>38</td>\n",
       "      <td>45</td>\n",
       "      <td>8</td>\n",
       "      <td>7</td>\n",
       "      <td>56</td>\n",
       "      <td>v</td>\n",
       "    </tr>\n",
       "    <tr>\n",
       "      <th>2</th>\n",
       "      <td>5</td>\n",
       "      <td>1</td>\n",
       "      <td>3</td>\n",
       "      <td>1</td>\n",
       "      <td>1</td>\n",
       "      <td>1</td>\n",
       "      <td>239</td>\n",
       "      <td>119</td>\n",
       "      <td>63</td>\n",
       "      <td>9</td>\n",
       "      <td>87</td>\n",
       "      <td>STATEMENT</td>\n",
       "    </tr>\n",
       "    <tr>\n",
       "      <th>3</th>\n",
       "      <td>5</td>\n",
       "      <td>1</td>\n",
       "      <td>3</td>\n",
       "      <td>1</td>\n",
       "      <td>1</td>\n",
       "      <td>2</td>\n",
       "      <td>310</td>\n",
       "      <td>119</td>\n",
       "      <td>13</td>\n",
       "      <td>9</td>\n",
       "      <td>91</td>\n",
       "      <td>OF</td>\n",
       "    </tr>\n",
       "    <tr>\n",
       "      <th>4</th>\n",
       "      <td>5</td>\n",
       "      <td>1</td>\n",
       "      <td>3</td>\n",
       "      <td>1</td>\n",
       "      <td>1</td>\n",
       "      <td>3</td>\n",
       "      <td>331</td>\n",
       "      <td>119</td>\n",
       "      <td>28</td>\n",
       "      <td>9</td>\n",
       "      <td>90</td>\n",
       "      <td>JEAN</td>\n",
       "    </tr>\n",
       "    <tr>\n",
       "      <th>...</th>\n",
       "      <td>...</td>\n",
       "      <td>...</td>\n",
       "      <td>...</td>\n",
       "      <td>...</td>\n",
       "      <td>...</td>\n",
       "      <td>...</td>\n",
       "      <td>...</td>\n",
       "      <td>...</td>\n",
       "      <td>...</td>\n",
       "      <td>...</td>\n",
       "      <td>...</td>\n",
       "      <td>...</td>\n",
       "    </tr>\n",
       "    <tr>\n",
       "      <th>224</th>\n",
       "      <td>5</td>\n",
       "      <td>1</td>\n",
       "      <td>4</td>\n",
       "      <td>4</td>\n",
       "      <td>4</td>\n",
       "      <td>12</td>\n",
       "      <td>532</td>\n",
       "      <td>764</td>\n",
       "      <td>55</td>\n",
       "      <td>9</td>\n",
       "      <td>88</td>\n",
       "      <td>attached</td>\n",
       "    </tr>\n",
       "    <tr>\n",
       "      <th>225</th>\n",
       "      <td>5</td>\n",
       "      <td>1</td>\n",
       "      <td>4</td>\n",
       "      <td>4</td>\n",
       "      <td>4</td>\n",
       "      <td>13</td>\n",
       "      <td>596</td>\n",
       "      <td>766</td>\n",
       "      <td>12</td>\n",
       "      <td>7</td>\n",
       "      <td>89</td>\n",
       "      <td>to</td>\n",
       "    </tr>\n",
       "    <tr>\n",
       "      <th>226</th>\n",
       "      <td>5</td>\n",
       "      <td>1</td>\n",
       "      <td>5</td>\n",
       "      <td>1</td>\n",
       "      <td>1</td>\n",
       "      <td>1</td>\n",
       "      <td>63</td>\n",
       "      <td>790</td>\n",
       "      <td>26</td>\n",
       "      <td>10</td>\n",
       "      <td>89</td>\n",
       "      <td>this</td>\n",
       "    </tr>\n",
       "    <tr>\n",
       "      <th>227</th>\n",
       "      <td>5</td>\n",
       "      <td>1</td>\n",
       "      <td>5</td>\n",
       "      <td>1</td>\n",
       "      <td>1</td>\n",
       "      <td>2</td>\n",
       "      <td>98</td>\n",
       "      <td>793</td>\n",
       "      <td>68</td>\n",
       "      <td>8</td>\n",
       "      <td>74</td>\n",
       "      <td>statemeat.</td>\n",
       "    </tr>\n",
       "    <tr>\n",
       "      <th>228</th>\n",
       "      <td>5</td>\n",
       "      <td>1</td>\n",
       "      <td>6</td>\n",
       "      <td>1</td>\n",
       "      <td>1</td>\n",
       "      <td>1</td>\n",
       "      <td>639</td>\n",
       "      <td>715</td>\n",
       "      <td>16</td>\n",
       "      <td>112</td>\n",
       "      <td>0</td>\n",
       "      <td>STSEV0T2S</td>\n",
       "    </tr>\n",
       "  </tbody>\n",
       "</table>\n",
       "<p>229 rows × 12 columns</p>\n",
       "</div>"
      ],
      "text/plain": [
       "     level  page_num  block_num  par_num  line_num  word_num  left  top  \\\n",
       "0        5         1          1        1         1         1    29   18   \n",
       "1        5         1          2        1         1         1    38   45   \n",
       "2        5         1          3        1         1         1   239  119   \n",
       "3        5         1          3        1         1         2   310  119   \n",
       "4        5         1          3        1         1         3   331  119   \n",
       "..     ...       ...        ...      ...       ...       ...   ...  ...   \n",
       "224      5         1          4        4         4        12   532  764   \n",
       "225      5         1          4        4         4        13   596  766   \n",
       "226      5         1          5        1         1         1    63  790   \n",
       "227      5         1          5        1         1         2    98  793   \n",
       "228      5         1          6        1         1         1   639  715   \n",
       "\n",
       "     width  height  conf        text  \n",
       "0       17       7    11           <  \n",
       "1        8       7    56           v  \n",
       "2       63       9    87   STATEMENT  \n",
       "3       13       9    91          OF  \n",
       "4       28       9    90        JEAN  \n",
       "..     ...     ...   ...         ...  \n",
       "224     55       9    88    attached  \n",
       "225     12       7    89          to  \n",
       "226     26      10    89        this  \n",
       "227     68       8    74  statemeat.  \n",
       "228     16     112     0   STSEV0T2S  \n",
       "\n",
       "[229 rows x 12 columns]"
      ]
     },
     "execution_count": 18,
     "metadata": {},
     "output_type": "execute_result"
    }
   ],
   "source": [
    "float_cols = ocr_df.select_dtypes('float').columns\n",
    "ocr_df[float_cols] = ocr_df[float_cols].round(0).astype(int)\n",
    "ocr_df = ocr_df.replace(r'^\\s*$', np.nan, regex=True)  # fields consisting of entirely spaces\n",
    "ocr_df"
   ]
  },
  {
   "cell_type": "code",
   "execution_count": 19,
   "metadata": {},
   "outputs": [
    {
     "data": {
      "text/html": [
       "<div>\n",
       "<style scoped>\n",
       "    .dataframe tbody tr th:only-of-type {\n",
       "        vertical-align: middle;\n",
       "    }\n",
       "\n",
       "    .dataframe tbody tr th {\n",
       "        vertical-align: top;\n",
       "    }\n",
       "\n",
       "    .dataframe thead th {\n",
       "        text-align: right;\n",
       "    }\n",
       "</style>\n",
       "<table border=\"1\" class=\"dataframe\">\n",
       "  <thead>\n",
       "    <tr style=\"text-align: right;\">\n",
       "      <th></th>\n",
       "    </tr>\n",
       "  </thead>\n",
       "  <tbody>\n",
       "    <tr>\n",
       "      <th>0</th>\n",
       "    </tr>\n",
       "    <tr>\n",
       "      <th>1</th>\n",
       "    </tr>\n",
       "    <tr>\n",
       "      <th>2</th>\n",
       "    </tr>\n",
       "    <tr>\n",
       "      <th>3</th>\n",
       "    </tr>\n",
       "    <tr>\n",
       "      <th>4</th>\n",
       "    </tr>\n",
       "    <tr>\n",
       "      <th>...</th>\n",
       "    </tr>\n",
       "    <tr>\n",
       "      <th>224</th>\n",
       "    </tr>\n",
       "    <tr>\n",
       "      <th>225</th>\n",
       "    </tr>\n",
       "    <tr>\n",
       "      <th>226</th>\n",
       "    </tr>\n",
       "    <tr>\n",
       "      <th>227</th>\n",
       "    </tr>\n",
       "    <tr>\n",
       "      <th>228</th>\n",
       "    </tr>\n",
       "  </tbody>\n",
       "</table>\n",
       "<p>229 rows × 0 columns</p>\n",
       "</div>"
      ],
      "text/plain": [
       "Empty DataFrame\n",
       "Columns: []\n",
       "Index: [0, 1, 2, 3, 4, 5, 6, 7, 8, 9, 10, 11, 12, 13, 14, 15, 16, 17, 18, 19, 20, 21, 22, 23, 24, 25, 26, 27, 28, 29, 30, 31, 32, 33, 34, 35, 36, 37, 38, 39, 40, 41, 42, 43, 44, 45, 46, 47, 48, 49, 50, 51, 52, 53, 54, 55, 56, 57, 58, 59, 60, 61, 62, 63, 64, 65, 66, 67, 68, 69, 70, 71, 72, 73, 74, 75, 76, 77, 78, 79, 80, 81, 82, 83, 84, 85, 86, 87, 88, 89, 90, 91, 92, 93, 94, 95, 96, 97, 98, 99, ...]\n",
       "\n",
       "[229 rows x 0 columns]"
      ]
     },
     "execution_count": 19,
     "metadata": {},
     "output_type": "execute_result"
    }
   ],
   "source": [
    "ocr_df.select_dtypes('float')"
   ]
  },
  {
   "cell_type": "code",
   "execution_count": 20,
   "metadata": {},
   "outputs": [
    {
     "data": {
      "text/plain": [
       "Index([], dtype='object')"
      ]
     },
     "execution_count": 20,
     "metadata": {},
     "output_type": "execute_result"
    }
   ],
   "source": [
    "ocr_df.select_dtypes('float').columns"
   ]
  },
  {
   "cell_type": "code",
   "execution_count": 21,
   "metadata": {},
   "outputs": [
    {
     "data": {
      "text/plain": [
       "'nan'"
      ]
     },
     "execution_count": 21,
     "metadata": {},
     "output_type": "execute_result"
    }
   ],
   "source": [
    "str(np.nan)"
   ]
  },
  {
   "cell_type": "code",
   "execution_count": 22,
   "metadata": {},
   "outputs": [
    {
     "data": {
      "text/plain": [
       "True"
      ]
     },
     "execution_count": 22,
     "metadata": {},
     "output_type": "execute_result"
    }
   ],
   "source": [
    "np.nan is np.nan"
   ]
  },
  {
   "cell_type": "code",
   "execution_count": 23,
   "metadata": {},
   "outputs": [
    {
     "data": {
      "text/plain": [
       "False"
      ]
     },
     "execution_count": 23,
     "metadata": {},
     "output_type": "execute_result"
    }
   ],
   "source": [
    "np.nan == np.nan"
   ]
  },
  {
   "cell_type": "code",
   "execution_count": 5,
   "metadata": {
    "colab": {
     "base_uri": "https://localhost:8080/",
     "height": 137
    },
    "id": "dxXvWaSzwGlD",
    "outputId": "e1ebc845-c63d-41eb-92f4-eff07f485ef4"
   },
   "outputs": [
    {
     "data": {
      "application/vnd.google.colaboratory.intrinsic+json": {
       "type": "string"
      },
      "text/plain": [
       "\"ot uv STATEMENT OF JEAN D, GIBBONS My name 4s Jean Dickinson Gibbons. My current position is Professor of Statistics and Chairman of the Applied Statistics Program at the Graduate School of the University of Alabana, I am currently a Fellow of both the American Statistical Association and the International Statistical Institute and a menber of the Committee on National Statistics of the National, Acadeny of Scdences. I received the bachelor's and master's degrees in mathematics from Duke University and the Ph.D. degree in statistics from Virginia Polytechnic Institute and State University. My previous faculty appointments were at the University of Pennsylvania and the University of Cincinnati. I was a senior Fulbright-Hays scholar at the Indian Statistical Institute in 1973. Twas Associate Editor of The Anertcan Statistician for eight years, currently act as editortal collaborator on many statistical journals, includ~ Technometrics, and serve as a reviewer for grant proposals to the National Science Foundation, I am @ member of several professional societies and have served two terms on the Board of Directors of the American Statistical Ascocdation. My publications include four scholarly books on statistics and over 30 articles in refereed professional and learned journals in my field, T was named Outstanding Scholar in 1981 and Board of Visitors Research Professor in 1974 at the University of Alabama, My current curriculua vita ig attached to this statement. stsepotzs\""
      ]
     },
     "execution_count": 5,
     "metadata": {
      "tags": []
     },
     "output_type": "execute_result"
    }
   ],
   "source": [
    "# ocr_df.text is just the column named text of ocr_df\n",
    "words = ' '.join([word for word in ocr_df.text if str(word) != 'nan'])\n",
    "words"
   ]
  },
  {
   "cell_type": "markdown",
   "metadata": {
    "id": "FBaXAoSzuFl-"
   },
   "source": [
    "The last word `stsepotzs` is probably Tesseract's answer for the vertical number `521049815` on the right.\n",
    "\n",
    "We can also visualize the bounding boxes of the recognized words, as follows:"
   ]
  },
  {
   "cell_type": "raw",
   "metadata": {},
   "source": [
    "help(ImageDraw.Draw)"
   ]
  },
  {
   "cell_type": "code",
   "execution_count": 25,
   "metadata": {
    "colab": {
     "base_uri": "https://localhost:8080/",
     "height": 1000
    },
    "id": "6KKtDucCuKOg",
    "outputId": "d2f2f648-f1c0-412b-92ce-81fe5d4b4bdb",
    "scrolled": true
   },
   "outputs": [
    {
     "data": {
      "image/png": "[encoded data removed]",
      "text/plain": [
       "<PIL.Image.Image image mode=RGB size=762x1000 at 0x7F0649E31F90>"
      ]
     },
     "execution_count": 25,
     "metadata": {},
     "output_type": "execute_result"
    }
   ],
   "source": [
    "coordinates = ocr_df[['left', 'top', 'width', 'height']]\n",
    "actual_boxes = []\n",
    "for idx, row in coordinates.iterrows():\n",
    "    #x, y, w, h = tuple(row) # the row comes in (left, top, width, height) format\n",
    "    x, y, w, h = row  # no need of tuple()\n",
    "    actual_box = [x, y, x+w, y+h] # we turn it into (left, top, left+width, top+height) to get the actual box \n",
    "    actual_boxes.append(actual_box)\n",
    "\n",
    "draw = ImageDraw.Draw(image, \"RGB\")  # not necessary to specify \"RGB\" again\n",
    "for box in actual_boxes:\n",
    "    draw.rectangle(box, outline='red')\n",
    "\n",
    "image"
   ]
  },
  {
   "cell_type": "markdown",
   "metadata": {
    "id": "VN-iboovriQL"
   },
   "source": [
    "## Preprocessing the data using 🤗 datasets\n",
    "\n",
    "First, we convert the dataset into a Pandas dataframe, having 2 columns: `image_path` and `label`."
   ]
  },
  {
   "cell_type": "raw",
   "metadata": {},
   "source": [
    "list(path_dataset.iterdir())"
   ]
  },
  {
   "cell_type": "raw",
   "metadata": {},
   "source": [
    "for directory in path_dataset.iterdir():\n",
    "    print(directory.name)"
   ]
  },
  {
   "cell_type": "raw",
   "metadata": {},
   "source": [
    "import os\n",
    "os.listdir(path_dataset)"
   ]
  },
  {
   "cell_type": "code",
   "execution_count": 35,
   "metadata": {
    "colab": {
     "base_uri": "https://localhost:8080/"
    },
    "id": "Ey4xYRCCrXpo",
    "outputId": "3d1d66f6-4770-465e-a917-56bfa1d4d719"
   },
   "outputs": [
    {
     "data": {
      "text/plain": [
       "['resume',\n",
       " 'form',\n",
       " 'advertisement',\n",
       " 'presentation',\n",
       " 'scientific_report',\n",
       " 'scientific_publication',\n",
       " 'budget',\n",
       " 'memo',\n",
       " 'questionnaire',\n",
       " 'specification',\n",
       " 'invoice',\n",
       " 'letter',\n",
       " 'news_article',\n",
       " 'file_folder',\n",
       " 'email']"
      ]
     },
     "execution_count": 35,
     "metadata": {},
     "output_type": "execute_result"
    }
   ],
   "source": [
    "import pandas as pd\n",
    "import os\n",
    "\n",
    "#dataset_path = \"/content/RVL_CDIP_one_example_per_class\"\n",
    "#labels = [label for label in os.listdir(dataset_path)]\n",
    "\n",
    "labels = [subfolder.name for subfolder in path_dataset.iterdir()]\n",
    "labels"
   ]
  },
  {
   "cell_type": "code",
   "execution_count": 37,
   "metadata": {
    "colab": {
     "base_uri": "https://localhost:8080/"
    },
    "id": "Ey4xYRCCrXpo",
    "outputId": "3d1d66f6-4770-465e-a917-56bfa1d4d719"
   },
   "outputs": [
    {
     "data": {
      "text/plain": [
       "{'resume': 0,\n",
       " 'form': 1,\n",
       " 'advertisement': 2,\n",
       " 'presentation': 3,\n",
       " 'scientific_report': 4,\n",
       " 'scientific_publication': 5,\n",
       " 'budget': 6,\n",
       " 'memo': 7,\n",
       " 'questionnaire': 8,\n",
       " 'specification': 9,\n",
       " 'invoice': 10,\n",
       " 'letter': 11,\n",
       " 'news_article': 12,\n",
       " 'file_folder': 13,\n",
       " 'email': 14}"
      ]
     },
     "execution_count": 37,
     "metadata": {},
     "output_type": "execute_result"
    }
   ],
   "source": [
    "#idx2label = {v: k for v, k in enumerate(labels)}\n",
    "#label2idx = {k: v for v, k in enumerate(labels)}\n",
    "\n",
    "idx2label = {}\n",
    "label2idx = {}\n",
    "for idx, label in enumerate(labels):\n",
    "    idx2label[idx]  = label\n",
    "    label2idx[label] = idx\n",
    "\n",
    "label2idx"
   ]
  },
  {
   "cell_type": "raw",
   "metadata": {
    "colab": {
     "base_uri": "https://localhost:8080/",
     "height": 195
    },
    "id": "BdXrYSBq-Vjg",
    "outputId": "e2f8c7b8-6abc-4583-a708-9243a6937658"
   },
   "source": [
    "images = []\n",
    "labels = []\n",
    "\n",
    "dataset_path = \"RVL_CDIP_one_example_per_class\"\n",
    "\n",
    "for label_folder, _, file_names in os.walk(dataset_path):\n",
    "  if label_folder != dataset_path:\n",
    "    label = label_folder[40:]\n",
    "    for _, _, image_names in os.walk(label_folder):\n",
    "      relative_image_names = []\n",
    "      for image in image_names:\n",
    "        relative_image_names.append(dataset_path + \"/\" + label + \"/\" + image)\n",
    "      images.extend(relative_image_names)\n",
    "      labels.extend([label] * len (relative_image_names)) \n",
    "\n",
    "data = pd.DataFrame.from_dict({'image_path': images, 'label': labels})\n",
    "data.head()"
   ]
  },
  {
   "cell_type": "code",
   "execution_count": 47,
   "metadata": {},
   "outputs": [
    {
     "name": "stdout",
     "output_type": "stream",
     "text": [
      "RVL_CDIP_one_example_per_class/resume/0000157402.tif\n"
     ]
    }
   ],
   "source": [
    "for tif in path_dataset.glob(\"*/*.tif\"):\n",
    "    print(tif)\n",
    "    break"
   ]
  },
  {
   "cell_type": "code",
   "execution_count": 50,
   "metadata": {},
   "outputs": [
    {
     "data": {
      "text/plain": [
       "'resume'"
      ]
     },
     "execution_count": 50,
     "metadata": {},
     "output_type": "execute_result"
    }
   ],
   "source": [
    "tif.parent.name"
   ]
  },
  {
   "cell_type": "code",
   "execution_count": 51,
   "metadata": {},
   "outputs": [
    {
     "data": {
      "text/html": [
       "<div>\n",
       "<style scoped>\n",
       "    .dataframe tbody tr th:only-of-type {\n",
       "        vertical-align: middle;\n",
       "    }\n",
       "\n",
       "    .dataframe tbody tr th {\n",
       "        vertical-align: top;\n",
       "    }\n",
       "\n",
       "    .dataframe thead th {\n",
       "        text-align: right;\n",
       "    }\n",
       "</style>\n",
       "<table border=\"1\" class=\"dataframe\">\n",
       "  <thead>\n",
       "    <tr style=\"text-align: right;\">\n",
       "      <th></th>\n",
       "      <th>image_path</th>\n",
       "      <th>label</th>\n",
       "    </tr>\n",
       "  </thead>\n",
       "  <tbody>\n",
       "    <tr>\n",
       "      <th>0</th>\n",
       "      <td>RVL_CDIP_one_example_per_class/resume/00001574...</td>\n",
       "      <td>resume</td>\n",
       "    </tr>\n",
       "    <tr>\n",
       "      <th>1</th>\n",
       "      <td>RVL_CDIP_one_example_per_class/form/00043194.tif</td>\n",
       "      <td>form</td>\n",
       "    </tr>\n",
       "    <tr>\n",
       "      <th>2</th>\n",
       "      <td>RVL_CDIP_one_example_per_class/advertisement/0...</td>\n",
       "      <td>advertisement</td>\n",
       "    </tr>\n",
       "    <tr>\n",
       "      <th>3</th>\n",
       "      <td>RVL_CDIP_one_example_per_class/presentation/00...</td>\n",
       "      <td>presentation</td>\n",
       "    </tr>\n",
       "    <tr>\n",
       "      <th>4</th>\n",
       "      <td>RVL_CDIP_one_example_per_class/scientific_repo...</td>\n",
       "      <td>scientific_report</td>\n",
       "    </tr>\n",
       "  </tbody>\n",
       "</table>\n",
       "</div>"
      ],
      "text/plain": [
       "                                          image_path              label\n",
       "0  RVL_CDIP_one_example_per_class/resume/00001574...             resume\n",
       "1   RVL_CDIP_one_example_per_class/form/00043194.tif               form\n",
       "2  RVL_CDIP_one_example_per_class/advertisement/0...      advertisement\n",
       "3  RVL_CDIP_one_example_per_class/presentation/00...       presentation\n",
       "4  RVL_CDIP_one_example_per_class/scientific_repo...  scientific_report"
      ]
     },
     "execution_count": 51,
     "metadata": {},
     "output_type": "execute_result"
    }
   ],
   "source": [
    "image_paths = []\n",
    "labels = []\n",
    "\n",
    "for image_path in path_dataset.glob(\"*/*.tif\"):\n",
    "    label = image_path.parent.name\n",
    "    image_paths.append(image_path)\n",
    "    labels.append(label)\n",
    "\n",
    "data = pd.DataFrame.from_dict({'image_path': image_paths, 'label': labels})\n",
    "data.head()"
   ]
  },
  {
   "cell_type": "code",
   "execution_count": 52,
   "metadata": {
    "colab": {
     "base_uri": "https://localhost:8080/"
    },
    "id": "ukXEAqpsJmiP",
    "outputId": "46e924d4-f4d8-4887-db58-61b05cb0f144"
   },
   "outputs": [
    {
     "data": {
      "text/plain": [
       "15"
      ]
     },
     "execution_count": 52,
     "metadata": {},
     "output_type": "execute_result"
    }
   ],
   "source": [
    "len(data)"
   ]
  },
  {
   "cell_type": "markdown",
   "metadata": {
    "id": "SkMB9X8eh1K5"
   },
   "source": [
    "Now, let's apply OCR to get the words and bounding boxes of every image. To do this efficiently, we turn our Pandas dataframe into a HuggingFace `Dataset` object, and use the `.map()` functionality to get the words and normalized bounding boxes of every image. Note that this can take a while to run (Tesseract seems to be a bit slow).\n",
    "\n",
    "**(?)** _normalized_ bbox?<br>\n",
    "**(R)** Not for drawing, but for layoutLM."
   ]
  },
  {
   "cell_type": "raw",
   "metadata": {
    "colab": {
     "base_uri": "https://localhost:8080/",
     "height": 66,
     "referenced_widgets": [
      "1193865036c44bd1a12686b83db13930",
      "e2557516931a4d8eaa045e224895547d",
      "7d2452cfb7874b75ad1737c2d34a0ecc",
      "fa412cbc839a4ff093a08fdabadee81b",
      "a40eb73ab716491d85487c2243601d78",
      "3d917f1d78ee4abb9ec700a5ddf08cee",
      "dfaeddd6844c48258a1b9984537871f2",
      "958947c076144318883744eaf719064e"
     ]
    },
    "id": "zMRgG40hh34E",
    "outputId": "dc242ee2-46be-4ead-b91e-9451a6d3ce65"
   },
   "source": [
    "from datasets import Dataset\n",
    "\n",
    "def normalize_box(box, width, height):\n",
    "    # Recall the order: topleft_x, topleft_y, bottomright_x, bottomright_y\n",
    "    return [\n",
    "        int(1000 * (box[0] / width)),\n",
    "        int(1000 * (box[1] / height)),\n",
    "        int(1000 * (box[2] / width)),\n",
    "        int(1000 * (box[3] / height)),\n",
    "    ]\n",
    "\n",
    "def apply_ocr(example):\n",
    "        # get the image\n",
    "        image = Image.open(example['image_path'])\n",
    "\n",
    "        width, height = image.size\n",
    "        \n",
    "        # apply ocr to the image \n",
    "        ocr_df = pytesseract.image_to_data(image, output_type='data.frame')\n",
    "        float_cols = ocr_df.select_dtypes('float').columns\n",
    "        ocr_df = ocr_df.dropna().reset_index(drop=True)\n",
    "        ocr_df[float_cols] = ocr_df[float_cols].round(0).astype(int)\n",
    "        ocr_df = ocr_df.replace(r'^\\s*$', np.nan, regex=True)\n",
    "        ocr_df = ocr_df.dropna().reset_index(drop=True)\n",
    "\n",
    "        # get the words and actual (unnormalized) bounding boxes\n",
    "        #words = [word for word in ocr_df.text if str(word) != 'nan'])\n",
    "        words = list(ocr_df.text)\n",
    "        words = [str(w) for w in words]\n",
    "        coordinates = ocr_df[['left', 'top', 'width', 'height']]\n",
    "        actual_boxes = []\n",
    "        for idx, row in coordinates.iterrows():\n",
    "            x, y, w, h = tuple(row) # the row comes in (left, top, width, height) format\n",
    "            actual_box = [x, y, x+w, y+h] # we turn it into (left, top, left+width, top+height) to get the actual box \n",
    "            actual_boxes.append(actual_box)\n",
    "        \n",
    "        # normalize the bounding boxes\n",
    "        boxes = []\n",
    "        for box in actual_boxes:\n",
    "            boxes.append(normalize_box(box, width, height))\n",
    "        \n",
    "        # add as extra columns \n",
    "        assert len(words) == len(boxes)\n",
    "        example['words'] = words\n",
    "        example['bbox'] = boxes\n",
    "        return example\n",
    "\n",
    "dataset = Dataset.from_pandas(data)\n",
    "updated_dataset = dataset.map(apply_ocr)"
   ]
  },
  {
   "cell_type": "markdown",
   "metadata": {},
   "source": [
    "It seems that the `datasets` package has difficulty handling `Path` object, let's convert them to strings."
   ]
  },
  {
   "cell_type": "raw",
   "metadata": {},
   "source": [
    "from datasets import Dataset\n",
    "dataset = Dataset.from_pandas(data)"
   ]
  },
  {
   "cell_type": "raw",
   "metadata": {},
   "source": [
    "ArrowInvalid: (\"Could not convert PosixPath('RVL_CDIP_one_example_per_class/resume/0000157402.tif') with type PosixPath: did not recognize Python value type when inferring an Arrow data type\", 'Conversion failed for column image_path with type object')"
   ]
  },
  {
   "cell_type": "code",
   "execution_count": 57,
   "metadata": {
    "scrolled": true
   },
   "outputs": [
    {
     "data": {
      "text/plain": [
       "image_path    object\n",
       "label         object\n",
       "dtype: object"
      ]
     },
     "execution_count": 57,
     "metadata": {},
     "output_type": "execute_result"
    }
   ],
   "source": [
    "data.dtypes"
   ]
  },
  {
   "cell_type": "raw",
   "metadata": {
    "scrolled": false
   },
   "source": [
    "dir(data[\"image_path\"])"
   ]
  },
  {
   "cell_type": "raw",
   "metadata": {},
   "source": [
    "help(data[\"image_path\"].transform)"
   ]
  },
  {
   "cell_type": "raw",
   "metadata": {},
   "source": [
    "help(data[\"image_path\"].map)"
   ]
  },
  {
   "cell_type": "markdown",
   "metadata": {},
   "source": [
    "I am not sure if `transform()` is designed for this, but `map()` seems to be capable of this, so let's use `map()` for the moment."
   ]
  },
  {
   "cell_type": "code",
   "execution_count": 60,
   "metadata": {
    "scrolled": true
   },
   "outputs": [
    {
     "data": {
      "text/plain": [
       "0     RVL_CDIP_one_example_per_class/resume/00001574...\n",
       "1      RVL_CDIP_one_example_per_class/form/00043194.tif\n",
       "2     RVL_CDIP_one_example_per_class/advertisement/0...\n",
       "3     RVL_CDIP_one_example_per_class/presentation/00...\n",
       "4     RVL_CDIP_one_example_per_class/scientific_repo...\n",
       "5     RVL_CDIP_one_example_per_class/scientific_publ...\n",
       "6     RVL_CDIP_one_example_per_class/budget/00000337...\n",
       "7     RVL_CDIP_one_example_per_class/memo/0000021894...\n",
       "8     RVL_CDIP_one_example_per_class/questionnaire/0...\n",
       "9     RVL_CDIP_one_example_per_class/specification/0...\n",
       "10    RVL_CDIP_one_example_per_class/invoice/0000145...\n",
       "11    RVL_CDIP_one_example_per_class/letter/00000007...\n",
       "12    RVL_CDIP_one_example_per_class/news_article/00...\n",
       "13    RVL_CDIP_one_example_per_class/file_folder/000...\n",
       "14    RVL_CDIP_one_example_per_class/email/001183435...\n",
       "Name: image_path, dtype: object"
      ]
     },
     "execution_count": 60,
     "metadata": {},
     "output_type": "execute_result"
    }
   ],
   "source": [
    "data[\"image_path\"] = data[\"image_path\"].map(str)"
   ]
  },
  {
   "cell_type": "markdown",
   "metadata": {},
   "source": [
    "Error still persists. Let's try with the `astype()` method:"
   ]
  },
  {
   "cell_type": "code",
   "execution_count": 65,
   "metadata": {
    "scrolled": true
   },
   "outputs": [],
   "source": [
    "data[\"image_path\"] = data[\"image_path\"].astype(\"string\")"
   ]
  },
  {
   "cell_type": "code",
   "execution_count": 68,
   "metadata": {},
   "outputs": [
    {
     "data": {
      "text/plain": [
       "('1.11.0', '1.3.1')"
      ]
     },
     "execution_count": 68,
     "metadata": {},
     "output_type": "execute_result"
    }
   ],
   "source": [
    "import datasets\n",
    "datasets.__version__, pd.__version__"
   ]
  },
  {
   "cell_type": "code",
   "execution_count": 67,
   "metadata": {},
   "outputs": [
    {
     "data": {
      "text/plain": [
       "Dataset({\n",
       "    features: ['image_path', 'label'],\n",
       "    num_rows: 15\n",
       "})"
      ]
     },
     "execution_count": 67,
     "metadata": {},
     "output_type": "execute_result"
    }
   ],
   "source": [
    "from datasets import Dataset\n",
    "dataset = Dataset.from_pandas(data)\n",
    "dataset"
   ]
  },
  {
   "cell_type": "markdown",
   "metadata": {},
   "source": [
    "Great!"
   ]
  },
  {
   "cell_type": "code",
   "execution_count": 69,
   "metadata": {},
   "outputs": [
    {
     "data": {
      "application/vnd.jupyter.widget-view+json": {
       "model_id": "c45963ca00a74f68bbc64600f2ab4cdd",
       "version_major": 2,
       "version_minor": 0
      },
      "text/plain": [
       "  0%|          | 0/15 [00:00<?, ?ex/s]"
      ]
     },
     "metadata": {},
     "output_type": "display_data"
    }
   ],
   "source": [
    "def normalize_box(box, width, height):\n",
    "    # Recall the order: topleft_x, topleft_y, bottomright_x, bottomright_y\n",
    "    return [\n",
    "        int(1000 * (box[0] / width)),\n",
    "        int(1000 * (box[1] / height)),\n",
    "        int(1000 * (box[2] / width)),\n",
    "        int(1000 * (box[3] / height)),\n",
    "    ]\n",
    "\n",
    "def apply_ocr(data_row):\n",
    "    # get the image\n",
    "    image = Image.open(data_row['image_path'])\n",
    "\n",
    "    width, height = image.size\n",
    "    \n",
    "    # apply ocr to the image \n",
    "    ocr_df = pytesseract.image_to_data(image, output_type='data.frame')\n",
    "    float_cols = ocr_df.select_dtypes('float').columns\n",
    "    ocr_df = ocr_df.dropna().reset_index(drop=True)\n",
    "    ocr_df[float_cols] = ocr_df[float_cols].round(0).astype(int)\n",
    "    ocr_df = ocr_df.replace(r'^\\s*$', np.nan, regex=True)\n",
    "    ocr_df = ocr_df.dropna().reset_index(drop=True)\n",
    "\n",
    "    # get the words and actual (unnormalized) bounding boxes\n",
    "    #words = [word for word in ocr_df.text if str(word) != 'nan'])\n",
    "    words = list(ocr_df.text)\n",
    "    words = [str(w) for w in words]\n",
    "    coordinates = ocr_df[['left', 'top', 'width', 'height']]\n",
    "    actual_boxes = []\n",
    "    for idx, row in coordinates.iterrows():\n",
    "        x, y, w, h = row\n",
    "        actual_box = [x, y, x+w, y+h] # we turn it into (left, top, left+width, top+height) to get the actual box \n",
    "        actual_boxes.append(actual_box)\n",
    "    \n",
    "    # normalize the bounding boxes\n",
    "    boxes = []\n",
    "    for box in actual_boxes:\n",
    "        boxes.append(normalize_box(box, width, height))\n",
    "    \n",
    "    # add as extra columns \n",
    "    assert len(words) == len(boxes)\n",
    "    data_row['words'] = words\n",
    "    data_row['bbox'] = boxes\n",
    "    return data_row\n",
    "\n",
    "updated_dataset = dataset.map(apply_ocr)\n",
    "updated_dataset"
   ]
  },
  {
   "cell_type": "markdown",
   "metadata": {},
   "source": [
    "**(?)** In the `apply_ocr()` function, isn't the line\n",
    "```python\n",
    "ocr_df = ocr_df.dropna().reset_index(drop=True)\n",
    "```\n",
    "repetitive?"
   ]
  },
  {
   "cell_type": "raw",
   "metadata": {},
   "source": [
    "assert False, \"Oh no, you forgot to bring your lunch to work.\""
   ]
  },
  {
   "cell_type": "markdown",
   "metadata": {},
   "source": [
    "Think of `updated_dataset` (which actually is a `datasets.Dataset` object, but not too far from a `pd.DataFrame`) as the same dataframe as `data` augmented with two new colummns `words` and `bbox`"
   ]
  },
  {
   "cell_type": "code",
   "execution_count": 82,
   "metadata": {},
   "outputs": [
    {
     "data": {
      "text/html": [
       "<div>\n",
       "<style scoped>\n",
       "    .dataframe tbody tr th:only-of-type {\n",
       "        vertical-align: middle;\n",
       "    }\n",
       "\n",
       "    .dataframe tbody tr th {\n",
       "        vertical-align: top;\n",
       "    }\n",
       "\n",
       "    .dataframe thead th {\n",
       "        text-align: right;\n",
       "    }\n",
       "</style>\n",
       "<table border=\"1\" class=\"dataframe\">\n",
       "  <thead>\n",
       "    <tr style=\"text-align: right;\">\n",
       "      <th></th>\n",
       "      <th>image_path</th>\n",
       "      <th>label</th>\n",
       "      <th>words</th>\n",
       "      <th>bbox</th>\n",
       "    </tr>\n",
       "  </thead>\n",
       "  <tbody>\n",
       "    <tr>\n",
       "      <th>0</th>\n",
       "      <td>RVL_CDIP_one_example_per_class/resume/00001574...</td>\n",
       "      <td>resume</td>\n",
       "      <td>[&lt;, v, STATEMENT, OF, JEAN, D,, GIZBONS, My, n...</td>\n",
       "      <td>[[38, 18, 60, 25], [49, 45, 60, 52], [313, 119...</td>\n",
       "    </tr>\n",
       "    <tr>\n",
       "      <th>1</th>\n",
       "      <td>RVL_CDIP_one_example_per_class/form/00043194.tif</td>\n",
       "      <td>form</td>\n",
       "      <td>[CLINICAL, RECORD, Do, nony, __Page, 1§, =, 2....</td>\n",
       "      <td>[[139, 98, 208, 109], [218, 97, 279, 109], [72...</td>\n",
       "    </tr>\n",
       "    <tr>\n",
       "      <th>2</th>\n",
       "      <td>RVL_CDIP_one_example_per_class/advertisement/0...</td>\n",
       "      <td>advertisement</td>\n",
       "      <td>[[, P87~, 57, %, MAY, (987, ~, OCT., 19S7, ‘On...</td>\n",
       "      <td>[[51, 9, 90, 36], [381, 13, 494, 37], [503, 11...</td>\n",
       "    </tr>\n",
       "    <tr>\n",
       "      <th>3</th>\n",
       "      <td>RVL_CDIP_one_example_per_class/presentation/00...</td>\n",
       "      <td>presentation</td>\n",
       "      <td>[SUPERIOR, PRODUCT, QUALITY, CPC, PRESENTATION...</td>\n",
       "      <td>[[374, 243, 466, 256], [481, 243, 560, 256], [...</td>\n",
       "    </tr>\n",
       "    <tr>\n",
       "      <th>4</th>\n",
       "      <td>RVL_CDIP_one_example_per_class/scientific_repo...</td>\n",
       "      <td>scientific_report</td>\n",
       "      <td>[sy, w., orpPEL, XA,, FALS., ANALYSIS, NO., 34...</td>\n",
       "      <td>[[108, 60, 148, 67], [154, 60, 167, 66], [173,...</td>\n",
       "    </tr>\n",
       "    <tr>\n",
       "      <th>5</th>\n",
       "      <td>RVL_CDIP_one_example_per_class/scientific_publ...</td>\n",
       "      <td>scientific_publication</td>\n",
       "      <td>[4, Carcinogenesis, Assay, of, Subfractions, o...</td>\n",
       "      <td>[[32, 1, 96, 17], [441, 133, 581, 146], [602, ...</td>\n",
       "    </tr>\n",
       "    <tr>\n",
       "      <th>6</th>\n",
       "      <td>RVL_CDIP_one_example_per_class/budget/00000337...</td>\n",
       "      <td>budget</td>\n",
       "      <td>[THE, TOBACCO, INSTITUTE, CHECK, REQUEST, VEND...</td>\n",
       "      <td>[[383, 90, 428, 103], [436, 90, 549, 103], [55...</td>\n",
       "    </tr>\n",
       "    <tr>\n",
       "      <th>7</th>\n",
       "      <td>RVL_CDIP_one_example_per_class/memo/0000021894...</td>\n",
       "      <td>memo</td>\n",
       "      <td>[TR,, R, B, GRIPFITH, (3), De., R., R,, Jobase...</td>\n",
       "      <td>[[153, 56, 177, 66], [187, 57, 203, 65], [213,...</td>\n",
       "    </tr>\n",
       "    <tr>\n",
       "      <th>8</th>\n",
       "      <td>RVL_CDIP_one_example_per_class/questionnaire/0...</td>\n",
       "      <td>questionnaire</td>\n",
       "      <td>[cory_, 1L, MORE, EFFECTIVE, ADVERTISING/MERCH...</td>\n",
       "      <td>[[322, 310, 381, 328], [410, 308, 416, 327], [...</td>\n",
       "    </tr>\n",
       "    <tr>\n",
       "      <th>9</th>\n",
       "      <td>RVL_CDIP_one_example_per_class/specification/0...</td>\n",
       "      <td>specification</td>\n",
       "      <td>[Material, Number,, 13-002, (, MATERIAL, SPECI...</td>\n",
       "      <td>[[608, 36, 704, 50], [717, 35, 788, 49], [838,...</td>\n",
       "    </tr>\n",
       "    <tr>\n",
       "      <th>10</th>\n",
       "      <td>RVL_CDIP_one_example_per_class/invoice/0000145...</td>\n",
       "      <td>invoice</td>\n",
       "      <td>[_,, i, -, display, corporation, -, internalio...</td>\n",
       "      <td>[[120, 117, 145, 129], [652, 114, 708, 157], [...</td>\n",
       "    </tr>\n",
       "    <tr>\n",
       "      <th>11</th>\n",
       "      <td>RVL_CDIP_one_example_per_class/letter/00000007...</td>\n",
       "      <td>letter</td>\n",
       "      <td>[Received, Law, oFFicES, _, JACOB, &amp;, MEDINGER...</td>\n",
       "      <td>[[623, 58, 694, 72], [370, 82, 397, 88], [405,...</td>\n",
       "    </tr>\n",
       "    <tr>\n",
       "      <th>12</th>\n",
       "      <td>RVL_CDIP_one_example_per_class/news_article/00...</td>\n",
       "      <td>news_article</td>\n",
       "      <td>[“, APPENDIX, 8., TRANSLATION, OF, EDITORIAL, ...</td>\n",
       "      <td>[[66, 34, 74, 41], [725, 29, 797, 40], [808, 3...</td>\n",
       "    </tr>\n",
       "    <tr>\n",
       "      <th>13</th>\n",
       "      <td>RVL_CDIP_one_example_per_class/file_folder/000...</td>\n",
       "      <td>file_folder</td>\n",
       "      <td>[Smoking, and, Health, 1964-1979, THE, CONTINU...</td>\n",
       "      <td>[[367, 240, 442, 252], [456, 241, 486, 250], [...</td>\n",
       "    </tr>\n",
       "    <tr>\n",
       "      <th>14</th>\n",
       "      <td>RVL_CDIP_one_example_per_class/email/001183435...</td>\n",
       "      <td>email</td>\n",
       "      <td>[SWINTERNAT, LUL, /Z,, e, gt, csvLtnu, casuard...</td>\n",
       "      <td>[[30, 32, 137, 43], [149, 32, 181, 41], [299, ...</td>\n",
       "    </tr>\n",
       "  </tbody>\n",
       "</table>\n",
       "</div>"
      ],
      "text/plain": [
       "                                           image_path                   label  \\\n",
       "0   RVL_CDIP_one_example_per_class/resume/00001574...                  resume   \n",
       "1    RVL_CDIP_one_example_per_class/form/00043194.tif                    form   \n",
       "2   RVL_CDIP_one_example_per_class/advertisement/0...           advertisement   \n",
       "3   RVL_CDIP_one_example_per_class/presentation/00...            presentation   \n",
       "4   RVL_CDIP_one_example_per_class/scientific_repo...       scientific_report   \n",
       "5   RVL_CDIP_one_example_per_class/scientific_publ...  scientific_publication   \n",
       "6   RVL_CDIP_one_example_per_class/budget/00000337...                  budget   \n",
       "7   RVL_CDIP_one_example_per_class/memo/0000021894...                    memo   \n",
       "8   RVL_CDIP_one_example_per_class/questionnaire/0...           questionnaire   \n",
       "9   RVL_CDIP_one_example_per_class/specification/0...           specification   \n",
       "10  RVL_CDIP_one_example_per_class/invoice/0000145...                 invoice   \n",
       "11  RVL_CDIP_one_example_per_class/letter/00000007...                  letter   \n",
       "12  RVL_CDIP_one_example_per_class/news_article/00...            news_article   \n",
       "13  RVL_CDIP_one_example_per_class/file_folder/000...             file_folder   \n",
       "14  RVL_CDIP_one_example_per_class/email/001183435...                   email   \n",
       "\n",
       "                                                words  \\\n",
       "0   [<, v, STATEMENT, OF, JEAN, D,, GIZBONS, My, n...   \n",
       "1   [CLINICAL, RECORD, Do, nony, __Page, 1§, =, 2....   \n",
       "2   [[, P87~, 57, %, MAY, (987, ~, OCT., 19S7, ‘On...   \n",
       "3   [SUPERIOR, PRODUCT, QUALITY, CPC, PRESENTATION...   \n",
       "4   [sy, w., orpPEL, XA,, FALS., ANALYSIS, NO., 34...   \n",
       "5   [4, Carcinogenesis, Assay, of, Subfractions, o...   \n",
       "6   [THE, TOBACCO, INSTITUTE, CHECK, REQUEST, VEND...   \n",
       "7   [TR,, R, B, GRIPFITH, (3), De., R., R,, Jobase...   \n",
       "8   [cory_, 1L, MORE, EFFECTIVE, ADVERTISING/MERCH...   \n",
       "9   [Material, Number,, 13-002, (, MATERIAL, SPECI...   \n",
       "10  [_,, i, -, display, corporation, -, internalio...   \n",
       "11  [Received, Law, oFFicES, _, JACOB, &, MEDINGER...   \n",
       "12  [“, APPENDIX, 8., TRANSLATION, OF, EDITORIAL, ...   \n",
       "13  [Smoking, and, Health, 1964-1979, THE, CONTINU...   \n",
       "14  [SWINTERNAT, LUL, /Z,, e, gt, csvLtnu, casuard...   \n",
       "\n",
       "                                                 bbox  \n",
       "0   [[38, 18, 60, 25], [49, 45, 60, 52], [313, 119...  \n",
       "1   [[139, 98, 208, 109], [218, 97, 279, 109], [72...  \n",
       "2   [[51, 9, 90, 36], [381, 13, 494, 37], [503, 11...  \n",
       "3   [[374, 243, 466, 256], [481, 243, 560, 256], [...  \n",
       "4   [[108, 60, 148, 67], [154, 60, 167, 66], [173,...  \n",
       "5   [[32, 1, 96, 17], [441, 133, 581, 146], [602, ...  \n",
       "6   [[383, 90, 428, 103], [436, 90, 549, 103], [55...  \n",
       "7   [[153, 56, 177, 66], [187, 57, 203, 65], [213,...  \n",
       "8   [[322, 310, 381, 328], [410, 308, 416, 327], [...  \n",
       "9   [[608, 36, 704, 50], [717, 35, 788, 49], [838,...  \n",
       "10  [[120, 117, 145, 129], [652, 114, 708, 157], [...  \n",
       "11  [[623, 58, 694, 72], [370, 82, 397, 88], [405,...  \n",
       "12  [[66, 34, 74, 41], [725, 29, 797, 40], [808, 3...  \n",
       "13  [[367, 240, 442, 252], [456, 241, 486, 250], [...  \n",
       "14  [[30, 32, 137, 43], [149, 32, 181, 41], [299, ...  "
      ]
     },
     "execution_count": 82,
     "metadata": {},
     "output_type": "execute_result"
    }
   ],
   "source": [
    "updated_dataset.to_pandas()"
   ]
  },
  {
   "cell_type": "code",
   "execution_count": null,
   "metadata": {},
   "outputs": [],
   "source": []
  },
  {
   "cell_type": "code",
   "execution_count": null,
   "metadata": {},
   "outputs": [],
   "source": []
  },
  {
   "cell_type": "markdown",
   "metadata": {
    "id": "5GbjY0kRSIFx"
   },
   "source": [
    "Next, we can turn the word-level `'words'` and `'bbox'` columns into token-level `input_ids`, `attention_mask`, `bbox` and `token_type_ids` using `LayoutLMTokenizer`."
   ]
  },
  {
   "cell_type": "code",
   "execution_count": 81,
   "metadata": {
    "scrolled": true
   },
   "outputs": [
    {
     "name": "stderr",
     "output_type": "stream",
     "text": [
      "2021-08-05 12:39:27.891154: W tensorflow/stream_executor/platform/default/dso_loader.cc:64] Could not load dynamic library 'libcudart.so.11.0'; dlerror: libcudart.so.11.0: cannot open shared object file: No such file or directory\n",
      "2021-08-05 12:39:27.891192: I tensorflow/stream_executor/cuda/cudart_stub.cc:29] Ignore above cudart dlerror if you do not have a GPU set up on your machine.\n"
     ]
    }
   ],
   "source": [
    "from transformers import LayoutLMTokenizer\n",
    "import torch\n",
    "\n",
    "tokenizer = LayoutLMTokenizer.from_pretrained(\"microsoft/layoutlm-base-uncased\")"
   ]
  },
  {
   "cell_type": "markdown",
   "metadata": {},
   "source": [
    "Play with the `tokenize()` method of a `LayoutLMTokenizer` instance."
   ]
  },
  {
   "cell_type": "code",
   "execution_count": 87,
   "metadata": {},
   "outputs": [
    {
     "data": {
      "text/plain": [
       "(['clinical'],\n",
       " ['car', '##cino', '##genesis'],\n",
       " ['advertising', '/', 'merchant'])"
      ]
     },
     "execution_count": 87,
     "metadata": {},
     "output_type": "execute_result"
    }
   ],
   "source": [
    "tokenizer.tokenize(\"CLINICAL\"), tokenizer.tokenize(\"Carcinogenesis\"), \\\n",
    "tokenizer.tokenize(\"ADVERTISING/MERCHANT\")"
   ]
  },
  {
   "cell_type": "code",
   "execution_count": 88,
   "metadata": {},
   "outputs": [
    {
     "data": {
      "text/plain": [
       "['it', 'is', 'a', 'sunny', 'day', '.']"
      ]
     },
     "execution_count": 88,
     "metadata": {},
     "output_type": "execute_result"
    }
   ],
   "source": [
    "tokenizer.tokenize(\"It is a sunny day.\")"
   ]
  },
  {
   "cell_type": "markdown",
   "metadata": {},
   "source": [
    "For more info on `LayoutLMTokenizer` and on `LayoutLMModel`, one may refer to `./LayoutLMModel_example.ipynb` in this same directory."
   ]
  },
  {
   "cell_type": "raw",
   "metadata": {
    "id": "mg9vgcnBKC6Y"
   },
   "source": [
    "from transformers import LayoutLMTokenizer\n",
    "import torch\n",
    "\n",
    "tokenizer = LayoutLMTokenizer.from_pretrained(\"microsoft/layoutlm-base-uncased\")\n",
    "\n",
    "def encode_example(example, max_seq_length=512, pad_token_box=[0, 0, 0, 0]):\n",
    "  words = example['words']\n",
    "  normalized_word_boxes = example['bbox']\n",
    "\n",
    "  assert len(words) == len(normalized_word_boxes)\n",
    "\n",
    "  token_boxes = []\n",
    "  for word, box in zip(words, normalized_word_boxes):\n",
    "      word_tokens = tokenizer.tokenize(word)\n",
    "      token_boxes.extend([box] * len(word_tokens))\n",
    "  \n",
    "  # Truncation of token_boxes\n",
    "  special_tokens_count = 2 \n",
    "  if len(token_boxes) > max_seq_length - special_tokens_count:\n",
    "      token_boxes = token_boxes[: (max_seq_length - special_tokens_count)]\n",
    "  \n",
    "  # add bounding boxes of cls + sep tokens\n",
    "  token_boxes = [[0, 0, 0, 0]] + token_boxes + [[1000, 1000, 1000, 1000]]\n",
    "  \n",
    "  encoding = tokenizer(' '.join(words), padding='max_length', truncation=True)\n",
    "  # Padding of token_boxes up the bounding boxes to the sequence length.\n",
    "  input_ids = tokenizer(' '.join(words), truncation=True)[\"input_ids\"]\n",
    "  padding_length = max_seq_length - len(input_ids)\n",
    "  token_boxes += [pad_token_box] * padding_length\n",
    "  encoding['bbox'] = token_boxes\n",
    "  encoding['label'] = label2idx[example['label']]\n",
    "\n",
    "  assert len(encoding['input_ids']) == max_seq_length\n",
    "  assert len(encoding['attention_mask']) == max_seq_length\n",
    "  assert len(encoding['token_type_ids']) == max_seq_length\n",
    "  assert len(encoding['bbox']) == max_seq_length\n",
    "\n",
    "  return encoding"
   ]
  },
  {
   "cell_type": "code",
   "execution_count": 99,
   "metadata": {},
   "outputs": [],
   "source": [
    "def encode(data_row, max_seq_length=512, pad_token_box=[0, 0, 0, 0]):\n",
    "    words = data_row['words']\n",
    "    normalized_word_boxes = data_row['bbox']\n",
    "\n",
    "    assert len(words) == len(normalized_word_boxes)\n",
    "    # Already done in apply_ocr(). Here as a check for new inference images?\n",
    "\n",
    "    token_boxes = []\n",
    "    for word, box in zip(words, normalized_word_boxes):\n",
    "        word_tokens = tokenizer.tokenize(word)\n",
    "        token_boxes.extend([box] * len(word_tokens))\n",
    "        # we repeat the same box info for subwords; all subwords of the same word share the same box info.\n",
    "    \n",
    "    # Truncation of token_boxes\n",
    "    special_tokens_count = 2  # <cls> and <sep>, probably\n",
    "    if len(token_boxes) > max_seq_length - special_tokens_count:\n",
    "        token_boxes = token_boxes[: (max_seq_length - special_tokens_count)]\n",
    "    \n",
    "    # add bounding boxes of cls + sep tokens (in the beginning and at the end)\n",
    "    token_boxes = [[0, 0, 0, 0]] + token_boxes + [[1000, 1000, 1000, 1000]]\n",
    "\n",
    "    # So at this point token_boxes will always be of length AT MOST max_seq_length\n",
    "    # padded with <cls> and <sep> tokens (in the beginning and at the end)\n",
    "    \n",
    "    encoding = tokenizer(' '.join(words), padding='max_length', truncation=True)\n",
    "    # encoding is a dictionary of keys like: 'input_ids', 'token_type_ids', 'attention_mask'\n",
    "\n",
    "    # Padding of token_boxes up the bounding boxes to the sequence length.\n",
    "    input_ids = tokenizer(' '.join(words), truncation=True)[\"input_ids\"]\n",
    "    padding_length = max_seq_length - len(input_ids)\n",
    "    #token_boxes += [pad_token_box] * padding_length\n",
    "    token_boxes.extend([pad_token_box] * padding_length)\n",
    "    encoding['bbox'] = token_boxes\n",
    "    # N.B. by this point, encoding['bbox'] is of length 512 FOR SURE,\n",
    "    #      not AT MOST 512 any more.\n",
    "    encoding['label'] = label2idx[data_row['label']]\n",
    "\n",
    "    assert len(encoding['input_ids']) == max_seq_length\n",
    "    assert len(encoding['attention_mask']) == max_seq_length\n",
    "    assert len(encoding['token_type_ids']) == max_seq_length\n",
    "    assert len(encoding['bbox']) == max_seq_length\n",
    "\n",
    "    return encoding"
   ]
  },
  {
   "cell_type": "code",
   "execution_count": null,
   "metadata": {},
   "outputs": [],
   "source": []
  },
  {
   "cell_type": "code",
   "execution_count": null,
   "metadata": {},
   "outputs": [],
   "source": []
  },
  {
   "cell_type": "code",
   "execution_count": 100,
   "metadata": {
    "colab": {
     "base_uri": "https://localhost:8080/",
     "height": 66,
     "referenced_widgets": [
      "c4f3e9efb19042a5bc05a050cb0e2296",
      "e3e7984fd5ca47c99f0a08ad76ec2145",
      "09360d35edbc43a89281046aebb6a48a",
      "0c7a73647ba84b2499f3d3871a03e509",
      "3ea13836dd714a7583c828837b3cea59",
      "93b1c963fad74bd49a1262cebb148d9e",
      "0f00d7414d024de88f5b755c9e7ab7bd",
      "35b6e2f08678416dba6d833957276bbe"
     ]
    },
    "id": "IeksmkWwfKjH",
    "outputId": "78f6cb62-8868-42cd-9f96-bd692e1421db"
   },
   "outputs": [
    {
     "data": {
      "application/vnd.jupyter.widget-view+json": {
       "model_id": "dcf1612dcdc64555ab3dfcf7f15c31ce",
       "version_major": 2,
       "version_minor": 0
      },
      "text/plain": [
       "  0%|          | 0/15 [00:00<?, ?ex/s]"
      ]
     },
     "metadata": {},
     "output_type": "display_data"
    }
   ],
   "source": [
    "from datasets import Features, Sequence, ClassLabel, Value, Array2D\n",
    "\n",
    "# we need to define the features ourselves \n",
    "# as the bbox of LayoutLM are an extra feature\n",
    "features = Features({\n",
    "    'input_ids': Sequence(feature=Value(dtype='int64')),\n",
    "    'bbox': Array2D(dtype=\"int64\", shape=(512, 4)),\n",
    "    'attention_mask': Sequence(Value(dtype='int64')),\n",
    "    'token_type_ids': Sequence(Value(dtype='int64')),\n",
    "    'label': ClassLabel(names=['refuted', 'entailed']),\n",
    "    'image_path': Value(dtype='string'),\n",
    "    'words': Sequence(feature=Value(dtype='string')),\n",
    "})\n",
    "\n",
    "# Because the function encode() has other args, we need to\n",
    "# wrap it up with lambda here to make it a sinlge-arg function\n",
    "encoded_dataset = updated_dataset.map(\n",
    "    lambda row: encode(row), \n",
    "    features=features,\n",
    ")"
   ]
  },
  {
   "cell_type": "code",
   "execution_count": 101,
   "metadata": {},
   "outputs": [
    {
     "data": {
      "text/plain": [
       "Dataset({\n",
       "    features: ['input_ids', 'bbox', 'attention_mask', 'token_type_ids', 'label', 'image_path', 'words'],\n",
       "    num_rows: 15\n",
       "})"
      ]
     },
     "execution_count": 101,
     "metadata": {},
     "output_type": "execute_result"
    }
   ],
   "source": [
    "encoded_dataset"
   ]
  },
  {
   "cell_type": "markdown",
   "metadata": {
    "id": "UA8ZiWcr2Rwo"
   },
   "source": [
    "Finally, we set the format to PyTorch, as the LayoutLM implementation in the Transformers library is in PyTorch. We also specify which columns we are going to use. (We drop out the two columns `\"image_path\"` and `\"words\"`)"
   ]
  },
  {
   "cell_type": "code",
   "execution_count": 103,
   "metadata": {
    "id": "ZWg6ArO003By"
   },
   "outputs": [],
   "source": [
    "encoded_dataset.set_format(type='torch', columns=['input_ids', 'bbox', 'attention_mask', 'token_type_ids', 'label'])"
   ]
  },
  {
   "cell_type": "code",
   "execution_count": 105,
   "metadata": {
    "colab": {
     "base_uri": "https://localhost:8080/"
    },
    "id": "V1Qdjf8o37IN",
    "outputId": "d1aab2bc-fe5a-4e0b-987d-0018e0234cb6"
   },
   "outputs": [
    {
     "data": {
      "text/plain": [
       "dict"
      ]
     },
     "execution_count": 105,
     "metadata": {},
     "output_type": "execute_result"
    }
   ],
   "source": [
    "dataloader = torch.utils.data.DataLoader(encoded_dataset, batch_size=1, shuffle=True)\n",
    "batch = next(iter(dataloader))\n",
    "type(batch)"
   ]
  },
  {
   "cell_type": "code",
   "execution_count": 106,
   "metadata": {},
   "outputs": [
    {
     "data": {
      "text/plain": [
       "dict_keys(['input_ids', 'bbox', 'attention_mask', 'token_type_ids', 'label'])"
      ]
     },
     "execution_count": 106,
     "metadata": {},
     "output_type": "execute_result"
    }
   ],
   "source": [
    "batch.keys()"
   ]
  },
  {
   "cell_type": "code",
   "execution_count": 111,
   "metadata": {},
   "outputs": [
    {
     "data": {
      "text/plain": [
       "torch.Size([1, 512])"
      ]
     },
     "execution_count": 111,
     "metadata": {},
     "output_type": "execute_result"
    }
   ],
   "source": [
    "batch[\"input_ids\"].shape"
   ]
  },
  {
   "cell_type": "markdown",
   "metadata": {
    "id": "xxmfktUy-o_E"
   },
   "source": [
    "Let's verify whether the input ids are created correctly by decoding them back to text:"
   ]
  },
  {
   "cell_type": "code",
   "execution_count": 15,
   "metadata": {
    "colab": {
     "base_uri": "https://localhost:8080/",
     "height": 137
    },
    "id": "3rJJ9WU7yTZC",
    "outputId": "e640f9a2-df28-436d-e0e0-6af56d1b564c"
   },
   "outputs": [
    {
     "data": {
      "application/vnd.google.colaboratory.intrinsic+json": {
       "type": "string"
      },
      "text/plain": [
       "'[CLS] tr, rh, griffith ( ) de. re 2. jobaisen / oja 8 february 1963, chromatography of arona concentrates 38 oer continuing : investigations on the separation of tobacco acum con = sgakeace constituents ws have found that columa clioaatograply of evade aren see pence on ilies gol ie excellene tor their initial fractlostions tate ‘ hee becona the basis for an improved isolation schema for cossovod a experinental suey of 23 - 70 mash silica gel iu hexane is added to a 1 em coluen untid sre atticn sol bed depth 1s 39 eu. a 2. 0 ¢ gample af a erude hgh eeopecacuee seagjcekemerate 48 then applied eo the top of the coluan in hexane, eluring je rsefemplisted ftree with hexane, and then with solvents of gradwally increasing poreritys, rections of 100 mi are collegtad and tho weights of eluted arenes of the flaereceat soven : renoval at 20° / 10 axe mesules fron the chrouatastapiy 7 of the flue - eured sud burley aruna concentrates are tabulated belove burley fluo - cured ee reaction ¢ solvent we. eluted hts eluted t hexane + 713 g 2 hexaaa 2062 : 3 2 % ether / 98 % hexane 1026 im 4 2 % ethec / 98 % hexane 1061 2 hg 5 3 % ether / 95 % hexane wee 6 - + be ether / 95 % hexane “ e 7 \\\\ y 10 % echer / 90 % hexane se a 10 % ether / 90 % hexane ere 9 20 % ether / 80 % hexane : 10 20 % etixer / 60 % hexane un + °30 % ether / 70 % hexane 2 30 % ethor / 707 hexane 13 100 % - echer i 100 % etner 15 ethanol nee * toral 7. 896 g ouf ziaizece of the eluced fractions shov that uasentinlly att of eae cow = pound 4 i eluted in fractions # 5 and 6, these snomeiag [SEP]'"
      ]
     },
     "execution_count": 15,
     "metadata": {
      "tags": []
     },
     "output_type": "execute_result"
    }
   ],
   "source": [
    "tokenizer.decode(batch['input_ids'][0].tolist())"
   ]
  },
  {
   "cell_type": "code",
   "execution_count": 16,
   "metadata": {
    "colab": {
     "base_uri": "https://localhost:8080/",
     "height": 35
    },
    "id": "_qGimR6HyZMy",
    "outputId": "00cf59bf-a164-4ab0-cd5f-3dc7947ae1fd"
   },
   "outputs": [
    {
     "data": {
      "application/vnd.google.colaboratory.intrinsic+json": {
       "type": "string"
      },
      "text/plain": [
       "'memo'"
      ]
     },
     "execution_count": 16,
     "metadata": {
      "tags": []
     },
     "output_type": "execute_result"
    }
   ],
   "source": [
    "idx2label[batch['label'][0].item()]"
   ]
  },
  {
   "cell_type": "code",
   "execution_count": 116,
   "metadata": {},
   "outputs": [
    {
     "data": {
      "text/plain": [
       "tensor([5])"
      ]
     },
     "execution_count": 116,
     "metadata": {},
     "output_type": "execute_result"
    }
   ],
   "source": [
    "batch['label']"
   ]
  },
  {
   "cell_type": "code",
   "execution_count": 118,
   "metadata": {},
   "outputs": [
    {
     "name": "stdout",
     "output_type": "stream",
     "text": [
      "Help on built-in function item:\n",
      "\n",
      "item(...) method of torch.Tensor instance\n",
      "    item() -> number\n",
      "    \n",
      "    Returns the value of this tensor as a standard Python number. This only works\n",
      "    for tensors with one element. For other cases, see :meth:`~Tensor.tolist`.\n",
      "    \n",
      "    This operation is not differentiable.\n",
      "    \n",
      "    Example::\n",
      "    \n",
      "        >>> x = torch.tensor([1.0])\n",
      "        >>> x.item()\n",
      "        1.0\n",
      "\n"
     ]
    }
   ],
   "source": [
    "help(batch['label'][0].item)"
   ]
  },
  {
   "cell_type": "markdown",
   "metadata": {
    "id": "28KGi6lqid0c"
   },
   "source": [
    "## Define the model\n",
    "\n",
    "Here we define the model, namely `LayoutLMForSequenceClassification`. We initialize it with the weights of the pre-trained base model (`LayoutLMModel`). The weights of the classification head are randomly initialized, and will be fine-tuned together with the weights of the base model on our tiny dataset. Once loaded, we move it to the GPU (if there is GPU).\n",
    "\n"
   ]
  },
  {
   "cell_type": "code",
   "execution_count": 119,
   "metadata": {
    "colab": {
     "base_uri": "https://localhost:8080/"
    },
    "id": "jlb_izEJjy3Z",
    "outputId": "f6981801-31c8-4d29-aab3-a6250c3216cb",
    "scrolled": true
   },
   "outputs": [
    {
     "name": "stderr",
     "output_type": "stream",
     "text": [
      "Some weights of the model checkpoint at microsoft/layoutlm-base-uncased were not used when initializing LayoutLMForSequenceClassification: ['cls.predictions.transform.LayerNorm.bias', 'cls.predictions.decoder.bias', 'cls.predictions.transform.dense.bias', 'cls.predictions.bias', 'cls.predictions.transform.LayerNorm.weight', 'cls.predictions.decoder.weight', 'cls.predictions.transform.dense.weight']\n",
      "- This IS expected if you are initializing LayoutLMForSequenceClassification from the checkpoint of a model trained on another task or with another architecture (e.g. initializing a BertForSequenceClassification model from a BertForPreTraining model).\n",
      "- This IS NOT expected if you are initializing LayoutLMForSequenceClassification from the checkpoint of a model that you expect to be exactly identical (initializing a BertForSequenceClassification model from a BertForSequenceClassification model).\n",
      "Some weights of LayoutLMForSequenceClassification were not initialized from the model checkpoint at microsoft/layoutlm-base-uncased and are newly initialized: ['classifier.bias', 'classifier.weight']\n",
      "You should probably TRAIN this model on a down-stream task to be able to use it for predictions and inference.\n"
     ]
    },
    {
     "data": {
      "text/plain": [
       "LayoutLMForSequenceClassification(\n",
       "  (layoutlm): LayoutLMModel(\n",
       "    (embeddings): LayoutLMEmbeddings(\n",
       "      (word_embeddings): Embedding(30522, 768, padding_idx=0)\n",
       "      (position_embeddings): Embedding(512, 768)\n",
       "      (x_position_embeddings): Embedding(1024, 768)\n",
       "      (y_position_embeddings): Embedding(1024, 768)\n",
       "      (h_position_embeddings): Embedding(1024, 768)\n",
       "      (w_position_embeddings): Embedding(1024, 768)\n",
       "      (token_type_embeddings): Embedding(2, 768)\n",
       "      (LayerNorm): LayerNorm((768,), eps=1e-12, elementwise_affine=True)\n",
       "      (dropout): Dropout(p=0.1, inplace=False)\n",
       "    )\n",
       "    (encoder): LayoutLMEncoder(\n",
       "      (layer): ModuleList(\n",
       "        (0): LayoutLMLayer(\n",
       "          (attention): LayoutLMAttention(\n",
       "            (self): LayoutLMSelfAttention(\n",
       "              (query): Linear(in_features=768, out_features=768, bias=True)\n",
       "              (key): Linear(in_features=768, out_features=768, bias=True)\n",
       "              (value): Linear(in_features=768, out_features=768, bias=True)\n",
       "              (dropout): Dropout(p=0.1, inplace=False)\n",
       "            )\n",
       "            (output): LayoutLMSelfOutput(\n",
       "              (dense): Linear(in_features=768, out_features=768, bias=True)\n",
       "              (LayerNorm): LayerNorm((768,), eps=1e-12, elementwise_affine=True)\n",
       "              (dropout): Dropout(p=0.1, inplace=False)\n",
       "            )\n",
       "          )\n",
       "          (intermediate): LayoutLMIntermediate(\n",
       "            (dense): Linear(in_features=768, out_features=3072, bias=True)\n",
       "          )\n",
       "          (output): LayoutLMOutput(\n",
       "            (dense): Linear(in_features=3072, out_features=768, bias=True)\n",
       "            (LayerNorm): LayerNorm((768,), eps=1e-12, elementwise_affine=True)\n",
       "            (dropout): Dropout(p=0.1, inplace=False)\n",
       "          )\n",
       "        )\n",
       "        (1): LayoutLMLayer(\n",
       "          (attention): LayoutLMAttention(\n",
       "            (self): LayoutLMSelfAttention(\n",
       "              (query): Linear(in_features=768, out_features=768, bias=True)\n",
       "              (key): Linear(in_features=768, out_features=768, bias=True)\n",
       "              (value): Linear(in_features=768, out_features=768, bias=True)\n",
       "              (dropout): Dropout(p=0.1, inplace=False)\n",
       "            )\n",
       "            (output): LayoutLMSelfOutput(\n",
       "              (dense): Linear(in_features=768, out_features=768, bias=True)\n",
       "              (LayerNorm): LayerNorm((768,), eps=1e-12, elementwise_affine=True)\n",
       "              (dropout): Dropout(p=0.1, inplace=False)\n",
       "            )\n",
       "          )\n",
       "          (intermediate): LayoutLMIntermediate(\n",
       "            (dense): Linear(in_features=768, out_features=3072, bias=True)\n",
       "          )\n",
       "          (output): LayoutLMOutput(\n",
       "            (dense): Linear(in_features=3072, out_features=768, bias=True)\n",
       "            (LayerNorm): LayerNorm((768,), eps=1e-12, elementwise_affine=True)\n",
       "            (dropout): Dropout(p=0.1, inplace=False)\n",
       "          )\n",
       "        )\n",
       "        (2): LayoutLMLayer(\n",
       "          (attention): LayoutLMAttention(\n",
       "            (self): LayoutLMSelfAttention(\n",
       "              (query): Linear(in_features=768, out_features=768, bias=True)\n",
       "              (key): Linear(in_features=768, out_features=768, bias=True)\n",
       "              (value): Linear(in_features=768, out_features=768, bias=True)\n",
       "              (dropout): Dropout(p=0.1, inplace=False)\n",
       "            )\n",
       "            (output): LayoutLMSelfOutput(\n",
       "              (dense): Linear(in_features=768, out_features=768, bias=True)\n",
       "              (LayerNorm): LayerNorm((768,), eps=1e-12, elementwise_affine=True)\n",
       "              (dropout): Dropout(p=0.1, inplace=False)\n",
       "            )\n",
       "          )\n",
       "          (intermediate): LayoutLMIntermediate(\n",
       "            (dense): Linear(in_features=768, out_features=3072, bias=True)\n",
       "          )\n",
       "          (output): LayoutLMOutput(\n",
       "            (dense): Linear(in_features=3072, out_features=768, bias=True)\n",
       "            (LayerNorm): LayerNorm((768,), eps=1e-12, elementwise_affine=True)\n",
       "            (dropout): Dropout(p=0.1, inplace=False)\n",
       "          )\n",
       "        )\n",
       "        (3): LayoutLMLayer(\n",
       "          (attention): LayoutLMAttention(\n",
       "            (self): LayoutLMSelfAttention(\n",
       "              (query): Linear(in_features=768, out_features=768, bias=True)\n",
       "              (key): Linear(in_features=768, out_features=768, bias=True)\n",
       "              (value): Linear(in_features=768, out_features=768, bias=True)\n",
       "              (dropout): Dropout(p=0.1, inplace=False)\n",
       "            )\n",
       "            (output): LayoutLMSelfOutput(\n",
       "              (dense): Linear(in_features=768, out_features=768, bias=True)\n",
       "              (LayerNorm): LayerNorm((768,), eps=1e-12, elementwise_affine=True)\n",
       "              (dropout): Dropout(p=0.1, inplace=False)\n",
       "            )\n",
       "          )\n",
       "          (intermediate): LayoutLMIntermediate(\n",
       "            (dense): Linear(in_features=768, out_features=3072, bias=True)\n",
       "          )\n",
       "          (output): LayoutLMOutput(\n",
       "            (dense): Linear(in_features=3072, out_features=768, bias=True)\n",
       "            (LayerNorm): LayerNorm((768,), eps=1e-12, elementwise_affine=True)\n",
       "            (dropout): Dropout(p=0.1, inplace=False)\n",
       "          )\n",
       "        )\n",
       "        (4): LayoutLMLayer(\n",
       "          (attention): LayoutLMAttention(\n",
       "            (self): LayoutLMSelfAttention(\n",
       "              (query): Linear(in_features=768, out_features=768, bias=True)\n",
       "              (key): Linear(in_features=768, out_features=768, bias=True)\n",
       "              (value): Linear(in_features=768, out_features=768, bias=True)\n",
       "              (dropout): Dropout(p=0.1, inplace=False)\n",
       "            )\n",
       "            (output): LayoutLMSelfOutput(\n",
       "              (dense): Linear(in_features=768, out_features=768, bias=True)\n",
       "              (LayerNorm): LayerNorm((768,), eps=1e-12, elementwise_affine=True)\n",
       "              (dropout): Dropout(p=0.1, inplace=False)\n",
       "            )\n",
       "          )\n",
       "          (intermediate): LayoutLMIntermediate(\n",
       "            (dense): Linear(in_features=768, out_features=3072, bias=True)\n",
       "          )\n",
       "          (output): LayoutLMOutput(\n",
       "            (dense): Linear(in_features=3072, out_features=768, bias=True)\n",
       "            (LayerNorm): LayerNorm((768,), eps=1e-12, elementwise_affine=True)\n",
       "            (dropout): Dropout(p=0.1, inplace=False)\n",
       "          )\n",
       "        )\n",
       "        (5): LayoutLMLayer(\n",
       "          (attention): LayoutLMAttention(\n",
       "            (self): LayoutLMSelfAttention(\n",
       "              (query): Linear(in_features=768, out_features=768, bias=True)\n",
       "              (key): Linear(in_features=768, out_features=768, bias=True)\n",
       "              (value): Linear(in_features=768, out_features=768, bias=True)\n",
       "              (dropout): Dropout(p=0.1, inplace=False)\n",
       "            )\n",
       "            (output): LayoutLMSelfOutput(\n",
       "              (dense): Linear(in_features=768, out_features=768, bias=True)\n",
       "              (LayerNorm): LayerNorm((768,), eps=1e-12, elementwise_affine=True)\n",
       "              (dropout): Dropout(p=0.1, inplace=False)\n",
       "            )\n",
       "          )\n",
       "          (intermediate): LayoutLMIntermediate(\n",
       "            (dense): Linear(in_features=768, out_features=3072, bias=True)\n",
       "          )\n",
       "          (output): LayoutLMOutput(\n",
       "            (dense): Linear(in_features=3072, out_features=768, bias=True)\n",
       "            (LayerNorm): LayerNorm((768,), eps=1e-12, elementwise_affine=True)\n",
       "            (dropout): Dropout(p=0.1, inplace=False)\n",
       "          )\n",
       "        )\n",
       "        (6): LayoutLMLayer(\n",
       "          (attention): LayoutLMAttention(\n",
       "            (self): LayoutLMSelfAttention(\n",
       "              (query): Linear(in_features=768, out_features=768, bias=True)\n",
       "              (key): Linear(in_features=768, out_features=768, bias=True)\n",
       "              (value): Linear(in_features=768, out_features=768, bias=True)\n",
       "              (dropout): Dropout(p=0.1, inplace=False)\n",
       "            )\n",
       "            (output): LayoutLMSelfOutput(\n",
       "              (dense): Linear(in_features=768, out_features=768, bias=True)\n",
       "              (LayerNorm): LayerNorm((768,), eps=1e-12, elementwise_affine=True)\n",
       "              (dropout): Dropout(p=0.1, inplace=False)\n",
       "            )\n",
       "          )\n",
       "          (intermediate): LayoutLMIntermediate(\n",
       "            (dense): Linear(in_features=768, out_features=3072, bias=True)\n",
       "          )\n",
       "          (output): LayoutLMOutput(\n",
       "            (dense): Linear(in_features=3072, out_features=768, bias=True)\n",
       "            (LayerNorm): LayerNorm((768,), eps=1e-12, elementwise_affine=True)\n",
       "            (dropout): Dropout(p=0.1, inplace=False)\n",
       "          )\n",
       "        )\n",
       "        (7): LayoutLMLayer(\n",
       "          (attention): LayoutLMAttention(\n",
       "            (self): LayoutLMSelfAttention(\n",
       "              (query): Linear(in_features=768, out_features=768, bias=True)\n",
       "              (key): Linear(in_features=768, out_features=768, bias=True)\n",
       "              (value): Linear(in_features=768, out_features=768, bias=True)\n",
       "              (dropout): Dropout(p=0.1, inplace=False)\n",
       "            )\n",
       "            (output): LayoutLMSelfOutput(\n",
       "              (dense): Linear(in_features=768, out_features=768, bias=True)\n",
       "              (LayerNorm): LayerNorm((768,), eps=1e-12, elementwise_affine=True)\n",
       "              (dropout): Dropout(p=0.1, inplace=False)\n",
       "            )\n",
       "          )\n",
       "          (intermediate): LayoutLMIntermediate(\n",
       "            (dense): Linear(in_features=768, out_features=3072, bias=True)\n",
       "          )\n",
       "          (output): LayoutLMOutput(\n",
       "            (dense): Linear(in_features=3072, out_features=768, bias=True)\n",
       "            (LayerNorm): LayerNorm((768,), eps=1e-12, elementwise_affine=True)\n",
       "            (dropout): Dropout(p=0.1, inplace=False)\n",
       "          )\n",
       "        )\n",
       "        (8): LayoutLMLayer(\n",
       "          (attention): LayoutLMAttention(\n",
       "            (self): LayoutLMSelfAttention(\n",
       "              (query): Linear(in_features=768, out_features=768, bias=True)\n",
       "              (key): Linear(in_features=768, out_features=768, bias=True)\n",
       "              (value): Linear(in_features=768, out_features=768, bias=True)\n",
       "              (dropout): Dropout(p=0.1, inplace=False)\n",
       "            )\n",
       "            (output): LayoutLMSelfOutput(\n",
       "              (dense): Linear(in_features=768, out_features=768, bias=True)\n",
       "              (LayerNorm): LayerNorm((768,), eps=1e-12, elementwise_affine=True)\n",
       "              (dropout): Dropout(p=0.1, inplace=False)\n",
       "            )\n",
       "          )\n",
       "          (intermediate): LayoutLMIntermediate(\n",
       "            (dense): Linear(in_features=768, out_features=3072, bias=True)\n",
       "          )\n",
       "          (output): LayoutLMOutput(\n",
       "            (dense): Linear(in_features=3072, out_features=768, bias=True)\n",
       "            (LayerNorm): LayerNorm((768,), eps=1e-12, elementwise_affine=True)\n",
       "            (dropout): Dropout(p=0.1, inplace=False)\n",
       "          )\n",
       "        )\n",
       "        (9): LayoutLMLayer(\n",
       "          (attention): LayoutLMAttention(\n",
       "            (self): LayoutLMSelfAttention(\n",
       "              (query): Linear(in_features=768, out_features=768, bias=True)\n",
       "              (key): Linear(in_features=768, out_features=768, bias=True)\n",
       "              (value): Linear(in_features=768, out_features=768, bias=True)\n",
       "              (dropout): Dropout(p=0.1, inplace=False)\n",
       "            )\n",
       "            (output): LayoutLMSelfOutput(\n",
       "              (dense): Linear(in_features=768, out_features=768, bias=True)\n",
       "              (LayerNorm): LayerNorm((768,), eps=1e-12, elementwise_affine=True)\n",
       "              (dropout): Dropout(p=0.1, inplace=False)\n",
       "            )\n",
       "          )\n",
       "          (intermediate): LayoutLMIntermediate(\n",
       "            (dense): Linear(in_features=768, out_features=3072, bias=True)\n",
       "          )\n",
       "          (output): LayoutLMOutput(\n",
       "            (dense): Linear(in_features=3072, out_features=768, bias=True)\n",
       "            (LayerNorm): LayerNorm((768,), eps=1e-12, elementwise_affine=True)\n",
       "            (dropout): Dropout(p=0.1, inplace=False)\n",
       "          )\n",
       "        )\n",
       "        (10): LayoutLMLayer(\n",
       "          (attention): LayoutLMAttention(\n",
       "            (self): LayoutLMSelfAttention(\n",
       "              (query): Linear(in_features=768, out_features=768, bias=True)\n",
       "              (key): Linear(in_features=768, out_features=768, bias=True)\n",
       "              (value): Linear(in_features=768, out_features=768, bias=True)\n",
       "              (dropout): Dropout(p=0.1, inplace=False)\n",
       "            )\n",
       "            (output): LayoutLMSelfOutput(\n",
       "              (dense): Linear(in_features=768, out_features=768, bias=True)\n",
       "              (LayerNorm): LayerNorm((768,), eps=1e-12, elementwise_affine=True)\n",
       "              (dropout): Dropout(p=0.1, inplace=False)\n",
       "            )\n",
       "          )\n",
       "          (intermediate): LayoutLMIntermediate(\n",
       "            (dense): Linear(in_features=768, out_features=3072, bias=True)\n",
       "          )\n",
       "          (output): LayoutLMOutput(\n",
       "            (dense): Linear(in_features=3072, out_features=768, bias=True)\n",
       "            (LayerNorm): LayerNorm((768,), eps=1e-12, elementwise_affine=True)\n",
       "            (dropout): Dropout(p=0.1, inplace=False)\n",
       "          )\n",
       "        )\n",
       "        (11): LayoutLMLayer(\n",
       "          (attention): LayoutLMAttention(\n",
       "            (self): LayoutLMSelfAttention(\n",
       "              (query): Linear(in_features=768, out_features=768, bias=True)\n",
       "              (key): Linear(in_features=768, out_features=768, bias=True)\n",
       "              (value): Linear(in_features=768, out_features=768, bias=True)\n",
       "              (dropout): Dropout(p=0.1, inplace=False)\n",
       "            )\n",
       "            (output): LayoutLMSelfOutput(\n",
       "              (dense): Linear(in_features=768, out_features=768, bias=True)\n",
       "              (LayerNorm): LayerNorm((768,), eps=1e-12, elementwise_affine=True)\n",
       "              (dropout): Dropout(p=0.1, inplace=False)\n",
       "            )\n",
       "          )\n",
       "          (intermediate): LayoutLMIntermediate(\n",
       "            (dense): Linear(in_features=768, out_features=3072, bias=True)\n",
       "          )\n",
       "          (output): LayoutLMOutput(\n",
       "            (dense): Linear(in_features=3072, out_features=768, bias=True)\n",
       "            (LayerNorm): LayerNorm((768,), eps=1e-12, elementwise_affine=True)\n",
       "            (dropout): Dropout(p=0.1, inplace=False)\n",
       "          )\n",
       "        )\n",
       "      )\n",
       "    )\n",
       "    (pooler): LayoutLMPooler(\n",
       "      (dense): Linear(in_features=768, out_features=768, bias=True)\n",
       "      (activation): Tanh()\n",
       "    )\n",
       "  )\n",
       "  (dropout): Dropout(p=0.1, inplace=False)\n",
       "  (classifier): Linear(in_features=768, out_features=15, bias=True)\n",
       ")"
      ]
     },
     "execution_count": 119,
     "metadata": {},
     "output_type": "execute_result"
    }
   ],
   "source": [
    "from transformers import LayoutLMForSequenceClassification\n",
    "import torch\n",
    "\n",
    "device = torch.device(\"cuda\" if torch.cuda.is_available() else \"cpu\")\n",
    "\n",
    "model = LayoutLMForSequenceClassification.from_pretrained(\"microsoft/layoutlm-base-uncased\", num_labels=len(label2idx))\n",
    "model.to(device)"
   ]
  },
  {
   "cell_type": "markdown",
   "metadata": {
    "id": "IE9wo9Y1j3i8"
   },
   "source": [
    "## Train the model\n",
    "\n",
    "Here we train the model in familiar PyTorch fashion. We use the Adam optimizer with weight decay fix (normally you can also specify which variables should have weight decay and which not + a learning rate scheduler. Cf. [here](https://github.com/microsoft/unilm/blob/5d16c846bec56b6e88ec7de4fc3ceb7c803571a4/layoutlm/examples/classification/run_classification.py#L94) for how the authors of LayoutLM did this), and train for 30 epochs. If the model is able to overfit it, then it means there are no issues and we can train it on the entire dataset."
   ]
  },
  {
   "cell_type": "code",
   "execution_count": 18,
   "metadata": {
    "colab": {
     "base_uri": "https://localhost:8080/"
    },
    "id": "_QZpQzFNj63T",
    "outputId": "616049ad-7f17-4659-d3d9-e195ac8c645f"
   },
   "outputs": [
    {
     "name": "stdout",
     "output_type": "stream",
     "text": [
      "Epoch: 0\n",
      "Loss: 43.12694573402405\n",
      "Training accuracy: 0.0\n",
      "Epoch: 1\n",
      "Loss: 35.339784145355225\n",
      "Training accuracy: 33.333335876464844\n",
      "Epoch: 2\n",
      "Loss: 30.55066680908203\n",
      "Training accuracy: 86.66667175292969\n",
      "Epoch: 3\n",
      "Loss: 27.842902660369873\n",
      "Training accuracy: 86.66667175292969\n",
      "Epoch: 4\n",
      "Loss: 21.45477443933487\n",
      "Training accuracy: 100.00000762939453\n",
      "Epoch: 5\n",
      "Loss: 19.765377640724182\n",
      "Training accuracy: 93.33333587646484\n",
      "Epoch: 6\n",
      "Loss: 16.269045293331146\n",
      "Training accuracy: 93.33333587646484\n",
      "Epoch: 7\n",
      "Loss: 13.61208951473236\n",
      "Training accuracy: 100.00000762939453\n",
      "Epoch: 8\n",
      "Loss: 12.580875396728516\n",
      "Training accuracy: 100.00000762939453\n",
      "Epoch: 9\n",
      "Loss: 9.917366653680801\n",
      "Training accuracy: 100.00000762939453\n",
      "Epoch: 10\n",
      "Loss: 8.083266794681549\n",
      "Training accuracy: 100.00000762939453\n",
      "Epoch: 11\n",
      "Loss: 8.36630928516388\n",
      "Training accuracy: 93.33333587646484\n",
      "Epoch: 12\n",
      "Loss: 7.368062764406204\n",
      "Training accuracy: 93.33333587646484\n",
      "Epoch: 13\n",
      "Loss: 5.720428228378296\n",
      "Training accuracy: 100.00000762939453\n",
      "Epoch: 14\n",
      "Loss: 4.611804857850075\n",
      "Training accuracy: 100.00000762939453\n",
      "Epoch: 15\n",
      "Loss: 3.4929953813552856\n",
      "Training accuracy: 100.00000762939453\n",
      "Epoch: 16\n",
      "Loss: 2.9797599762678146\n",
      "Training accuracy: 100.00000762939453\n",
      "Epoch: 17\n",
      "Loss: 2.7349031269550323\n",
      "Training accuracy: 100.00000762939453\n",
      "Epoch: 18\n",
      "Loss: 2.3549284264445305\n",
      "Training accuracy: 100.00000762939453\n",
      "Epoch: 19\n",
      "Loss: 1.9186500012874603\n",
      "Training accuracy: 100.00000762939453\n",
      "Epoch: 20\n",
      "Loss: 1.960314616560936\n",
      "Training accuracy: 100.00000762939453\n",
      "Epoch: 21\n",
      "Loss: 1.8035170659422874\n",
      "Training accuracy: 100.00000762939453\n",
      "Epoch: 22\n",
      "Loss: 1.674522079527378\n",
      "Training accuracy: 100.00000762939453\n",
      "Epoch: 23\n",
      "Loss: 1.542198833078146\n",
      "Training accuracy: 100.00000762939453\n",
      "Epoch: 24\n",
      "Loss: 1.4831208437681198\n",
      "Training accuracy: 100.00000762939453\n",
      "Epoch: 25\n",
      "Loss: 1.3329095914959908\n",
      "Training accuracy: 100.00000762939453\n",
      "Epoch: 26\n",
      "Loss: 1.3143288791179657\n",
      "Training accuracy: 100.00000762939453\n",
      "Epoch: 27\n",
      "Loss: 1.1933068744838238\n",
      "Training accuracy: 100.00000762939453\n",
      "Epoch: 28\n",
      "Loss: 1.1401441916823387\n",
      "Training accuracy: 100.00000762939453\n",
      "Epoch: 29\n",
      "Loss: 1.0487095415592194\n",
      "Training accuracy: 100.00000762939453\n"
     ]
    }
   ],
   "source": [
    "from transformers import AdamW\n",
    "\n",
    "optimizer = AdamW(model.parameters(), lr=5e-5)\n",
    "\n",
    "global_step = 0\n",
    "num_train_epochs = 30\n",
    "t_total = len(dataloader) * num_train_epochs # total number of training steps \n",
    "\n",
    "#put the model in training mode\n",
    "model.train()\n",
    "for epoch in range(num_train_epochs):\n",
    "  print(\"Epoch:\", epoch)\n",
    "  running_loss = 0.0\n",
    "  correct = 0\n",
    "  for batch in dataloader:\n",
    "      input_ids = batch[\"input_ids\"].to(device)\n",
    "      bbox = batch[\"bbox\"].to(device)\n",
    "      attention_mask = batch[\"attention_mask\"].to(device)\n",
    "      token_type_ids = batch[\"token_type_ids\"].to(device)\n",
    "      labels = batch[\"label\"].to(device)\n",
    "\n",
    "      # forward pass\n",
    "      outputs = model(input_ids=input_ids, bbox=bbox, attention_mask=attention_mask, token_type_ids=token_type_ids,\n",
    "                      labels=labels)\n",
    "      loss = outputs.loss\n",
    "\n",
    "      running_loss += loss.item()\n",
    "      predictions = outputs.logits.argmax(-1)\n",
    "      correct += (predictions == labels).float().sum()\n",
    "\n",
    "      # backward pass to get the gradients \n",
    "      loss.backward()\n",
    "\n",
    "      # update\n",
    "      optimizer.step()\n",
    "      optimizer.zero_grad()\n",
    "      global_step += 1\n",
    "  \n",
    "  print(\"Loss:\", running_loss / batch[\"input_ids\"].shape[0])\n",
    "  accuracy = 100 * correct / len(data)\n",
    "  print(\"Training accuracy:\", accuracy.item())"
   ]
  },
  {
   "cell_type": "code",
   "execution_count": 137,
   "metadata": {},
   "outputs": [
    {
     "name": "stdout",
     "output_type": "stream",
     "text": [
      "Epoch: 0\n"
     ]
    },
    {
     "data": {
      "application/vnd.jupyter.widget-view+json": {
       "model_id": "e7ca020565ba4f2397afd00858965995",
       "version_major": 2,
       "version_minor": 0
      },
      "text/plain": [
       "  0%|          | 0/15 [00:00<?, ?it/s]"
      ]
     },
     "metadata": {},
     "output_type": "display_data"
    },
    {
     "name": "stdout",
     "output_type": "stream",
     "text": [
      "Loss: 42.85848617553711\n",
      "Training accuracy: 0.0\n",
      "Epoch: 1\n"
     ]
    },
    {
     "data": {
      "application/vnd.jupyter.widget-view+json": {
       "model_id": "dfaa7ed8bc3f457fa50febd66b5292c0",
       "version_major": 2,
       "version_minor": 0
      },
      "text/plain": [
       "  0%|          | 0/15 [00:00<?, ?it/s]"
      ]
     },
     "metadata": {},
     "output_type": "display_data"
    },
    {
     "name": "stdout",
     "output_type": "stream",
     "text": [
      "Loss: 35.35514736175537\n",
      "Training accuracy: 26.66666603088379\n",
      "Epoch: 2\n"
     ]
    },
    {
     "data": {
      "application/vnd.jupyter.widget-view+json": {
       "model_id": "6cf40267d0b7418bad6ef80f5e1eaa56",
       "version_major": 2,
       "version_minor": 0
      },
      "text/plain": [
       "  0%|          | 0/15 [00:00<?, ?it/s]"
      ]
     },
     "metadata": {},
     "output_type": "display_data"
    },
    {
     "name": "stdout",
     "output_type": "stream",
     "text": [
      "Loss: 31.085582971572876\n",
      "Training accuracy: 60.0\n",
      "Epoch: 3\n"
     ]
    },
    {
     "data": {
      "application/vnd.jupyter.widget-view+json": {
       "model_id": "8985be4591f34cd6874bf207794797d9",
       "version_major": 2,
       "version_minor": 0
      },
      "text/plain": [
       "  0%|          | 0/15 [00:00<?, ?it/s]"
      ]
     },
     "metadata": {},
     "output_type": "display_data"
    },
    {
     "name": "stdout",
     "output_type": "stream",
     "text": [
      "Loss: 26.01819610595703\n",
      "Training accuracy: 86.66666412353516\n",
      "Epoch: 4\n"
     ]
    },
    {
     "data": {
      "application/vnd.jupyter.widget-view+json": {
       "model_id": "32b7a547b6eb458dba6d7005ba0f79a5",
       "version_major": 2,
       "version_minor": 0
      },
      "text/plain": [
       "  0%|          | 0/15 [00:00<?, ?it/s]"
      ]
     },
     "metadata": {},
     "output_type": "display_data"
    },
    {
     "name": "stdout",
     "output_type": "stream",
     "text": [
      "Loss: 21.268070578575134\n",
      "Training accuracy: 100.0\n",
      "Epoch: 5\n"
     ]
    },
    {
     "data": {
      "application/vnd.jupyter.widget-view+json": {
       "model_id": "de60dcf881a548c1b29ec14cd7110b34",
       "version_major": 2,
       "version_minor": 0
      },
      "text/plain": [
       "  0%|          | 0/15 [00:00<?, ?it/s]"
      ]
     },
     "metadata": {},
     "output_type": "display_data"
    },
    {
     "name": "stdout",
     "output_type": "stream",
     "text": [
      "Loss: 17.821519672870636\n",
      "Training accuracy: 100.0\n",
      "Epoch: 6\n"
     ]
    },
    {
     "data": {
      "application/vnd.jupyter.widget-view+json": {
       "model_id": "ad250cb63b744794a995fce886fab5ca",
       "version_major": 2,
       "version_minor": 0
      },
      "text/plain": [
       "  0%|          | 0/15 [00:00<?, ?it/s]"
      ]
     },
     "metadata": {},
     "output_type": "display_data"
    },
    {
     "name": "stdout",
     "output_type": "stream",
     "text": [
      "Loss: 14.944324970245361\n",
      "Training accuracy: 100.0\n",
      "Epoch: 7\n"
     ]
    },
    {
     "data": {
      "application/vnd.jupyter.widget-view+json": {
       "model_id": "c38dd5ad178c45c2a7d936890a770aab",
       "version_major": 2,
       "version_minor": 0
      },
      "text/plain": [
       "  0%|          | 0/15 [00:00<?, ?it/s]"
      ]
     },
     "metadata": {},
     "output_type": "display_data"
    },
    {
     "name": "stdout",
     "output_type": "stream",
     "text": [
      "Loss: 12.004090905189514\n",
      "Training accuracy: 100.0\n",
      "Epoch: 8\n"
     ]
    },
    {
     "data": {
      "application/vnd.jupyter.widget-view+json": {
       "model_id": "5d1d697d1b654d669ea5995a5aaf43a8",
       "version_major": 2,
       "version_minor": 0
      },
      "text/plain": [
       "  0%|          | 0/15 [00:00<?, ?it/s]"
      ]
     },
     "metadata": {},
     "output_type": "display_data"
    },
    {
     "name": "stdout",
     "output_type": "stream",
     "text": [
      "Loss: 10.480315148830414\n",
      "Training accuracy: 100.0\n",
      "Epoch: 9\n"
     ]
    },
    {
     "data": {
      "application/vnd.jupyter.widget-view+json": {
       "model_id": "7e3dd32944154c0884bf94ec5ad7b596",
       "version_major": 2,
       "version_minor": 0
      },
      "text/plain": [
       "  0%|          | 0/15 [00:00<?, ?it/s]"
      ]
     },
     "metadata": {},
     "output_type": "display_data"
    },
    {
     "name": "stdout",
     "output_type": "stream",
     "text": [
      "Loss: 9.997830599546432\n",
      "Training accuracy: 100.0\n",
      "Epoch: 10\n"
     ]
    },
    {
     "data": {
      "application/vnd.jupyter.widget-view+json": {
       "model_id": "954ab630d7b64a68b0af966d73e7ceab",
       "version_major": 2,
       "version_minor": 0
      },
      "text/plain": [
       "  0%|          | 0/15 [00:00<?, ?it/s]"
      ]
     },
     "metadata": {},
     "output_type": "display_data"
    },
    {
     "name": "stdout",
     "output_type": "stream",
     "text": [
      "Loss: 6.795561790466309\n",
      "Training accuracy: 100.0\n",
      "Epoch: 11\n"
     ]
    },
    {
     "data": {
      "application/vnd.jupyter.widget-view+json": {
       "model_id": "bddf7b99c72a40b0842103eec5a06608",
       "version_major": 2,
       "version_minor": 0
      },
      "text/plain": [
       "  0%|          | 0/15 [00:00<?, ?it/s]"
      ]
     },
     "metadata": {},
     "output_type": "display_data"
    },
    {
     "name": "stdout",
     "output_type": "stream",
     "text": [
      "Loss: 5.5872146636247635\n",
      "Training accuracy: 100.0\n",
      "Epoch: 12\n"
     ]
    },
    {
     "data": {
      "application/vnd.jupyter.widget-view+json": {
       "model_id": "5f404ea48186494c8f16fb0a297cf8c5",
       "version_major": 2,
       "version_minor": 0
      },
      "text/plain": [
       "  0%|          | 0/15 [00:00<?, ?it/s]"
      ]
     },
     "metadata": {},
     "output_type": "display_data"
    },
    {
     "name": "stdout",
     "output_type": "stream",
     "text": [
      "Loss: 4.555944159626961\n",
      "Training accuracy: 100.0\n",
      "Epoch: 13\n"
     ]
    },
    {
     "data": {
      "application/vnd.jupyter.widget-view+json": {
       "model_id": "140a2e9a9e9a42b8a9a30fc73602799f",
       "version_major": 2,
       "version_minor": 0
      },
      "text/plain": [
       "  0%|          | 0/15 [00:00<?, ?it/s]"
      ]
     },
     "metadata": {},
     "output_type": "display_data"
    },
    {
     "name": "stdout",
     "output_type": "stream",
     "text": [
      "Loss: 3.9307816475629807\n",
      "Training accuracy: 100.0\n",
      "Epoch: 14\n"
     ]
    },
    {
     "data": {
      "application/vnd.jupyter.widget-view+json": {
       "model_id": "9601fb0f021d41888da2ffbe2369456d",
       "version_major": 2,
       "version_minor": 0
      },
      "text/plain": [
       "  0%|          | 0/15 [00:00<?, ?it/s]"
      ]
     },
     "metadata": {},
     "output_type": "display_data"
    },
    {
     "name": "stdout",
     "output_type": "stream",
     "text": [
      "Loss: 3.747180223464966\n",
      "Training accuracy: 100.0\n",
      "Epoch: 15\n"
     ]
    },
    {
     "data": {
      "application/vnd.jupyter.widget-view+json": {
       "model_id": "2611fedbddbd41feaf9047f9ee0e29cd",
       "version_major": 2,
       "version_minor": 0
      },
      "text/plain": [
       "  0%|          | 0/15 [00:00<?, ?it/s]"
      ]
     },
     "metadata": {},
     "output_type": "display_data"
    },
    {
     "name": "stdout",
     "output_type": "stream",
     "text": [
      "Loss: 3.3854708075523376\n",
      "Training accuracy: 100.0\n",
      "Epoch: 16\n"
     ]
    },
    {
     "data": {
      "application/vnd.jupyter.widget-view+json": {
       "model_id": "48c7ac41b2284a5182733783c69e9465",
       "version_major": 2,
       "version_minor": 0
      },
      "text/plain": [
       "  0%|          | 0/15 [00:00<?, ?it/s]"
      ]
     },
     "metadata": {},
     "output_type": "display_data"
    },
    {
     "name": "stdout",
     "output_type": "stream",
     "text": [
      "Loss: 2.7858435213565826\n",
      "Training accuracy: 100.0\n",
      "Epoch: 17\n"
     ]
    },
    {
     "data": {
      "application/vnd.jupyter.widget-view+json": {
       "model_id": "46c6f70c6340464daaa588bcfe23fd2d",
       "version_major": 2,
       "version_minor": 0
      },
      "text/plain": [
       "  0%|          | 0/15 [00:00<?, ?it/s]"
      ]
     },
     "metadata": {},
     "output_type": "display_data"
    },
    {
     "name": "stdout",
     "output_type": "stream",
     "text": [
      "Loss: 2.537598744034767\n",
      "Training accuracy: 100.0\n",
      "Epoch: 18\n"
     ]
    },
    {
     "data": {
      "application/vnd.jupyter.widget-view+json": {
       "model_id": "14d33c403def4089b8fab2e8a286b488",
       "version_major": 2,
       "version_minor": 0
      },
      "text/plain": [
       "  0%|          | 0/15 [00:00<?, ?it/s]"
      ]
     },
     "metadata": {},
     "output_type": "display_data"
    },
    {
     "name": "stdout",
     "output_type": "stream",
     "text": [
      "Loss: 2.3162263855338097\n",
      "Training accuracy: 100.0\n",
      "Epoch: 19\n"
     ]
    },
    {
     "data": {
      "application/vnd.jupyter.widget-view+json": {
       "model_id": "a321ac11a3164732af80dedf692f0e56",
       "version_major": 2,
       "version_minor": 0
      },
      "text/plain": [
       "  0%|          | 0/15 [00:00<?, ?it/s]"
      ]
     },
     "metadata": {},
     "output_type": "display_data"
    },
    {
     "name": "stdout",
     "output_type": "stream",
     "text": [
      "Loss: 2.243908293545246\n",
      "Training accuracy: 100.0\n",
      "Epoch: 20\n"
     ]
    },
    {
     "data": {
      "application/vnd.jupyter.widget-view+json": {
       "model_id": "05159e23d3d2400f8e27a97d0efad08e",
       "version_major": 2,
       "version_minor": 0
      },
      "text/plain": [
       "  0%|          | 0/15 [00:00<?, ?it/s]"
      ]
     },
     "metadata": {},
     "output_type": "display_data"
    },
    {
     "name": "stdout",
     "output_type": "stream",
     "text": [
      "Loss: 1.782788224518299\n",
      "Training accuracy: 100.0\n",
      "Epoch: 21\n"
     ]
    },
    {
     "data": {
      "application/vnd.jupyter.widget-view+json": {
       "model_id": "e078931a63aa451183f489924c5805a3",
       "version_major": 2,
       "version_minor": 0
      },
      "text/plain": [
       "  0%|          | 0/15 [00:00<?, ?it/s]"
      ]
     },
     "metadata": {},
     "output_type": "display_data"
    },
    {
     "name": "stdout",
     "output_type": "stream",
     "text": [
      "Loss: 1.7411263957619667\n",
      "Training accuracy: 100.0\n",
      "Epoch: 22\n"
     ]
    },
    {
     "data": {
      "application/vnd.jupyter.widget-view+json": {
       "model_id": "633612a55d1e4835ac9ec79e9f1c8bac",
       "version_major": 2,
       "version_minor": 0
      },
      "text/plain": [
       "  0%|          | 0/15 [00:00<?, ?it/s]"
      ]
     },
     "metadata": {},
     "output_type": "display_data"
    },
    {
     "name": "stdout",
     "output_type": "stream",
     "text": [
      "Loss: 1.4897607117891312\n",
      "Training accuracy: 100.0\n",
      "Epoch: 23\n"
     ]
    },
    {
     "data": {
      "application/vnd.jupyter.widget-view+json": {
       "model_id": "5fd95a838b9b4c128fc0ebe0d4677817",
       "version_major": 2,
       "version_minor": 0
      },
      "text/plain": [
       "  0%|          | 0/15 [00:00<?, ?it/s]"
      ]
     },
     "metadata": {},
     "output_type": "display_data"
    },
    {
     "name": "stdout",
     "output_type": "stream",
     "text": [
      "Loss: 1.3779938146471977\n",
      "Training accuracy: 100.0\n",
      "Epoch: 24\n"
     ]
    },
    {
     "data": {
      "application/vnd.jupyter.widget-view+json": {
       "model_id": "a3eba0a8d24a43eb8581d16d86c1a56b",
       "version_major": 2,
       "version_minor": 0
      },
      "text/plain": [
       "  0%|          | 0/15 [00:00<?, ?it/s]"
      ]
     },
     "metadata": {},
     "output_type": "display_data"
    },
    {
     "name": "stdout",
     "output_type": "stream",
     "text": [
      "Loss: 1.253512866795063\n",
      "Training accuracy: 100.0\n",
      "Epoch: 25\n"
     ]
    },
    {
     "data": {
      "application/vnd.jupyter.widget-view+json": {
       "model_id": "9ec9eed2aefa4f46948af3b911fc37cf",
       "version_major": 2,
       "version_minor": 0
      },
      "text/plain": [
       "  0%|          | 0/15 [00:00<?, ?it/s]"
      ]
     },
     "metadata": {},
     "output_type": "display_data"
    },
    {
     "name": "stdout",
     "output_type": "stream",
     "text": [
      "Loss: 1.2836721912026405\n",
      "Training accuracy: 100.0\n",
      "Epoch: 26\n"
     ]
    },
    {
     "data": {
      "application/vnd.jupyter.widget-view+json": {
       "model_id": "0ff436aab70745879d065e0e1eb37558",
       "version_major": 2,
       "version_minor": 0
      },
      "text/plain": [
       "  0%|          | 0/15 [00:00<?, ?it/s]"
      ]
     },
     "metadata": {},
     "output_type": "display_data"
    },
    {
     "name": "stdout",
     "output_type": "stream",
     "text": [
      "Loss: 1.2144626528024673\n",
      "Training accuracy: 100.0\n",
      "Epoch: 27\n"
     ]
    },
    {
     "data": {
      "application/vnd.jupyter.widget-view+json": {
       "model_id": "4c1c6f30c7d1469d969209df9ac3e6c8",
       "version_major": 2,
       "version_minor": 0
      },
      "text/plain": [
       "  0%|          | 0/15 [00:00<?, ?it/s]"
      ]
     },
     "metadata": {},
     "output_type": "display_data"
    },
    {
     "name": "stdout",
     "output_type": "stream",
     "text": [
      "Loss: 1.1230122819542885\n",
      "Training accuracy: 100.0\n",
      "Epoch: 28\n"
     ]
    },
    {
     "data": {
      "application/vnd.jupyter.widget-view+json": {
       "model_id": "a67e8c5f4ff64cf487b33825c8c33d8a",
       "version_major": 2,
       "version_minor": 0
      },
      "text/plain": [
       "  0%|          | 0/15 [00:00<?, ?it/s]"
      ]
     },
     "metadata": {},
     "output_type": "display_data"
    },
    {
     "name": "stdout",
     "output_type": "stream",
     "text": [
      "Loss: 1.129708956927061\n",
      "Training accuracy: 100.0\n",
      "Epoch: 29\n"
     ]
    },
    {
     "data": {
      "application/vnd.jupyter.widget-view+json": {
       "model_id": "0267fb558fe5451683c0153c9dfc64b0",
       "version_major": 2,
       "version_minor": 0
      },
      "text/plain": [
       "  0%|          | 0/15 [00:00<?, ?it/s]"
      ]
     },
     "metadata": {},
     "output_type": "display_data"
    },
    {
     "name": "stdout",
     "output_type": "stream",
     "text": [
      "Loss: 0.9561476483941078\n",
      "Training accuracy: 100.0\n"
     ]
    }
   ],
   "source": [
    "from transformers import AdamW\n",
    "from tqdm.notebook import tqdm\n",
    "\n",
    "optimizer = AdamW(model.parameters(), lr=5e-5)\n",
    "\n",
    "global_step = 0\n",
    "num_train_epochs = 30\n",
    "t_total = len(dataloader) * num_train_epochs # total number of training steps \n",
    "\n",
    "#put the model in training mode\n",
    "model.train()\n",
    "for epoch in range(num_train_epochs):\n",
    "    print(\"Epoch:\", epoch)\n",
    "    running_loss = 0.0\n",
    "    correct = 0\n",
    "    for batch in tqdm(dataloader):\n",
    "        input_ids = batch[\"input_ids\"].to(device)\n",
    "        bbox = batch[\"bbox\"].to(device)\n",
    "        attention_mask = batch[\"attention_mask\"].to(device)\n",
    "        token_type_ids = batch[\"token_type_ids\"].to(device)\n",
    "        labels = batch[\"label\"].to(device)\n",
    "\n",
    "        # forward pass\n",
    "        outputs = model(\n",
    "            input_ids=input_ids,\n",
    "            bbox=bbox,\n",
    "            attention_mask=attention_mask,\n",
    "            token_type_ids=token_type_ids,\n",
    "            labels=labels,\n",
    "        )\n",
    "        loss = outputs.loss\n",
    "\n",
    "        running_loss += loss.item()\n",
    "        predictions = outputs.logits.argmax(-1)\n",
    "        correct += (predictions == labels).float().sum()\n",
    "\n",
    "        # backward pass to get the gradients \n",
    "        loss.backward()\n",
    "\n",
    "        # update\n",
    "        optimizer.step()\n",
    "        optimizer.zero_grad()\n",
    "        global_step += 1\n",
    "    \n",
    "    print(\"Loss:\", running_loss / batch[\"input_ids\"].shape[0])\n",
    "    accuracy = 100 * correct / len(data)\n",
    "    print(\"Training accuracy:\", accuracy.item())"
   ]
  },
  {
   "cell_type": "markdown",
   "metadata": {},
   "source": [
    "## Test Code for Newbies of PyTorch\n",
    "Including myself :D"
   ]
  },
  {
   "cell_type": "code",
   "execution_count": 122,
   "metadata": {},
   "outputs": [
    {
     "data": {
      "text/plain": [
       "205"
      ]
     },
     "execution_count": 122,
     "metadata": {},
     "output_type": "execute_result"
    }
   ],
   "source": [
    "len(list(model.parameters()))"
   ]
  },
  {
   "cell_type": "code",
   "execution_count": 123,
   "metadata": {},
   "outputs": [
    {
     "data": {
      "text/plain": [
       "Parameter containing:\n",
       "tensor([[-0.0111, -0.0777,  0.0293,  ..., -0.0323, -0.0190,  0.0403],\n",
       "        [-0.0579, -0.0331, -0.0399,  ..., -0.0248, -0.0278, -0.0398],\n",
       "        [-0.0261, -0.0383, -0.0225,  ...,  0.0011, -0.0803, -0.0019],\n",
       "        ...,\n",
       "        [-0.0186, -0.0593, -0.0167,  ..., -0.0243, -0.0096,  0.0050],\n",
       "        [-0.0555, -0.0274,  0.0049,  ..., -0.0206, -0.0172, -0.0241],\n",
       "        [-0.0328, -0.0788, -0.0211,  ..., -0.0187, -0.0497,  0.0444]],\n",
       "       requires_grad=True)"
      ]
     },
     "execution_count": 123,
     "metadata": {},
     "output_type": "execute_result"
    }
   ],
   "source": [
    "next(model.parameters())"
   ]
  },
  {
   "cell_type": "code",
   "execution_count": 125,
   "metadata": {},
   "outputs": [
    {
     "data": {
      "text/plain": [
       "torch.nn.parameter.Parameter"
      ]
     },
     "execution_count": 125,
     "metadata": {},
     "output_type": "execute_result"
    }
   ],
   "source": [
    "type(next(model.parameters()))"
   ]
  },
  {
   "cell_type": "raw",
   "metadata": {},
   "source": [
    "dir(next(model.parameters()))"
   ]
  },
  {
   "cell_type": "code",
   "execution_count": 129,
   "metadata": {},
   "outputs": [
    {
     "data": {
      "text/plain": [
       "(None, None)"
      ]
     },
     "execution_count": 129,
     "metadata": {},
     "output_type": "execute_result"
    }
   ],
   "source": [
    "next(model.parameters()).names"
   ]
  },
  {
   "cell_type": "code",
   "execution_count": 130,
   "metadata": {},
   "outputs": [
    {
     "data": {
      "text/plain": [
       "15"
      ]
     },
     "execution_count": 130,
     "metadata": {},
     "output_type": "execute_result"
    }
   ],
   "source": [
    "len(dataloader)"
   ]
  },
  {
   "cell_type": "code",
   "execution_count": 132,
   "metadata": {},
   "outputs": [
    {
     "name": "stdout",
     "output_type": "stream",
     "text": [
      "15\r\n"
     ]
    }
   ],
   "source": [
    "!ls RVL_CDIP_one_example_per_class | wc -l"
   ]
  },
  {
   "cell_type": "markdown",
   "metadata": {},
   "source": [
    "**(?)** Why `argmax(-1)`?\n",
    "```python\n",
    "predictions = outputs.logits.argmax(-1)\n",
    "```"
   ]
  },
  {
   "cell_type": "code",
   "execution_count": 135,
   "metadata": {},
   "outputs": [
    {
     "data": {
      "text/plain": [
       "15"
      ]
     },
     "execution_count": 135,
     "metadata": {},
     "output_type": "execute_result"
    }
   ],
   "source": [
    "len(data)"
   ]
  },
  {
   "cell_type": "markdown",
   "metadata": {
    "id": "a-IXZeC788R8"
   },
   "source": [
    "## Legacy\n",
    "\n",
    "The code below was used during the creation of this notebook, but is now not used anymore."
   ]
  },
  {
   "cell_type": "raw",
   "metadata": {
    "id": "Gt17gKiCqUmK"
   },
   "source": [
    "import torch\n",
    "\n",
    "def convert_example_to_features(image, words, boxes, actual_boxes, tokenizer, max_seq_length=512, cls_token_box=[0, 0, 0, 0],\n",
    "                                 sep_token_box=[1000, 1000, 1000, 1000],\n",
    "                                 pad_token_box=[0, 0, 0, 0]):\n",
    "      width, height = image.size\n",
    "\n",
    "      tokens = []\n",
    "      token_boxes = []\n",
    "      actual_bboxes = [] # we use an extra b because actual_boxes is already used\n",
    "      token_actual_boxes = []\n",
    "      for word, box, actual_bbox in zip(words, boxes, actual_boxes):\n",
    "          word_tokens = tokenizer.tokenize(word)\n",
    "          tokens.extend(word_tokens)\n",
    "          token_boxes.extend([box] * len(word_tokens))\n",
    "          actual_bboxes.extend([actual_bbox] * len(word_tokens))\n",
    "          token_actual_boxes.extend([actual_bbox] * len(word_tokens))\n",
    "\n",
    "      # Truncation: account for [CLS] and [SEP] with \"- 2\". \n",
    "      special_tokens_count = 2 \n",
    "      if len(tokens) > max_seq_length - special_tokens_count:\n",
    "          tokens = tokens[: (max_seq_length - special_tokens_count)]\n",
    "          token_boxes = token_boxes[: (max_seq_length - special_tokens_count)]\n",
    "          actual_bboxes = actual_bboxes[: (max_seq_length - special_tokens_count)]\n",
    "          token_actual_boxes = token_actual_boxes[: (max_seq_length - special_tokens_count)]\n",
    "\n",
    "      # add [SEP] token, with corresponding token boxes and actual boxes\n",
    "      tokens += [tokenizer.sep_token]\n",
    "      token_boxes += [sep_token_box]\n",
    "      actual_bboxes += [[0, 0, width, height]]\n",
    "      token_actual_boxes += [[0, 0, width, height]]\n",
    "      \n",
    "      segment_ids = [0] * len(tokens)\n",
    "\n",
    "      # next: [CLS] token\n",
    "      tokens = [tokenizer.cls_token] + tokens\n",
    "      token_boxes = [cls_token_box] + token_boxes\n",
    "      actual_bboxes = [[0, 0, width, height]] + actual_bboxes\n",
    "      token_actual_boxes = [[0, 0, width, height]] + token_actual_boxes\n",
    "      segment_ids = [1] + segment_ids\n",
    "\n",
    "      input_ids = tokenizer.convert_tokens_to_ids(tokens)\n",
    "\n",
    "      # The mask has 1 for real tokens and 0 for padding tokens. Only real\n",
    "      # tokens are attended to.\n",
    "      input_mask = [1] * len(input_ids)\n",
    "\n",
    "      # Zero-pad up to the sequence length.\n",
    "      padding_length = max_seq_length - len(input_ids)\n",
    "      input_ids += [tokenizer.pad_token_id] * padding_length\n",
    "      input_mask += [0] * padding_length\n",
    "      segment_ids += [tokenizer.pad_token_id] * padding_length\n",
    "      token_boxes += [pad_token_box] * padding_length\n",
    "      token_actual_boxes += [pad_token_box] * padding_length\n",
    "\n",
    "      assert len(input_ids) == max_seq_length\n",
    "      assert len(input_mask) == max_seq_length\n",
    "      assert len(segment_ids) == max_seq_length\n",
    "      assert len(token_boxes) == max_seq_length\n",
    "      assert len(token_actual_boxes) == max_seq_length\n",
    "      \n",
    "      encoding = {}\n",
    "      \n",
    "      encoding[\"input_ids\"] = torch.tensor(input_ids)\n",
    "      encoding[\"bbox\"] = torch.tensor(token_boxes)\n",
    "      encoding[\"attention_mask\"] = torch.tensor(input_mask)\n",
    "      encoding[\"token_type_ids\"] = torch.tensor(segment_ids)\n",
    "\n",
    "      return encoding"
   ]
  },
  {
   "cell_type": "raw",
   "metadata": {
    "id": "eT-wTZLNiimV"
   },
   "source": [
    "from torch.utils.data import Dataset, DataLoader\n",
    "import pytesseract\n",
    "import numpy as np\n",
    "\n",
    "class Dataset(Dataset):\n",
    "    \"\"\"RVL-CDIP dataset (small subset).\"\"\"\n",
    "\n",
    "    def __init__(self, data, tokenizer):\n",
    "        self.data = data\n",
    "        self.tokenizer = tokenizer\n",
    "\n",
    "    def __len__(self):\n",
    "        return len(self.data)\n",
    "\n",
    "    def __getitem__(self, idx):\n",
    "        # get the image\n",
    "        image = Image.open(data.iloc[idx].image_path)\n",
    "\n",
    "        width, height = image.size\n",
    "        \n",
    "        # apply ocr to the image \n",
    "        ocr_df = pytesseract.image_to_data(image, output_type='data.frame')\n",
    "        float_cols = ocr_df.select_dtypes('float').columns\n",
    "        ocr_df[float_cols] = ocr_df[float_cols].round(0).astype(int)\n",
    "        ocr_df = ocr_df.replace(r'^\\s*$', np.nan, regex=True)\n",
    "        ocr_df = ocr_df.dropna().reset_index(drop=True)\n",
    "\n",
    "        # get the words and actual (unnormalized) bounding boxes\n",
    "        words = list(ocr_df.text)\n",
    "        coordinates = ocr_df[['left', 'top', 'width', 'height']]\n",
    "        actual_boxes = []\n",
    "        for idx, row in coordinates.iterrows():\n",
    "            x, y, w, h = tuple(row) # the row comes in (left, top, width, height) format\n",
    "            actual_box = [x, y, x+w, y+h] # we turn it into (left, top, left+widght, top+height) to get the actual box \n",
    "            actual_boxes.append(actual_box)\n",
    "        \n",
    "        # normalize the bounding boxes\n",
    "        boxes = []\n",
    "        for box in actual_boxes:\n",
    "            boxes.append(normalize_box(box, width, height))\n",
    "\n",
    "        # convert to token-level features\n",
    "        encoding = convert_example_to_features(image, words, boxes, actual_boxes, self.tokenizer)\n",
    "\n",
    "        # add the label\n",
    "        print(idx)\n",
    "        label = data.iloc[idx].label\n",
    "        encoding[\"label\"] = torch.tensor(label2idx[label])\n",
    "        \n",
    "        return encoding"
   ]
  }
 ],
 "metadata": {
  "accelerator": "GPU",
  "colab": {
   "authorship_tag": "ABX9TyOD+71AAHImS7mnnfyNsixL",
   "collapsed_sections": [],
   "include_colab_link": true,
   "mount_file_id": "1DUpTi2aL64AuIJ_9g6dGgKfltEEFqQbt",
   "name": "Fine-tuning LayoutLMForSequenceClassification on RVL-CDIP.ipynb",
   "provenance": [],
   "toc_visible": true
  },
  "kernelspec": {
   "display_name": "Python 3 (ipykernel)",
   "language": "python",
   "name": "python3"
  },
  "language_info": {
   "codemirror_mode": {
    "name": "ipython",
    "version": 3
   },
   "file_extension": ".py",
   "mimetype": "text/x-python",
   "name": "python",
   "nbconvert_exporter": "python",
   "pygments_lexer": "ipython3",
   "version": "3.7.10"
  },
  "widgets": {
   "application/vnd.jupyter.widget-state+json": {
    "09360d35edbc43a89281046aebb6a48a": {
     "model_module": "@jupyter-widgets/controls",
     "model_name": "FloatProgressModel",
     "state": {
      "_dom_classes": [],
      "_model_module": "@jupyter-widgets/controls",
      "_model_module_version": "1.5.0",
      "_model_name": "FloatProgressModel",
      "_view_count": null,
      "_view_module": "@jupyter-widgets/controls",
      "_view_module_version": "1.5.0",
      "_view_name": "ProgressView",
      "bar_style": "success",
      "description": "100%",
      "description_tooltip": null,
      "layout": "IPY_MODEL_93b1c963fad74bd49a1262cebb148d9e",
      "max": 15,
      "min": 0,
      "orientation": "horizontal",
      "style": "IPY_MODEL_3ea13836dd714a7583c828837b3cea59",
      "value": 15
     }
    },
    "0c7a73647ba84b2499f3d3871a03e509": {
     "model_module": "@jupyter-widgets/controls",
     "model_name": "HTMLModel",
     "state": {
      "_dom_classes": [],
      "_model_module": "@jupyter-widgets/controls",
      "_model_module_version": "1.5.0",
      "_model_name": "HTMLModel",
      "_view_count": null,
      "_view_module": "@jupyter-widgets/controls",
      "_view_module_version": "1.5.0",
      "_view_name": "HTMLView",
      "description": "",
      "description_tooltip": null,
      "layout": "IPY_MODEL_35b6e2f08678416dba6d833957276bbe",
      "placeholder": "​",
      "style": "IPY_MODEL_0f00d7414d024de88f5b755c9e7ab7bd",
      "value": " 15/15 [00:00&lt;00:00, 33.79ex/s]"
     }
    },
    "0f00d7414d024de88f5b755c9e7ab7bd": {
     "model_module": "@jupyter-widgets/controls",
     "model_name": "DescriptionStyleModel",
     "state": {
      "_model_module": "@jupyter-widgets/controls",
      "_model_module_version": "1.5.0",
      "_model_name": "DescriptionStyleModel",
      "_view_count": null,
      "_view_module": "@jupyter-widgets/base",
      "_view_module_version": "1.2.0",
      "_view_name": "StyleView",
      "description_width": ""
     }
    },
    "1193865036c44bd1a12686b83db13930": {
     "model_module": "@jupyter-widgets/controls",
     "model_name": "HBoxModel",
     "state": {
      "_dom_classes": [],
      "_model_module": "@jupyter-widgets/controls",
      "_model_module_version": "1.5.0",
      "_model_name": "HBoxModel",
      "_view_count": null,
      "_view_module": "@jupyter-widgets/controls",
      "_view_module_version": "1.5.0",
      "_view_name": "HBoxView",
      "box_style": "",
      "children": [
       "IPY_MODEL_7d2452cfb7874b75ad1737c2d34a0ecc",
       "IPY_MODEL_fa412cbc839a4ff093a08fdabadee81b"
      ],
      "layout": "IPY_MODEL_e2557516931a4d8eaa045e224895547d"
     }
    },
    "35b6e2f08678416dba6d833957276bbe": {
     "model_module": "@jupyter-widgets/base",
     "model_name": "LayoutModel",
     "state": {
      "_model_module": "@jupyter-widgets/base",
      "_model_module_version": "1.2.0",
      "_model_name": "LayoutModel",
      "_view_count": null,
      "_view_module": "@jupyter-widgets/base",
      "_view_module_version": "1.2.0",
      "_view_name": "LayoutView",
      "align_content": null,
      "align_items": null,
      "align_self": null,
      "border": null,
      "bottom": null,
      "display": null,
      "flex": null,
      "flex_flow": null,
      "grid_area": null,
      "grid_auto_columns": null,
      "grid_auto_flow": null,
      "grid_auto_rows": null,
      "grid_column": null,
      "grid_gap": null,
      "grid_row": null,
      "grid_template_areas": null,
      "grid_template_columns": null,
      "grid_template_rows": null,
      "height": null,
      "justify_content": null,
      "justify_items": null,
      "left": null,
      "margin": null,
      "max_height": null,
      "max_width": null,
      "min_height": null,
      "min_width": null,
      "object_fit": null,
      "object_position": null,
      "order": null,
      "overflow": null,
      "overflow_x": null,
      "overflow_y": null,
      "padding": null,
      "right": null,
      "top": null,
      "visibility": null,
      "width": null
     }
    },
    "3d917f1d78ee4abb9ec700a5ddf08cee": {
     "model_module": "@jupyter-widgets/base",
     "model_name": "LayoutModel",
     "state": {
      "_model_module": "@jupyter-widgets/base",
      "_model_module_version": "1.2.0",
      "_model_name": "LayoutModel",
      "_view_count": null,
      "_view_module": "@jupyter-widgets/base",
      "_view_module_version": "1.2.0",
      "_view_name": "LayoutView",
      "align_content": null,
      "align_items": null,
      "align_self": null,
      "border": null,
      "bottom": null,
      "display": null,
      "flex": null,
      "flex_flow": null,
      "grid_area": null,
      "grid_auto_columns": null,
      "grid_auto_flow": null,
      "grid_auto_rows": null,
      "grid_column": null,
      "grid_gap": null,
      "grid_row": null,
      "grid_template_areas": null,
      "grid_template_columns": null,
      "grid_template_rows": null,
      "height": null,
      "justify_content": null,
      "justify_items": null,
      "left": null,
      "margin": null,
      "max_height": null,
      "max_width": null,
      "min_height": null,
      "min_width": null,
      "object_fit": null,
      "object_position": null,
      "order": null,
      "overflow": null,
      "overflow_x": null,
      "overflow_y": null,
      "padding": null,
      "right": null,
      "top": null,
      "visibility": null,
      "width": null
     }
    },
    "3ea13836dd714a7583c828837b3cea59": {
     "model_module": "@jupyter-widgets/controls",
     "model_name": "ProgressStyleModel",
     "state": {
      "_model_module": "@jupyter-widgets/controls",
      "_model_module_version": "1.5.0",
      "_model_name": "ProgressStyleModel",
      "_view_count": null,
      "_view_module": "@jupyter-widgets/base",
      "_view_module_version": "1.2.0",
      "_view_name": "StyleView",
      "bar_color": null,
      "description_width": "initial"
     }
    },
    "7d2452cfb7874b75ad1737c2d34a0ecc": {
     "model_module": "@jupyter-widgets/controls",
     "model_name": "FloatProgressModel",
     "state": {
      "_dom_classes": [],
      "_model_module": "@jupyter-widgets/controls",
      "_model_module_version": "1.5.0",
      "_model_name": "FloatProgressModel",
      "_view_count": null,
      "_view_module": "@jupyter-widgets/controls",
      "_view_module_version": "1.5.0",
      "_view_name": "ProgressView",
      "bar_style": "success",
      "description": "100%",
      "description_tooltip": null,
      "layout": "IPY_MODEL_3d917f1d78ee4abb9ec700a5ddf08cee",
      "max": 15,
      "min": 0,
      "orientation": "horizontal",
      "style": "IPY_MODEL_a40eb73ab716491d85487c2243601d78",
      "value": 15
     }
    },
    "93b1c963fad74bd49a1262cebb148d9e": {
     "model_module": "@jupyter-widgets/base",
     "model_name": "LayoutModel",
     "state": {
      "_model_module": "@jupyter-widgets/base",
      "_model_module_version": "1.2.0",
      "_model_name": "LayoutModel",
      "_view_count": null,
      "_view_module": "@jupyter-widgets/base",
      "_view_module_version": "1.2.0",
      "_view_name": "LayoutView",
      "align_content": null,
      "align_items": null,
      "align_self": null,
      "border": null,
      "bottom": null,
      "display": null,
      "flex": null,
      "flex_flow": null,
      "grid_area": null,
      "grid_auto_columns": null,
      "grid_auto_flow": null,
      "grid_auto_rows": null,
      "grid_column": null,
      "grid_gap": null,
      "grid_row": null,
      "grid_template_areas": null,
      "grid_template_columns": null,
      "grid_template_rows": null,
      "height": null,
      "justify_content": null,
      "justify_items": null,
      "left": null,
      "margin": null,
      "max_height": null,
      "max_width": null,
      "min_height": null,
      "min_width": null,
      "object_fit": null,
      "object_position": null,
      "order": null,
      "overflow": null,
      "overflow_x": null,
      "overflow_y": null,
      "padding": null,
      "right": null,
      "top": null,
      "visibility": null,
      "width": null
     }
    },
    "958947c076144318883744eaf719064e": {
     "model_module": "@jupyter-widgets/base",
     "model_name": "LayoutModel",
     "state": {
      "_model_module": "@jupyter-widgets/base",
      "_model_module_version": "1.2.0",
      "_model_name": "LayoutModel",
      "_view_count": null,
      "_view_module": "@jupyter-widgets/base",
      "_view_module_version": "1.2.0",
      "_view_name": "LayoutView",
      "align_content": null,
      "align_items": null,
      "align_self": null,
      "border": null,
      "bottom": null,
      "display": null,
      "flex": null,
      "flex_flow": null,
      "grid_area": null,
      "grid_auto_columns": null,
      "grid_auto_flow": null,
      "grid_auto_rows": null,
      "grid_column": null,
      "grid_gap": null,
      "grid_row": null,
      "grid_template_areas": null,
      "grid_template_columns": null,
      "grid_template_rows": null,
      "height": null,
      "justify_content": null,
      "justify_items": null,
      "left": null,
      "margin": null,
      "max_height": null,
      "max_width": null,
      "min_height": null,
      "min_width": null,
      "object_fit": null,
      "object_position": null,
      "order": null,
      "overflow": null,
      "overflow_x": null,
      "overflow_y": null,
      "padding": null,
      "right": null,
      "top": null,
      "visibility": null,
      "width": null
     }
    },
    "a40eb73ab716491d85487c2243601d78": {
     "model_module": "@jupyter-widgets/controls",
     "model_name": "ProgressStyleModel",
     "state": {
      "_model_module": "@jupyter-widgets/controls",
      "_model_module_version": "1.5.0",
      "_model_name": "ProgressStyleModel",
      "_view_count": null,
      "_view_module": "@jupyter-widgets/base",
      "_view_module_version": "1.2.0",
      "_view_name": "StyleView",
      "bar_color": null,
      "description_width": "initial"
     }
    },
    "c4f3e9efb19042a5bc05a050cb0e2296": {
     "model_module": "@jupyter-widgets/controls",
     "model_name": "HBoxModel",
     "state": {
      "_dom_classes": [],
      "_model_module": "@jupyter-widgets/controls",
      "_model_module_version": "1.5.0",
      "_model_name": "HBoxModel",
      "_view_count": null,
      "_view_module": "@jupyter-widgets/controls",
      "_view_module_version": "1.5.0",
      "_view_name": "HBoxView",
      "box_style": "",
      "children": [
       "IPY_MODEL_09360d35edbc43a89281046aebb6a48a",
       "IPY_MODEL_0c7a73647ba84b2499f3d3871a03e509"
      ],
      "layout": "IPY_MODEL_e3e7984fd5ca47c99f0a08ad76ec2145"
     }
    },
    "dfaeddd6844c48258a1b9984537871f2": {
     "model_module": "@jupyter-widgets/controls",
     "model_name": "DescriptionStyleModel",
     "state": {
      "_model_module": "@jupyter-widgets/controls",
      "_model_module_version": "1.5.0",
      "_model_name": "DescriptionStyleModel",
      "_view_count": null,
      "_view_module": "@jupyter-widgets/base",
      "_view_module_version": "1.2.0",
      "_view_name": "StyleView",
      "description_width": ""
     }
    },
    "e2557516931a4d8eaa045e224895547d": {
     "model_module": "@jupyter-widgets/base",
     "model_name": "LayoutModel",
     "state": {
      "_model_module": "@jupyter-widgets/base",
      "_model_module_version": "1.2.0",
      "_model_name": "LayoutModel",
      "_view_count": null,
      "_view_module": "@jupyter-widgets/base",
      "_view_module_version": "1.2.0",
      "_view_name": "LayoutView",
      "align_content": null,
      "align_items": null,
      "align_self": null,
      "border": null,
      "bottom": null,
      "display": null,
      "flex": null,
      "flex_flow": null,
      "grid_area": null,
      "grid_auto_columns": null,
      "grid_auto_flow": null,
      "grid_auto_rows": null,
      "grid_column": null,
      "grid_gap": null,
      "grid_row": null,
      "grid_template_areas": null,
      "grid_template_columns": null,
      "grid_template_rows": null,
      "height": null,
      "justify_content": null,
      "justify_items": null,
      "left": null,
      "margin": null,
      "max_height": null,
      "max_width": null,
      "min_height": null,
      "min_width": null,
      "object_fit": null,
      "object_position": null,
      "order": null,
      "overflow": null,
      "overflow_x": null,
      "overflow_y": null,
      "padding": null,
      "right": null,
      "top": null,
      "visibility": null,
      "width": null
     }
    },
    "e3e7984fd5ca47c99f0a08ad76ec2145": {
     "model_module": "@jupyter-widgets/base",
     "model_name": "LayoutModel",
     "state": {
      "_model_module": "@jupyter-widgets/base",
      "_model_module_version": "1.2.0",
      "_model_name": "LayoutModel",
      "_view_count": null,
      "_view_module": "@jupyter-widgets/base",
      "_view_module_version": "1.2.0",
      "_view_name": "LayoutView",
      "align_content": null,
      "align_items": null,
      "align_self": null,
      "border": null,
      "bottom": null,
      "display": null,
      "flex": null,
      "flex_flow": null,
      "grid_area": null,
      "grid_auto_columns": null,
      "grid_auto_flow": null,
      "grid_auto_rows": null,
      "grid_column": null,
      "grid_gap": null,
      "grid_row": null,
      "grid_template_areas": null,
      "grid_template_columns": null,
      "grid_template_rows": null,
      "height": null,
      "justify_content": null,
      "justify_items": null,
      "left": null,
      "margin": null,
      "max_height": null,
      "max_width": null,
      "min_height": null,
      "min_width": null,
      "object_fit": null,
      "object_position": null,
      "order": null,
      "overflow": null,
      "overflow_x": null,
      "overflow_y": null,
      "padding": null,
      "right": null,
      "top": null,
      "visibility": null,
      "width": null
     }
    },
    "fa412cbc839a4ff093a08fdabadee81b": {
     "model_module": "@jupyter-widgets/controls",
     "model_name": "HTMLModel",
     "state": {
      "_dom_classes": [],
      "_model_module": "@jupyter-widgets/controls",
      "_model_module_version": "1.5.0",
      "_model_name": "HTMLModel",
      "_view_count": null,
      "_view_module": "@jupyter-widgets/controls",
      "_view_module_version": "1.5.0",
      "_view_name": "HTMLView",
      "description": "",
      "description_tooltip": null,
      "layout": "IPY_MODEL_958947c076144318883744eaf719064e",
      "placeholder": "​",
      "style": "IPY_MODEL_dfaeddd6844c48258a1b9984537871f2",
      "value": " 15/15 [00:39&lt;00:00,  2.62s/ex]"
     }
    }
   }
  }
 },
 "nbformat": 4,
 "nbformat_minor": 1
}
